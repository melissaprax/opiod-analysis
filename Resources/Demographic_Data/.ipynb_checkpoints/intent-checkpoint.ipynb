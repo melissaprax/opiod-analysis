{
 "cells": [
  {
   "cell_type": "code",
   "execution_count": 1,
   "id": "baedef06-d211-46df-87c3-46c27c21a9ba",
   "metadata": {},
   "outputs": [],
   "source": [
    "# Dependencies and Setup\n",
    "import numpy as np\n",
    "import matplotlib.pyplot as plt\n",
    "import pandas as pd\n",
    "import scipy.stats as st\n",
    "import plotly.graph_objects as go\n",
    "import plotly.express as px\n",
    "from wordcloud import WordCloud, STOPWORDS"
   ]
  },
  {
   "cell_type": "code",
   "execution_count": 2,
   "id": "37626227-1803-4f0b-90d5-16f526269419",
   "metadata": {},
   "outputs": [
    {
     "data": {
      "text/html": [
       "<div>\n",
       "<style scoped>\n",
       "    .dataframe tbody tr th:only-of-type {\n",
       "        vertical-align: middle;\n",
       "    }\n",
       "\n",
       "    .dataframe tbody tr th {\n",
       "        vertical-align: top;\n",
       "    }\n",
       "\n",
       "    .dataframe thead th {\n",
       "        text-align: right;\n",
       "    }\n",
       "</style>\n",
       "<table border=\"1\" class=\"dataframe\">\n",
       "  <thead>\n",
       "    <tr style=\"text-align: right;\">\n",
       "      <th></th>\n",
       "      <th>Year</th>\n",
       "      <th>Gender</th>\n",
       "      <th>Intent</th>\n",
       "      <th>Intent.1</th>\n",
       "      <th>Drug type</th>\n",
       "      <th>&lt; 1 year</th>\n",
       "      <th>1-4 years</th>\n",
       "      <th>5-14 years</th>\n",
       "      <th>15-24 years</th>\n",
       "      <th>25-34 years</th>\n",
       "      <th>35-44 years</th>\n",
       "      <th>45-54 years</th>\n",
       "      <th>55-64 years</th>\n",
       "      <th>65-74 years</th>\n",
       "      <th>75-84 years</th>\n",
       "      <th>85+ years</th>\n",
       "      <th>Not stated</th>\n",
       "      <th>All ages</th>\n",
       "    </tr>\n",
       "  </thead>\n",
       "  <tbody>\n",
       "    <tr>\n",
       "      <th>0</th>\n",
       "      <td>2021</td>\n",
       "      <td>Both sexes</td>\n",
       "      <td>All (preventable, intentional, undetermined)</td>\n",
       "      <td>All (preventable, intentional, undetermined)</td>\n",
       "      <td>All drugs</td>\n",
       "      <td>75</td>\n",
       "      <td>126</td>\n",
       "      <td>7426</td>\n",
       "      <td>24070</td>\n",
       "      <td>26908</td>\n",
       "      <td>21875</td>\n",
       "      <td>108</td>\n",
       "      <td>19399</td>\n",
       "      <td>5646</td>\n",
       "      <td>800</td>\n",
       "      <td>256</td>\n",
       "      <td>10.0</td>\n",
       "      <td>106699</td>\n",
       "    </tr>\n",
       "    <tr>\n",
       "      <th>1</th>\n",
       "      <td>2021</td>\n",
       "      <td>Both sexes</td>\n",
       "      <td>All (preventable, intentional, undetermined)</td>\n",
       "      <td>All (preventable, intentional, undetermined)</td>\n",
       "      <td>Any Opioid</td>\n",
       "      <td>43</td>\n",
       "      <td>104</td>\n",
       "      <td>6312</td>\n",
       "      <td>20279</td>\n",
       "      <td>21100</td>\n",
       "      <td>15599</td>\n",
       "      <td>72</td>\n",
       "      <td>13080</td>\n",
       "      <td>3420</td>\n",
       "      <td>312</td>\n",
       "      <td>82</td>\n",
       "      <td>8.0</td>\n",
       "      <td>80411</td>\n",
       "    </tr>\n",
       "    <tr>\n",
       "      <th>2</th>\n",
       "      <td>2021</td>\n",
       "      <td>Both sexes</td>\n",
       "      <td>All (preventable, intentional, undetermined)</td>\n",
       "      <td>All (preventable, intentional, undetermined)</td>\n",
       "      <td>Benzodiazepines</td>\n",
       "      <td>0</td>\n",
       "      <td>0</td>\n",
       "      <td>1118</td>\n",
       "      <td>3056</td>\n",
       "      <td>3203</td>\n",
       "      <td>2374</td>\n",
       "      <td>0</td>\n",
       "      <td>2016</td>\n",
       "      <td>595</td>\n",
       "      <td>91</td>\n",
       "      <td>39</td>\n",
       "      <td>7.0</td>\n",
       "      <td>12499</td>\n",
       "    </tr>\n",
       "    <tr>\n",
       "      <th>3</th>\n",
       "      <td>2021</td>\n",
       "      <td>Both sexes</td>\n",
       "      <td>All (preventable, intentional, undetermined)</td>\n",
       "      <td>All (preventable, intentional, undetermined)</td>\n",
       "      <td>Cannabis</td>\n",
       "      <td>0</td>\n",
       "      <td>0</td>\n",
       "      <td>147</td>\n",
       "      <td>331</td>\n",
       "      <td>295</td>\n",
       "      <td>210</td>\n",
       "      <td>0</td>\n",
       "      <td>153</td>\n",
       "      <td>22</td>\n",
       "      <td>0</td>\n",
       "      <td>0</td>\n",
       "      <td>1.0</td>\n",
       "      <td>1159</td>\n",
       "    </tr>\n",
       "    <tr>\n",
       "      <th>4</th>\n",
       "      <td>2021</td>\n",
       "      <td>Both sexes</td>\n",
       "      <td>All (preventable, intentional, undetermined)</td>\n",
       "      <td>All (preventable, intentional, undetermined)</td>\n",
       "      <td>Cocaine</td>\n",
       "      <td>0</td>\n",
       "      <td>12</td>\n",
       "      <td>1157</td>\n",
       "      <td>4794</td>\n",
       "      <td>6025</td>\n",
       "      <td>5722</td>\n",
       "      <td>0</td>\n",
       "      <td>5411</td>\n",
       "      <td>1275</td>\n",
       "      <td>81</td>\n",
       "      <td>0</td>\n",
       "      <td>9.0</td>\n",
       "      <td>24486</td>\n",
       "    </tr>\n",
       "    <tr>\n",
       "      <th>...</th>\n",
       "      <td>...</td>\n",
       "      <td>...</td>\n",
       "      <td>...</td>\n",
       "      <td>...</td>\n",
       "      <td>...</td>\n",
       "      <td>...</td>\n",
       "      <td>...</td>\n",
       "      <td>...</td>\n",
       "      <td>...</td>\n",
       "      <td>...</td>\n",
       "      <td>...</td>\n",
       "      <td>...</td>\n",
       "      <td>...</td>\n",
       "      <td>...</td>\n",
       "      <td>...</td>\n",
       "      <td>...</td>\n",
       "      <td>...</td>\n",
       "      <td>...</td>\n",
       "    </tr>\n",
       "    <tr>\n",
       "      <th>1375</th>\n",
       "      <td>1999</td>\n",
       "      <td>Male</td>\n",
       "      <td>Preventable/accidental</td>\n",
       "      <td>Preventable/accidental</td>\n",
       "      <td>Opioid subgroup - heroin</td>\n",
       "      <td>0</td>\n",
       "      <td>0</td>\n",
       "      <td>0</td>\n",
       "      <td>135</td>\n",
       "      <td>294</td>\n",
       "      <td>598</td>\n",
       "      <td>382</td>\n",
       "      <td>55</td>\n",
       "      <td>9</td>\n",
       "      <td>4</td>\n",
       "      <td>1</td>\n",
       "      <td>1.0</td>\n",
       "      <td>1479</td>\n",
       "    </tr>\n",
       "    <tr>\n",
       "      <th>1376</th>\n",
       "      <td>1999</td>\n",
       "      <td>Male</td>\n",
       "      <td>Preventable/accidental</td>\n",
       "      <td>Preventable/accidental</td>\n",
       "      <td>Opioid subgroup - methadone</td>\n",
       "      <td>0</td>\n",
       "      <td>0</td>\n",
       "      <td>0</td>\n",
       "      <td>35</td>\n",
       "      <td>88</td>\n",
       "      <td>187</td>\n",
       "      <td>101</td>\n",
       "      <td>13</td>\n",
       "      <td>3</td>\n",
       "      <td>0</td>\n",
       "      <td>0</td>\n",
       "      <td>0.0</td>\n",
       "      <td>427</td>\n",
       "    </tr>\n",
       "    <tr>\n",
       "      <th>1377</th>\n",
       "      <td>1999</td>\n",
       "      <td>Male</td>\n",
       "      <td>Preventable/accidental</td>\n",
       "      <td>Preventable/accidental</td>\n",
       "      <td>Opioid subgroup – including fentanyl</td>\n",
       "      <td>0</td>\n",
       "      <td>0</td>\n",
       "      <td>0</td>\n",
       "      <td>23</td>\n",
       "      <td>43</td>\n",
       "      <td>103</td>\n",
       "      <td>56</td>\n",
       "      <td>17</td>\n",
       "      <td>5</td>\n",
       "      <td>2</td>\n",
       "      <td>0</td>\n",
       "      <td>0.0</td>\n",
       "      <td>249</td>\n",
       "    </tr>\n",
       "    <tr>\n",
       "      <th>1378</th>\n",
       "      <td>1999</td>\n",
       "      <td>Male</td>\n",
       "      <td>Preventable/accidental</td>\n",
       "      <td>Preventable/accidental</td>\n",
       "      <td>Opioid subgroup – including oxycodone and hydr...</td>\n",
       "      <td>0</td>\n",
       "      <td>1</td>\n",
       "      <td>2</td>\n",
       "      <td>110</td>\n",
       "      <td>329</td>\n",
       "      <td>639</td>\n",
       "      <td>410</td>\n",
       "      <td>60</td>\n",
       "      <td>19</td>\n",
       "      <td>2</td>\n",
       "      <td>0</td>\n",
       "      <td>2.0</td>\n",
       "      <td>1574</td>\n",
       "    </tr>\n",
       "    <tr>\n",
       "      <th>1379</th>\n",
       "      <td>1999</td>\n",
       "      <td>Male</td>\n",
       "      <td>Preventable/accidental</td>\n",
       "      <td>Preventable/accidental</td>\n",
       "      <td>Psychostimulants – incl. methamphetamine</td>\n",
       "      <td>0</td>\n",
       "      <td>0</td>\n",
       "      <td>0</td>\n",
       "      <td>35</td>\n",
       "      <td>80</td>\n",
       "      <td>129</td>\n",
       "      <td>70</td>\n",
       "      <td>10</td>\n",
       "      <td>3</td>\n",
       "      <td>0</td>\n",
       "      <td>0</td>\n",
       "      <td>0.0</td>\n",
       "      <td>327</td>\n",
       "    </tr>\n",
       "  </tbody>\n",
       "</table>\n",
       "<p>1380 rows × 18 columns</p>\n",
       "</div>"
      ],
      "text/plain": [
       "      Year      Gender                                        Intent  \\\n",
       "0     2021  Both sexes  All (preventable, intentional, undetermined)   \n",
       "1     2021  Both sexes  All (preventable, intentional, undetermined)   \n",
       "2     2021  Both sexes  All (preventable, intentional, undetermined)   \n",
       "3     2021  Both sexes  All (preventable, intentional, undetermined)   \n",
       "4     2021  Both sexes  All (preventable, intentional, undetermined)   \n",
       "...    ...         ...                                           ...   \n",
       "1375  1999        Male                        Preventable/accidental   \n",
       "1376  1999        Male                        Preventable/accidental   \n",
       "1377  1999        Male                        Preventable/accidental   \n",
       "1378  1999        Male                        Preventable/accidental   \n",
       "1379  1999        Male                        Preventable/accidental   \n",
       "\n",
       "                                          Intent.1  \\\n",
       "0     All (preventable, intentional, undetermined)   \n",
       "1     All (preventable, intentional, undetermined)   \n",
       "2     All (preventable, intentional, undetermined)   \n",
       "3     All (preventable, intentional, undetermined)   \n",
       "4     All (preventable, intentional, undetermined)   \n",
       "...                                            ...   \n",
       "1375                        Preventable/accidental   \n",
       "1376                        Preventable/accidental   \n",
       "1377                        Preventable/accidental   \n",
       "1378                        Preventable/accidental   \n",
       "1379                        Preventable/accidental   \n",
       "\n",
       "                                              Drug type  < 1 year  1-4 years  \\\n",
       "0                                             All drugs        75        126   \n",
       "1                                            Any Opioid        43        104   \n",
       "2                                       Benzodiazepines         0          0   \n",
       "3                                              Cannabis         0          0   \n",
       "4                                               Cocaine         0         12   \n",
       "...                                                 ...       ...        ...   \n",
       "1375                           Opioid subgroup - heroin         0          0   \n",
       "1376                        Opioid subgroup - methadone         0          0   \n",
       "1377               Opioid subgroup – including fentanyl         0          0   \n",
       "1378  Opioid subgroup – including oxycodone and hydr...         0          1   \n",
       "1379           Psychostimulants – incl. methamphetamine         0          0   \n",
       "\n",
       "      5-14 years  15-24 years  25-34 years  35-44 years 45-54 years  \\\n",
       "0           7426        24070        26908        21875         108   \n",
       "1           6312        20279        21100        15599          72   \n",
       "2           1118         3056         3203         2374           0   \n",
       "3            147          331          295          210           0   \n",
       "4           1157         4794         6025         5722           0   \n",
       "...          ...          ...          ...          ...         ...   \n",
       "1375           0          135          294          598         382   \n",
       "1376           0           35           88          187         101   \n",
       "1377           0           23           43          103          56   \n",
       "1378           2          110          329          639         410   \n",
       "1379           0           35           80          129          70   \n",
       "\n",
       "      55-64 years  65-74 years  75-84 years  85+ years  Not stated  All ages  \n",
       "0           19399         5646          800        256        10.0    106699  \n",
       "1           13080         3420          312         82         8.0     80411  \n",
       "2            2016          595           91         39         7.0     12499  \n",
       "3             153           22            0          0         1.0      1159  \n",
       "4            5411         1275           81          0         9.0     24486  \n",
       "...           ...          ...          ...        ...         ...       ...  \n",
       "1375           55            9            4          1         1.0      1479  \n",
       "1376           13            3            0          0         0.0       427  \n",
       "1377           17            5            2          0         0.0       249  \n",
       "1378           60           19            2          0         2.0      1574  \n",
       "1379           10            3            0          0         0.0       327  \n",
       "\n",
       "[1380 rows x 18 columns]"
      ]
     },
     "execution_count": 2,
     "metadata": {},
     "output_type": "execute_result"
    }
   ],
   "source": [
    "intentData = \"Cleaned_Drug Poisoning deaths and rates .csv\"\n",
    "\n",
    "data = pd.read_csv(intentData)\n",
    "\n",
    "df = pd.DataFrame(data)\n",
    "\n",
    "df"
   ]
  },
  {
   "cell_type": "code",
   "execution_count": 3,
   "id": "0654f133-1350-4ce8-b8b3-cfe49cb781cd",
   "metadata": {},
   "outputs": [],
   "source": [
    "yearsList = [2014, 2015, 2016, 2017, 2018, 2019, 2020]"
   ]
  },
  {
   "cell_type": "code",
   "execution_count": 4,
   "id": "463ca351-c59a-4b51-bfd4-8eb436c56038",
   "metadata": {},
   "outputs": [
    {
     "data": {
      "text/html": [
       "<div>\n",
       "<style scoped>\n",
       "    .dataframe tbody tr th:only-of-type {\n",
       "        vertical-align: middle;\n",
       "    }\n",
       "\n",
       "    .dataframe tbody tr th {\n",
       "        vertical-align: top;\n",
       "    }\n",
       "\n",
       "    .dataframe thead th {\n",
       "        text-align: right;\n",
       "    }\n",
       "</style>\n",
       "<table border=\"1\" class=\"dataframe\">\n",
       "  <thead>\n",
       "    <tr style=\"text-align: right;\">\n",
       "      <th></th>\n",
       "      <th>Year</th>\n",
       "      <th>Gender</th>\n",
       "      <th>Intent</th>\n",
       "      <th>Intent.1</th>\n",
       "      <th>Drug type</th>\n",
       "      <th>&lt; 1 year</th>\n",
       "      <th>1-4 years</th>\n",
       "      <th>5-14 years</th>\n",
       "      <th>15-24 years</th>\n",
       "      <th>25-34 years</th>\n",
       "      <th>35-44 years</th>\n",
       "      <th>45-54 years</th>\n",
       "      <th>55-64 years</th>\n",
       "      <th>65-74 years</th>\n",
       "      <th>75-84 years</th>\n",
       "      <th>85+ years</th>\n",
       "      <th>Not stated</th>\n",
       "      <th>All ages</th>\n",
       "    </tr>\n",
       "  </thead>\n",
       "  <tbody>\n",
       "    <tr>\n",
       "      <th>60</th>\n",
       "      <td>2020</td>\n",
       "      <td>Both sexes</td>\n",
       "      <td>All (preventable, intentional, undetermined)</td>\n",
       "      <td>All (preventable, intentional, undetermined)</td>\n",
       "      <td>All drugs</td>\n",
       "      <td>65</td>\n",
       "      <td>70</td>\n",
       "      <td>112</td>\n",
       "      <td>7095</td>\n",
       "      <td>21784</td>\n",
       "      <td>22710</td>\n",
       "      <td>18,919</td>\n",
       "      <td>15819</td>\n",
       "      <td>4291</td>\n",
       "      <td>655</td>\n",
       "      <td>263</td>\n",
       "      <td>16.0</td>\n",
       "      <td>91799</td>\n",
       "    </tr>\n",
       "    <tr>\n",
       "      <th>61</th>\n",
       "      <td>2020</td>\n",
       "      <td>Both sexes</td>\n",
       "      <td>All (preventable, intentional, undetermined)</td>\n",
       "      <td>All (preventable, intentional, undetermined)</td>\n",
       "      <td>Any Opioid</td>\n",
       "      <td>24</td>\n",
       "      <td>58</td>\n",
       "      <td>61</td>\n",
       "      <td>5986</td>\n",
       "      <td>18239</td>\n",
       "      <td>17666</td>\n",
       "      <td>13,258</td>\n",
       "      <td>10445</td>\n",
       "      <td>2554</td>\n",
       "      <td>254</td>\n",
       "      <td>76</td>\n",
       "      <td>9.0</td>\n",
       "      <td>68630</td>\n",
       "    </tr>\n",
       "    <tr>\n",
       "      <th>62</th>\n",
       "      <td>2020</td>\n",
       "      <td>Both sexes</td>\n",
       "      <td>All (preventable, intentional, undetermined)</td>\n",
       "      <td>All (preventable, intentional, undetermined)</td>\n",
       "      <td>Benzodiazepines</td>\n",
       "      <td>1</td>\n",
       "      <td>1</td>\n",
       "      <td>6</td>\n",
       "      <td>1267</td>\n",
       "      <td>3073</td>\n",
       "      <td>3069</td>\n",
       "      <td>2,287</td>\n",
       "      <td>1933</td>\n",
       "      <td>535</td>\n",
       "      <td>84</td>\n",
       "      <td>34</td>\n",
       "      <td>0.0</td>\n",
       "      <td>12290</td>\n",
       "    </tr>\n",
       "    <tr>\n",
       "      <th>63</th>\n",
       "      <td>2020</td>\n",
       "      <td>Both sexes</td>\n",
       "      <td>All (preventable, intentional, undetermined)</td>\n",
       "      <td>All (preventable, intentional, undetermined)</td>\n",
       "      <td>Cannabis</td>\n",
       "      <td>1</td>\n",
       "      <td>0</td>\n",
       "      <td>1</td>\n",
       "      <td>149</td>\n",
       "      <td>300</td>\n",
       "      <td>270</td>\n",
       "      <td>171</td>\n",
       "      <td>114</td>\n",
       "      <td>22</td>\n",
       "      <td>0</td>\n",
       "      <td>0</td>\n",
       "      <td>0.0</td>\n",
       "      <td>1028</td>\n",
       "    </tr>\n",
       "    <tr>\n",
       "      <th>64</th>\n",
       "      <td>2020</td>\n",
       "      <td>Both sexes</td>\n",
       "      <td>All (preventable, intentional, undetermined)</td>\n",
       "      <td>All (preventable, intentional, undetermined)</td>\n",
       "      <td>Cocaine</td>\n",
       "      <td>3</td>\n",
       "      <td>1</td>\n",
       "      <td>1</td>\n",
       "      <td>1089</td>\n",
       "      <td>4366</td>\n",
       "      <td>4796</td>\n",
       "      <td>4,487</td>\n",
       "      <td>3807</td>\n",
       "      <td>842</td>\n",
       "      <td>50</td>\n",
       "      <td>3</td>\n",
       "      <td>2.0</td>\n",
       "      <td>19447</td>\n",
       "    </tr>\n",
       "    <tr>\n",
       "      <th>...</th>\n",
       "      <td>...</td>\n",
       "      <td>...</td>\n",
       "      <td>...</td>\n",
       "      <td>...</td>\n",
       "      <td>...</td>\n",
       "      <td>...</td>\n",
       "      <td>...</td>\n",
       "      <td>...</td>\n",
       "      <td>...</td>\n",
       "      <td>...</td>\n",
       "      <td>...</td>\n",
       "      <td>...</td>\n",
       "      <td>...</td>\n",
       "      <td>...</td>\n",
       "      <td>...</td>\n",
       "      <td>...</td>\n",
       "      <td>...</td>\n",
       "      <td>...</td>\n",
       "    </tr>\n",
       "    <tr>\n",
       "      <th>475</th>\n",
       "      <td>2014</td>\n",
       "      <td>Male</td>\n",
       "      <td>Preventable/accidental</td>\n",
       "      <td>Preventable/accidental</td>\n",
       "      <td>Opioid subgroup - heroin</td>\n",
       "      <td>0</td>\n",
       "      <td>0</td>\n",
       "      <td>0</td>\n",
       "      <td>1026</td>\n",
       "      <td>2563</td>\n",
       "      <td>1775</td>\n",
       "      <td>1,442</td>\n",
       "      <td>805</td>\n",
       "      <td>106</td>\n",
       "      <td>4</td>\n",
       "      <td>1</td>\n",
       "      <td>0.0</td>\n",
       "      <td>7722</td>\n",
       "    </tr>\n",
       "    <tr>\n",
       "      <th>476</th>\n",
       "      <td>2014</td>\n",
       "      <td>Male</td>\n",
       "      <td>Preventable/accidental</td>\n",
       "      <td>Preventable/accidental</td>\n",
       "      <td>Opioid subgroup - methadone</td>\n",
       "      <td>0</td>\n",
       "      <td>1</td>\n",
       "      <td>1</td>\n",
       "      <td>162</td>\n",
       "      <td>484</td>\n",
       "      <td>408</td>\n",
       "      <td>403</td>\n",
       "      <td>317</td>\n",
       "      <td>40</td>\n",
       "      <td>2</td>\n",
       "      <td>0</td>\n",
       "      <td>0.0</td>\n",
       "      <td>1818</td>\n",
       "    </tr>\n",
       "    <tr>\n",
       "      <th>477</th>\n",
       "      <td>2014</td>\n",
       "      <td>Male</td>\n",
       "      <td>Preventable/accidental</td>\n",
       "      <td>Preventable/accidental</td>\n",
       "      <td>Opioid subgroup – including fentanyl</td>\n",
       "      <td>1</td>\n",
       "      <td>1</td>\n",
       "      <td>1</td>\n",
       "      <td>335</td>\n",
       "      <td>970</td>\n",
       "      <td>708</td>\n",
       "      <td>665</td>\n",
       "      <td>329</td>\n",
       "      <td>37</td>\n",
       "      <td>4</td>\n",
       "      <td>1</td>\n",
       "      <td>0.0</td>\n",
       "      <td>3052</td>\n",
       "    </tr>\n",
       "    <tr>\n",
       "      <th>478</th>\n",
       "      <td>2014</td>\n",
       "      <td>Male</td>\n",
       "      <td>Preventable/accidental</td>\n",
       "      <td>Preventable/accidental</td>\n",
       "      <td>Opioid subgroup – including oxycodone and hydr...</td>\n",
       "      <td>1</td>\n",
       "      <td>2</td>\n",
       "      <td>6</td>\n",
       "      <td>477</td>\n",
       "      <td>1289</td>\n",
       "      <td>1269</td>\n",
       "      <td>1,531</td>\n",
       "      <td>990</td>\n",
       "      <td>150</td>\n",
       "      <td>17</td>\n",
       "      <td>3</td>\n",
       "      <td>1.0</td>\n",
       "      <td>5736</td>\n",
       "    </tr>\n",
       "    <tr>\n",
       "      <th>479</th>\n",
       "      <td>2014</td>\n",
       "      <td>Male</td>\n",
       "      <td>Preventable/accidental</td>\n",
       "      <td>Preventable/accidental</td>\n",
       "      <td>Psychostimulants – incl. methamphetamine</td>\n",
       "      <td>0</td>\n",
       "      <td>0</td>\n",
       "      <td>0</td>\n",
       "      <td>221</td>\n",
       "      <td>627</td>\n",
       "      <td>621</td>\n",
       "      <td>808</td>\n",
       "      <td>480</td>\n",
       "      <td>68</td>\n",
       "      <td>2</td>\n",
       "      <td>1</td>\n",
       "      <td>1.0</td>\n",
       "      <td>2829</td>\n",
       "    </tr>\n",
       "  </tbody>\n",
       "</table>\n",
       "<p>420 rows × 18 columns</p>\n",
       "</div>"
      ],
      "text/plain": [
       "     Year      Gender                                        Intent  \\\n",
       "60   2020  Both sexes  All (preventable, intentional, undetermined)   \n",
       "61   2020  Both sexes  All (preventable, intentional, undetermined)   \n",
       "62   2020  Both sexes  All (preventable, intentional, undetermined)   \n",
       "63   2020  Both sexes  All (preventable, intentional, undetermined)   \n",
       "64   2020  Both sexes  All (preventable, intentional, undetermined)   \n",
       "..    ...         ...                                           ...   \n",
       "475  2014        Male                        Preventable/accidental   \n",
       "476  2014        Male                        Preventable/accidental   \n",
       "477  2014        Male                        Preventable/accidental   \n",
       "478  2014        Male                        Preventable/accidental   \n",
       "479  2014        Male                        Preventable/accidental   \n",
       "\n",
       "                                         Intent.1  \\\n",
       "60   All (preventable, intentional, undetermined)   \n",
       "61   All (preventable, intentional, undetermined)   \n",
       "62   All (preventable, intentional, undetermined)   \n",
       "63   All (preventable, intentional, undetermined)   \n",
       "64   All (preventable, intentional, undetermined)   \n",
       "..                                            ...   \n",
       "475                        Preventable/accidental   \n",
       "476                        Preventable/accidental   \n",
       "477                        Preventable/accidental   \n",
       "478                        Preventable/accidental   \n",
       "479                        Preventable/accidental   \n",
       "\n",
       "                                             Drug type  < 1 year  1-4 years  \\\n",
       "60                                           All drugs        65         70   \n",
       "61                                          Any Opioid        24         58   \n",
       "62                                     Benzodiazepines         1          1   \n",
       "63                                            Cannabis         1          0   \n",
       "64                                             Cocaine         3          1   \n",
       "..                                                 ...       ...        ...   \n",
       "475                           Opioid subgroup - heroin         0          0   \n",
       "476                        Opioid subgroup - methadone         0          1   \n",
       "477               Opioid subgroup – including fentanyl         1          1   \n",
       "478  Opioid subgroup – including oxycodone and hydr...         1          2   \n",
       "479           Psychostimulants – incl. methamphetamine         0          0   \n",
       "\n",
       "     5-14 years  15-24 years  25-34 years  35-44 years 45-54 years  \\\n",
       "60          112         7095        21784        22710      18,919   \n",
       "61           61         5986        18239        17666      13,258   \n",
       "62            6         1267         3073         3069       2,287   \n",
       "63            1          149          300          270         171   \n",
       "64            1         1089         4366         4796       4,487   \n",
       "..          ...          ...          ...          ...         ...   \n",
       "475           0         1026         2563         1775       1,442   \n",
       "476           1          162          484          408         403   \n",
       "477           1          335          970          708         665   \n",
       "478           6          477         1289         1269       1,531   \n",
       "479           0          221          627          621         808   \n",
       "\n",
       "     55-64 years  65-74 years  75-84 years  85+ years  Not stated  All ages  \n",
       "60         15819         4291          655        263        16.0     91799  \n",
       "61         10445         2554          254         76         9.0     68630  \n",
       "62          1933          535           84         34         0.0     12290  \n",
       "63           114           22            0          0         0.0      1028  \n",
       "64          3807          842           50          3         2.0     19447  \n",
       "..           ...          ...          ...        ...         ...       ...  \n",
       "475          805          106            4          1         0.0      7722  \n",
       "476          317           40            2          0         0.0      1818  \n",
       "477          329           37            4          1         0.0      3052  \n",
       "478          990          150           17          3         1.0      5736  \n",
       "479          480           68            2          1         1.0      2829  \n",
       "\n",
       "[420 rows x 18 columns]"
      ]
     },
     "execution_count": 4,
     "metadata": {},
     "output_type": "execute_result"
    }
   ],
   "source": [
    "yearsBool = df.Year.isin(yearsList)\n",
    "yearsBool\n",
    "yearsDf = df[yearsBool]\n",
    "yearsDf"
   ]
  },
  {
   "cell_type": "code",
   "execution_count": 5,
   "id": "5b435a63-bd20-4aa7-ba91-2454d3211fd9",
   "metadata": {},
   "outputs": [
    {
     "data": {
      "text/plain": [
       "Year             int64\n",
       "Gender          object\n",
       "Intent          object\n",
       "Intent.1        object\n",
       "Drug type       object\n",
       "< 1 year         int64\n",
       "1-4 years        int64\n",
       "5-14 years       int64\n",
       "15-24 years      int64\n",
       "25-34 years      int64\n",
       "35-44 years      int64\n",
       "45-54 years     object\n",
       "55-64 years      int64\n",
       "65-74 years      int64\n",
       "75-84 years      int64\n",
       "85+ years        int64\n",
       "Not stated     float64\n",
       "All ages         int64\n",
       "dtype: object"
      ]
     },
     "execution_count": 5,
     "metadata": {},
     "output_type": "execute_result"
    }
   ],
   "source": [
    "yearsDf.dtypes\n"
   ]
  },
  {
   "cell_type": "code",
   "execution_count": 6,
   "id": "f3412523-5478-4537-9778-fd5a9980c36b",
   "metadata": {},
   "outputs": [
    {
     "data": {
      "text/plain": [
       "420"
      ]
     },
     "execution_count": 6,
     "metadata": {},
     "output_type": "execute_result"
    }
   ],
   "source": [
    "yearsDf['Drug type'].count()"
   ]
  },
  {
   "cell_type": "code",
   "execution_count": 7,
   "id": "309894d4-82f0-4de1-8e4a-c60b17284503",
   "metadata": {},
   "outputs": [
    {
     "data": {
      "text/html": [
       "<div>\n",
       "<style scoped>\n",
       "    .dataframe tbody tr th:only-of-type {\n",
       "        vertical-align: middle;\n",
       "    }\n",
       "\n",
       "    .dataframe tbody tr th {\n",
       "        vertical-align: top;\n",
       "    }\n",
       "\n",
       "    .dataframe thead th {\n",
       "        text-align: right;\n",
       "    }\n",
       "</style>\n",
       "<table border=\"1\" class=\"dataframe\">\n",
       "  <thead>\n",
       "    <tr style=\"text-align: right;\">\n",
       "      <th></th>\n",
       "      <th>Year</th>\n",
       "      <th>Drug type</th>\n",
       "      <th>All ages</th>\n",
       "    </tr>\n",
       "  </thead>\n",
       "  <tbody>\n",
       "    <tr>\n",
       "      <th>60</th>\n",
       "      <td>2020</td>\n",
       "      <td>All drugs</td>\n",
       "      <td>91799</td>\n",
       "    </tr>\n",
       "    <tr>\n",
       "      <th>61</th>\n",
       "      <td>2020</td>\n",
       "      <td>Any Opioid</td>\n",
       "      <td>68630</td>\n",
       "    </tr>\n",
       "    <tr>\n",
       "      <th>62</th>\n",
       "      <td>2020</td>\n",
       "      <td>Benzodiazepines</td>\n",
       "      <td>12290</td>\n",
       "    </tr>\n",
       "    <tr>\n",
       "      <th>63</th>\n",
       "      <td>2020</td>\n",
       "      <td>Cannabis</td>\n",
       "      <td>1028</td>\n",
       "    </tr>\n",
       "    <tr>\n",
       "      <th>64</th>\n",
       "      <td>2020</td>\n",
       "      <td>Cocaine</td>\n",
       "      <td>19447</td>\n",
       "    </tr>\n",
       "    <tr>\n",
       "      <th>...</th>\n",
       "      <td>...</td>\n",
       "      <td>...</td>\n",
       "      <td>...</td>\n",
       "    </tr>\n",
       "    <tr>\n",
       "      <th>475</th>\n",
       "      <td>2014</td>\n",
       "      <td>Opioid subgroup - heroin</td>\n",
       "      <td>7722</td>\n",
       "    </tr>\n",
       "    <tr>\n",
       "      <th>476</th>\n",
       "      <td>2014</td>\n",
       "      <td>Opioid subgroup - methadone</td>\n",
       "      <td>1818</td>\n",
       "    </tr>\n",
       "    <tr>\n",
       "      <th>477</th>\n",
       "      <td>2014</td>\n",
       "      <td>Opioid subgroup – including fentanyl</td>\n",
       "      <td>3052</td>\n",
       "    </tr>\n",
       "    <tr>\n",
       "      <th>478</th>\n",
       "      <td>2014</td>\n",
       "      <td>Opioid subgroup – including oxycodone and hydr...</td>\n",
       "      <td>5736</td>\n",
       "    </tr>\n",
       "    <tr>\n",
       "      <th>479</th>\n",
       "      <td>2014</td>\n",
       "      <td>Psychostimulants – incl. methamphetamine</td>\n",
       "      <td>2829</td>\n",
       "    </tr>\n",
       "  </tbody>\n",
       "</table>\n",
       "<p>420 rows × 3 columns</p>\n",
       "</div>"
      ],
      "text/plain": [
       "     Year                                          Drug type  All ages\n",
       "60   2020                                          All drugs     91799\n",
       "61   2020                                         Any Opioid     68630\n",
       "62   2020                                    Benzodiazepines     12290\n",
       "63   2020                                           Cannabis      1028\n",
       "64   2020                                            Cocaine     19447\n",
       "..    ...                                                ...       ...\n",
       "475  2014                           Opioid subgroup - heroin      7722\n",
       "476  2014                        Opioid subgroup - methadone      1818\n",
       "477  2014               Opioid subgroup – including fentanyl      3052\n",
       "478  2014  Opioid subgroup – including oxycodone and hydr...      5736\n",
       "479  2014           Psychostimulants – incl. methamphetamine      2829\n",
       "\n",
       "[420 rows x 3 columns]"
      ]
     },
     "execution_count": 7,
     "metadata": {},
     "output_type": "execute_result"
    }
   ],
   "source": [
    "drugDf = yearsDf[['Year', 'Drug type', 'All ages']]\n",
    "drugDf"
   ]
  },
  {
   "cell_type": "code",
   "execution_count": 30,
   "id": "b2312b7e-6660-4303-9f96-a973cf61e07b",
   "metadata": {},
   "outputs": [
    {
     "data": {
      "text/plain": [
       "Year\n",
       "2014     465604\n",
       "2015     546388\n",
       "2016     708848\n",
       "2017     819805\n",
       "2018     817896\n",
       "2019     870342\n",
       "2020    1173032\n",
       "Name: All ages, dtype: int64"
      ]
     },
     "execution_count": 30,
     "metadata": {},
     "output_type": "execute_result"
    }
   ],
   "source": [
    "# df analysis\n",
    "# start at no age (All ages)\n",
    "#use Year as contious variable for x axis \n",
    "drugDf['All ages'].sum()\n",
    "yearGroup = drugDf.groupby(['Year'])['All ages'].sum()\n",
    "yearGroup"
   ]
  },
  {
   "cell_type": "code",
   "execution_count": 175,
   "id": "efe27f59-510f-46e5-b778-407f07e02ac5",
   "metadata": {},
   "outputs": [
    {
     "data": {
      "text/html": [
       "<div>\n",
       "<style scoped>\n",
       "    .dataframe tbody tr th:only-of-type {\n",
       "        vertical-align: middle;\n",
       "    }\n",
       "\n",
       "    .dataframe tbody tr th {\n",
       "        vertical-align: top;\n",
       "    }\n",
       "\n",
       "    .dataframe thead th {\n",
       "        text-align: right;\n",
       "    }\n",
       "</style>\n",
       "<table border=\"1\" class=\"dataframe\">\n",
       "  <thead>\n",
       "    <tr style=\"text-align: right;\">\n",
       "      <th></th>\n",
       "      <th>Year</th>\n",
       "      <th>deaths</th>\n",
       "      <th>Type</th>\n",
       "    </tr>\n",
       "  </thead>\n",
       "  <tbody>\n",
       "    <tr>\n",
       "      <th>0</th>\n",
       "      <td>2014</td>\n",
       "      <td>465604</td>\n",
       "      <td>General</td>\n",
       "    </tr>\n",
       "    <tr>\n",
       "      <th>1</th>\n",
       "      <td>2015</td>\n",
       "      <td>546388</td>\n",
       "      <td>General</td>\n",
       "    </tr>\n",
       "    <tr>\n",
       "      <th>2</th>\n",
       "      <td>2016</td>\n",
       "      <td>708848</td>\n",
       "      <td>General</td>\n",
       "    </tr>\n",
       "    <tr>\n",
       "      <th>3</th>\n",
       "      <td>2017</td>\n",
       "      <td>819805</td>\n",
       "      <td>General</td>\n",
       "    </tr>\n",
       "    <tr>\n",
       "      <th>4</th>\n",
       "      <td>2018</td>\n",
       "      <td>817896</td>\n",
       "      <td>General</td>\n",
       "    </tr>\n",
       "    <tr>\n",
       "      <th>5</th>\n",
       "      <td>2019</td>\n",
       "      <td>870342</td>\n",
       "      <td>General</td>\n",
       "    </tr>\n",
       "    <tr>\n",
       "      <th>6</th>\n",
       "      <td>2020</td>\n",
       "      <td>1173032</td>\n",
       "      <td>General</td>\n",
       "    </tr>\n",
       "  </tbody>\n",
       "</table>\n",
       "</div>"
      ],
      "text/plain": [
       "   Year   deaths     Type\n",
       "0  2014   465604  General\n",
       "1  2015   546388  General\n",
       "2  2016   708848  General\n",
       "3  2017   819805  General\n",
       "4  2018   817896  General\n",
       "5  2019   870342  General\n",
       "6  2020  1173032  General"
      ]
     },
     "execution_count": 175,
     "metadata": {},
     "output_type": "execute_result"
    }
   ],
   "source": [
    "drugGroupby = drugDf.groupby(['Year'], as_index=False)['All ages'].sum()\n",
    "drugGroupby = drugGroupby.rename(columns={'All ages' : 'deaths'})\n",
    "drugGroupby['Type'] = ['General', 'General', 'General', 'General', 'General', 'General', 'General']\n",
    "drugGroupby"
   ]
  },
  {
   "cell_type": "code",
   "execution_count": 176,
   "id": "728b7c29-3628-4353-a3ce-5daf7eb74f5a",
   "metadata": {},
   "outputs": [
    {
     "data": {
      "text/html": [
       "<div>\n",
       "<style scoped>\n",
       "    .dataframe tbody tr th:only-of-type {\n",
       "        vertical-align: middle;\n",
       "    }\n",
       "\n",
       "    .dataframe tbody tr th {\n",
       "        vertical-align: top;\n",
       "    }\n",
       "\n",
       "    .dataframe thead th {\n",
       "        text-align: right;\n",
       "    }\n",
       "</style>\n",
       "<table border=\"1\" class=\"dataframe\">\n",
       "  <thead>\n",
       "    <tr style=\"text-align: right;\">\n",
       "      <th></th>\n",
       "      <th>Year</th>\n",
       "      <th>deaths</th>\n",
       "      <th>Type</th>\n",
       "    </tr>\n",
       "  </thead>\n",
       "  <tbody>\n",
       "    <tr>\n",
       "      <th>0</th>\n",
       "      <td>2014</td>\n",
       "      <td>226312</td>\n",
       "      <td>Opioid</td>\n",
       "    </tr>\n",
       "    <tr>\n",
       "      <th>1</th>\n",
       "      <td>2015</td>\n",
       "      <td>271078</td>\n",
       "      <td>Opioid</td>\n",
       "    </tr>\n",
       "    <tr>\n",
       "      <th>2</th>\n",
       "      <td>2016</td>\n",
       "      <td>360408</td>\n",
       "      <td>Opioid</td>\n",
       "    </tr>\n",
       "    <tr>\n",
       "      <th>3</th>\n",
       "      <td>2017</td>\n",
       "      <td>416664</td>\n",
       "      <td>Opioid</td>\n",
       "    </tr>\n",
       "    <tr>\n",
       "      <th>4</th>\n",
       "      <td>2018</td>\n",
       "      <td>415872</td>\n",
       "      <td>Opioid</td>\n",
       "    </tr>\n",
       "    <tr>\n",
       "      <th>5</th>\n",
       "      <td>2019</td>\n",
       "      <td>440228</td>\n",
       "      <td>Opioid</td>\n",
       "    </tr>\n",
       "    <tr>\n",
       "      <th>6</th>\n",
       "      <td>2020</td>\n",
       "      <td>601886</td>\n",
       "      <td>Opioid</td>\n",
       "    </tr>\n",
       "  </tbody>\n",
       "</table>\n",
       "</div>"
      ],
      "text/plain": [
       "   Year  deaths    Type\n",
       "0  2014  226312  Opioid\n",
       "1  2015  271078  Opioid\n",
       "2  2016  360408  Opioid\n",
       "3  2017  416664  Opioid\n",
       "4  2018  415872  Opioid\n",
       "5  2019  440228  Opioid\n",
       "6  2020  601886  Opioid"
      ]
     },
     "execution_count": 176,
     "metadata": {},
     "output_type": "execute_result"
    }
   ],
   "source": [
    "opioidGroupby = opioidDf.groupby(['Year'], as_index=False)['All ages'].sum()\n",
    "opioidGroupby = opioidGroupby.rename(columns={'All ages' : 'deaths'})\n",
    "opioidGroupby['Type'] = ['Opioid', 'Opioid', 'Opioid', 'Opioid', 'Opioid', 'Opioid', 'Opioid']\n",
    "opioidGroupby"
   ]
  },
  {
   "cell_type": "code",
   "execution_count": 177,
   "id": "5731a4da-bff1-40a3-bb53-ad4b5b8008db",
   "metadata": {},
   "outputs": [
    {
     "data": {
      "text/html": [
       "<div>\n",
       "<style scoped>\n",
       "    .dataframe tbody tr th:only-of-type {\n",
       "        vertical-align: middle;\n",
       "    }\n",
       "\n",
       "    .dataframe tbody tr th {\n",
       "        vertical-align: top;\n",
       "    }\n",
       "\n",
       "    .dataframe thead th {\n",
       "        text-align: right;\n",
       "    }\n",
       "</style>\n",
       "<table border=\"1\" class=\"dataframe\">\n",
       "  <thead>\n",
       "    <tr style=\"text-align: right;\">\n",
       "      <th></th>\n",
       "      <th>Year</th>\n",
       "      <th>deaths</th>\n",
       "      <th>Type</th>\n",
       "    </tr>\n",
       "  </thead>\n",
       "  <tbody>\n",
       "    <tr>\n",
       "      <th>0</th>\n",
       "      <td>2014</td>\n",
       "      <td>465604</td>\n",
       "      <td>General</td>\n",
       "    </tr>\n",
       "    <tr>\n",
       "      <th>1</th>\n",
       "      <td>2015</td>\n",
       "      <td>546388</td>\n",
       "      <td>General</td>\n",
       "    </tr>\n",
       "    <tr>\n",
       "      <th>2</th>\n",
       "      <td>2016</td>\n",
       "      <td>708848</td>\n",
       "      <td>General</td>\n",
       "    </tr>\n",
       "    <tr>\n",
       "      <th>3</th>\n",
       "      <td>2017</td>\n",
       "      <td>819805</td>\n",
       "      <td>General</td>\n",
       "    </tr>\n",
       "    <tr>\n",
       "      <th>4</th>\n",
       "      <td>2018</td>\n",
       "      <td>817896</td>\n",
       "      <td>General</td>\n",
       "    </tr>\n",
       "    <tr>\n",
       "      <th>5</th>\n",
       "      <td>2019</td>\n",
       "      <td>870342</td>\n",
       "      <td>General</td>\n",
       "    </tr>\n",
       "    <tr>\n",
       "      <th>6</th>\n",
       "      <td>2020</td>\n",
       "      <td>1173032</td>\n",
       "      <td>General</td>\n",
       "    </tr>\n",
       "    <tr>\n",
       "      <th>0</th>\n",
       "      <td>2014</td>\n",
       "      <td>226312</td>\n",
       "      <td>Opioid</td>\n",
       "    </tr>\n",
       "    <tr>\n",
       "      <th>1</th>\n",
       "      <td>2015</td>\n",
       "      <td>271078</td>\n",
       "      <td>Opioid</td>\n",
       "    </tr>\n",
       "    <tr>\n",
       "      <th>2</th>\n",
       "      <td>2016</td>\n",
       "      <td>360408</td>\n",
       "      <td>Opioid</td>\n",
       "    </tr>\n",
       "    <tr>\n",
       "      <th>3</th>\n",
       "      <td>2017</td>\n",
       "      <td>416664</td>\n",
       "      <td>Opioid</td>\n",
       "    </tr>\n",
       "    <tr>\n",
       "      <th>4</th>\n",
       "      <td>2018</td>\n",
       "      <td>415872</td>\n",
       "      <td>Opioid</td>\n",
       "    </tr>\n",
       "    <tr>\n",
       "      <th>5</th>\n",
       "      <td>2019</td>\n",
       "      <td>440228</td>\n",
       "      <td>Opioid</td>\n",
       "    </tr>\n",
       "    <tr>\n",
       "      <th>6</th>\n",
       "      <td>2020</td>\n",
       "      <td>601886</td>\n",
       "      <td>Opioid</td>\n",
       "    </tr>\n",
       "  </tbody>\n",
       "</table>\n",
       "</div>"
      ],
      "text/plain": [
       "   Year   deaths     Type\n",
       "0  2014   465604  General\n",
       "1  2015   546388  General\n",
       "2  2016   708848  General\n",
       "3  2017   819805  General\n",
       "4  2018   817896  General\n",
       "5  2019   870342  General\n",
       "6  2020  1173032  General\n",
       "0  2014   226312   Opioid\n",
       "1  2015   271078   Opioid\n",
       "2  2016   360408   Opioid\n",
       "3  2017   416664   Opioid\n",
       "4  2018   415872   Opioid\n",
       "5  2019   440228   Opioid\n",
       "6  2020   601886   Opioid"
      ]
     },
     "execution_count": 177,
     "metadata": {},
     "output_type": "execute_result"
    }
   ],
   "source": [
    "mergeDf = pd.concat([drugGroupby, opioidGroupby], ignore_index=False)\n",
    "mergeDf"
   ]
  },
  {
   "cell_type": "code",
   "execution_count": 156,
   "id": "23736133-2d12-467c-bea8-2e8e01b47e44",
   "metadata": {},
   "outputs": [
    {
     "data": {
      "text/plain": [
       "<AxesSubplot:xlabel='Year'>"
      ]
     },
     "execution_count": 156,
     "metadata": {},
     "output_type": "execute_result"
    },
    {
     "data": {
      "image/png": "[encoded data removed]",
      "text/plain": [
       "<Figure size 640x480 with 1 Axes>"
      ]
     },
     "metadata": {},
     "output_type": "display_data"
    }
   ],
   "source": [
    "mergeDf.plot.line(x=\"Year\")\n"
   ]
  },
  {
   "cell_type": "code",
   "execution_count": 179,
   "id": "9a71c18b-8a92-46b3-9406-063b0582fde1",
   "metadata": {},
   "outputs": [
    {
     "data": {
      "application/vnd.plotly.v1+json": {
       "config": {
        "plotlyServerURL": "https://plot.ly"
       },
       "data": [
        {
         "hovertemplate": "Type=General<br>Year=%{x}<br>deaths=%{y}<extra></extra>",
         "legendgroup": "General",
         "line": {
          "color": "#636efa",
          "dash": "solid"
         },
         "marker": {
          "symbol": "circle"
         },
         "mode": "lines",
         "name": "General",
         "orientation": "v",
         "showlegend": true,
         "type": "scatter",
         "x": [
          2014,
          2015,
          2016,
          2017,
          2018,
          2019,
          2020
         ],
         "xaxis": "x",
         "y": [
          465604,
          546388,
          708848,
          819805,
          817896,
          870342,
          1173032
         ],
         "yaxis": "y"
        },
        {
         "hovertemplate": "Type=Opioid<br>Year=%{x}<br>deaths=%{y}<extra></extra>",
         "legendgroup": "Opioid",
         "line": {
          "color": "#EF553B",
          "dash": "solid"
         },
         "marker": {
          "symbol": "circle"
         },
         "mode": "lines",
         "name": "Opioid",
         "orientation": "v",
         "showlegend": true,
         "type": "scatter",
         "x": [
          2014,
          2015,
          2016,
          2017,
          2018,
          2019,
          2020
         ],
         "xaxis": "x",
         "y": [
          226312,
          271078,
          360408,
          416664,
          415872,
          440228,
          601886
         ],
         "yaxis": "y"
        }
       ],
       "layout": {
        "autosize": true,
        "legend": {
         "title": {
          "text": "Type"
         },
         "tracegroupgap": 0
        },
        "margin": {
         "t": 60
        },
        "template": {
         "data": {
          "bar": [
           {
            "error_x": {
             "color": "#2a3f5f"
            },
            "error_y": {
             "color": "#2a3f5f"
            },
            "marker": {
             "line": {
              "color": "#E5ECF6",
              "width": 0.5
             },
             "pattern": {
              "fillmode": "overlay",
              "size": 10,
              "solidity": 0.2
             }
            },
            "type": "bar"
           }
          ],
          "barpolar": [
           {
            "marker": {
             "line": {
              "color": "#E5ECF6",
              "width": 0.5
             },
             "pattern": {
              "fillmode": "overlay",
              "size": 10,
              "solidity": 0.2
             }
            },
            "type": "barpolar"
           }
          ],
          "carpet": [
           {
            "aaxis": {
             "endlinecolor": "#2a3f5f",
             "gridcolor": "white",
             "linecolor": "white",
             "minorgridcolor": "white",
             "startlinecolor": "#2a3f5f"
            },
            "baxis": {
             "endlinecolor": "#2a3f5f",
             "gridcolor": "white",
             "linecolor": "white",
             "minorgridcolor": "white",
             "startlinecolor": "#2a3f5f"
            },
            "type": "carpet"
           }
          ],
          "choropleth": [
           {
            "colorbar": {
             "outlinewidth": 0,
             "ticks": ""
            },
            "type": "choropleth"
           }
          ],
          "contour": [
           {
            "colorbar": {
             "outlinewidth": 0,
             "ticks": ""
            },
            "colorscale": [
             [
              0,
              "#0d0887"
             ],
             [
              0.1111111111111111,
              "#46039f"
             ],
             [
              0.2222222222222222,
              "#7201a8"
             ],
             [
              0.3333333333333333,
              "#9c179e"
             ],
             [
              0.4444444444444444,
              "#bd3786"
             ],
             [
              0.5555555555555556,
              "#d8576b"
             ],
             [
              0.6666666666666666,
              "#ed7953"
             ],
             [
              0.7777777777777778,
              "#fb9f3a"
             ],
             [
              0.8888888888888888,
              "#fdca26"
             ],
             [
              1,
              "#f0f921"
             ]
            ],
            "type": "contour"
           }
          ],
          "contourcarpet": [
           {
            "colorbar": {
             "outlinewidth": 0,
             "ticks": ""
            },
            "type": "contourcarpet"
           }
          ],
          "heatmap": [
           {
            "colorbar": {
             "outlinewidth": 0,
             "ticks": ""
            },
            "colorscale": [
             [
              0,
              "#0d0887"
             ],
             [
              0.1111111111111111,
              "#46039f"
             ],
             [
              0.2222222222222222,
              "#7201a8"
             ],
             [
              0.3333333333333333,
              "#9c179e"
             ],
             [
              0.4444444444444444,
              "#bd3786"
             ],
             [
              0.5555555555555556,
              "#d8576b"
             ],
             [
              0.6666666666666666,
              "#ed7953"
             ],
             [
              0.7777777777777778,
              "#fb9f3a"
             ],
             [
              0.8888888888888888,
              "#fdca26"
             ],
             [
              1,
              "#f0f921"
             ]
            ],
            "type": "heatmap"
           }
          ],
          "heatmapgl": [
           {
            "colorbar": {
             "outlinewidth": 0,
             "ticks": ""
            },
            "colorscale": [
             [
              0,
              "#0d0887"
             ],
             [
              0.1111111111111111,
              "#46039f"
             ],
             [
              0.2222222222222222,
              "#7201a8"
             ],
             [
              0.3333333333333333,
              "#9c179e"
             ],
             [
              0.4444444444444444,
              "#bd3786"
             ],
             [
              0.5555555555555556,
              "#d8576b"
             ],
             [
              0.6666666666666666,
              "#ed7953"
             ],
             [
              0.7777777777777778,
              "#fb9f3a"
             ],
             [
              0.8888888888888888,
              "#fdca26"
             ],
             [
              1,
              "#f0f921"
             ]
            ],
            "type": "heatmapgl"
           }
          ],
          "histogram": [
           {
            "marker": {
             "pattern": {
              "fillmode": "overlay",
              "size": 10,
              "solidity": 0.2
             }
            },
            "type": "histogram"
           }
          ],
          "histogram2d": [
           {
            "colorbar": {
             "outlinewidth": 0,
             "ticks": ""
            },
            "colorscale": [
             [
              0,
              "#0d0887"
             ],
             [
              0.1111111111111111,
              "#46039f"
             ],
             [
              0.2222222222222222,
              "#7201a8"
             ],
             [
              0.3333333333333333,
              "#9c179e"
             ],
             [
              0.4444444444444444,
              "#bd3786"
             ],
             [
              0.5555555555555556,
              "#d8576b"
             ],
             [
              0.6666666666666666,
              "#ed7953"
             ],
             [
              0.7777777777777778,
              "#fb9f3a"
             ],
             [
              0.8888888888888888,
              "#fdca26"
             ],
             [
              1,
              "#f0f921"
             ]
            ],
            "type": "histogram2d"
           }
          ],
          "histogram2dcontour": [
           {
            "colorbar": {
             "outlinewidth": 0,
             "ticks": ""
            },
            "colorscale": [
             [
              0,
              "#0d0887"
             ],
             [
              0.1111111111111111,
              "#46039f"
             ],
             [
              0.2222222222222222,
              "#7201a8"
             ],
             [
              0.3333333333333333,
              "#9c179e"
             ],
             [
              0.4444444444444444,
              "#bd3786"
             ],
             [
              0.5555555555555556,
              "#d8576b"
             ],
             [
              0.6666666666666666,
              "#ed7953"
             ],
             [
              0.7777777777777778,
              "#fb9f3a"
             ],
             [
              0.8888888888888888,
              "#fdca26"
             ],
             [
              1,
              "#f0f921"
             ]
            ],
            "type": "histogram2dcontour"
           }
          ],
          "mesh3d": [
           {
            "colorbar": {
             "outlinewidth": 0,
             "ticks": ""
            },
            "type": "mesh3d"
           }
          ],
          "parcoords": [
           {
            "line": {
             "colorbar": {
              "outlinewidth": 0,
              "ticks": ""
             }
            },
            "type": "parcoords"
           }
          ],
          "pie": [
           {
            "automargin": true,
            "type": "pie"
           }
          ],
          "scatter": [
           {
            "fillpattern": {
             "fillmode": "overlay",
             "size": 10,
             "solidity": 0.2
            },
            "type": "scatter"
           }
          ],
          "scatter3d": [
           {
            "line": {
             "colorbar": {
              "outlinewidth": 0,
              "ticks": ""
             }
            },
            "marker": {
             "colorbar": {
              "outlinewidth": 0,
              "ticks": ""
             }
            },
            "type": "scatter3d"
           }
          ],
          "scattercarpet": [
           {
            "marker": {
             "colorbar": {
              "outlinewidth": 0,
              "ticks": ""
             }
            },
            "type": "scattercarpet"
           }
          ],
          "scattergeo": [
           {
            "marker": {
             "colorbar": {
              "outlinewidth": 0,
              "ticks": ""
             }
            },
            "type": "scattergeo"
           }
          ],
          "scattergl": [
           {
            "marker": {
             "colorbar": {
              "outlinewidth": 0,
              "ticks": ""
             }
            },
            "type": "scattergl"
           }
          ],
          "scattermapbox": [
           {
            "marker": {
             "colorbar": {
              "outlinewidth": 0,
              "ticks": ""
             }
            },
            "type": "scattermapbox"
           }
          ],
          "scatterpolar": [
           {
            "marker": {
             "colorbar": {
              "outlinewidth": 0,
              "ticks": ""
             }
            },
            "type": "scatterpolar"
           }
          ],
          "scatterpolargl": [
           {
            "marker": {
             "colorbar": {
              "outlinewidth": 0,
              "ticks": ""
             }
            },
            "type": "scatterpolargl"
           }
          ],
          "scatterternary": [
           {
            "marker": {
             "colorbar": {
              "outlinewidth": 0,
              "ticks": ""
             }
            },
            "type": "scatterternary"
           }
          ],
          "surface": [
           {
            "colorbar": {
             "outlinewidth": 0,
             "ticks": ""
            },
            "colorscale": [
             [
              0,
              "#0d0887"
             ],
             [
              0.1111111111111111,
              "#46039f"
             ],
             [
              0.2222222222222222,
              "#7201a8"
             ],
             [
              0.3333333333333333,
              "#9c179e"
             ],
             [
              0.4444444444444444,
              "#bd3786"
             ],
             [
              0.5555555555555556,
              "#d8576b"
             ],
             [
              0.6666666666666666,
              "#ed7953"
             ],
             [
              0.7777777777777778,
              "#fb9f3a"
             ],
             [
              0.8888888888888888,
              "#fdca26"
             ],
             [
              1,
              "#f0f921"
             ]
            ],
            "type": "surface"
           }
          ],
          "table": [
           {
            "cells": {
             "fill": {
              "color": "#EBF0F8"
             },
             "line": {
              "color": "white"
             }
            },
            "header": {
             "fill": {
              "color": "#C8D4E3"
             },
             "line": {
              "color": "white"
             }
            },
            "type": "table"
           }
          ]
         },
         "layout": {
          "annotationdefaults": {
           "arrowcolor": "#2a3f5f",
           "arrowhead": 0,
           "arrowwidth": 1
          },
          "autotypenumbers": "strict",
          "coloraxis": {
           "colorbar": {
            "outlinewidth": 0,
            "ticks": ""
           }
          },
          "colorscale": {
           "diverging": [
            [
             0,
             "#8e0152"
            ],
            [
             0.1,
             "#c51b7d"
            ],
            [
             0.2,
             "#de77ae"
            ],
            [
             0.3,
             "#f1b6da"
            ],
            [
             0.4,
             "#fde0ef"
            ],
            [
             0.5,
             "#f7f7f7"
            ],
            [
             0.6,
             "#e6f5d0"
            ],
            [
             0.7,
             "#b8e186"
            ],
            [
             0.8,
             "#7fbc41"
            ],
            [
             0.9,
             "#4d9221"
            ],
            [
             1,
             "#276419"
            ]
           ],
           "sequential": [
            [
             0,
             "#0d0887"
            ],
            [
             0.1111111111111111,
             "#46039f"
            ],
            [
             0.2222222222222222,
             "#7201a8"
            ],
            [
             0.3333333333333333,
             "#9c179e"
            ],
            [
             0.4444444444444444,
             "#bd3786"
            ],
            [
             0.5555555555555556,
             "#d8576b"
            ],
            [
             0.6666666666666666,
             "#ed7953"
            ],
            [
             0.7777777777777778,
             "#fb9f3a"
            ],
            [
             0.8888888888888888,
             "#fdca26"
            ],
            [
             1,
             "#f0f921"
            ]
           ],
           "sequentialminus": [
            [
             0,
             "#0d0887"
            ],
            [
             0.1111111111111111,
             "#46039f"
            ],
            [
             0.2222222222222222,
             "#7201a8"
            ],
            [
             0.3333333333333333,
             "#9c179e"
            ],
            [
             0.4444444444444444,
             "#bd3786"
            ],
            [
             0.5555555555555556,
             "#d8576b"
            ],
            [
             0.6666666666666666,
             "#ed7953"
            ],
            [
             0.7777777777777778,
             "#fb9f3a"
            ],
            [
             0.8888888888888888,
             "#fdca26"
            ],
            [
             1,
             "#f0f921"
            ]
           ]
          },
          "colorway": [
           "#636efa",
           "#EF553B",
           "#00cc96",
           "#ab63fa",
           "#FFA15A",
           "#19d3f3",
           "#FF6692",
           "#B6E880",
           "#FF97FF",
           "#FECB52"
          ],
          "font": {
           "color": "#2a3f5f"
          },
          "geo": {
           "bgcolor": "white",
           "lakecolor": "white",
           "landcolor": "#E5ECF6",
           "showlakes": true,
           "showland": true,
           "subunitcolor": "white"
          },
          "hoverlabel": {
           "align": "left"
          },
          "hovermode": "closest",
          "mapbox": {
           "style": "light"
          },
          "paper_bgcolor": "white",
          "plot_bgcolor": "#E5ECF6",
          "polar": {
           "angularaxis": {
            "gridcolor": "white",
            "linecolor": "white",
            "ticks": ""
           },
           "bgcolor": "#E5ECF6",
           "radialaxis": {
            "gridcolor": "white",
            "linecolor": "white",
            "ticks": ""
           }
          },
          "scene": {
           "xaxis": {
            "backgroundcolor": "#E5ECF6",
            "gridcolor": "white",
            "gridwidth": 2,
            "linecolor": "white",
            "showbackground": true,
            "ticks": "",
            "zerolinecolor": "white"
           },
           "yaxis": {
            "backgroundcolor": "#E5ECF6",
            "gridcolor": "white",
            "gridwidth": 2,
            "linecolor": "white",
            "showbackground": true,
            "ticks": "",
            "zerolinecolor": "white"
           },
           "zaxis": {
            "backgroundcolor": "#E5ECF6",
            "gridcolor": "white",
            "gridwidth": 2,
            "linecolor": "white",
            "showbackground": true,
            "ticks": "",
            "zerolinecolor": "white"
           }
          },
          "shapedefaults": {
           "line": {
            "color": "#2a3f5f"
           }
          },
          "ternary": {
           "aaxis": {
            "gridcolor": "white",
            "linecolor": "white",
            "ticks": ""
           },
           "baxis": {
            "gridcolor": "white",
            "linecolor": "white",
            "ticks": ""
           },
           "bgcolor": "#E5ECF6",
           "caxis": {
            "gridcolor": "white",
            "linecolor": "white",
            "ticks": ""
           }
          },
          "title": {
           "x": 0.05
          },
          "xaxis": {
           "automargin": true,
           "gridcolor": "white",
           "linecolor": "white",
           "ticks": "",
           "title": {
            "standoff": 15
           },
           "zerolinecolor": "white",
           "zerolinewidth": 2
          },
          "yaxis": {
           "automargin": true,
           "gridcolor": "white",
           "linecolor": "white",
           "ticks": "",
           "title": {
            "standoff": 15
           },
           "zerolinecolor": "white",
           "zerolinewidth": 2
          }
         }
        },
        "xaxis": {
         "anchor": "y",
         "autorange": true,
         "domain": [
          0,
          1
         ],
         "range": [
          2014,
          2020
         ],
         "title": {
          "text": "Year"
         },
         "type": "linear"
        },
        "yaxis": {
         "anchor": "x",
         "autorange": true,
         "domain": [
          0,
          1
         ],
         "range": [
          173716.44444444444,
          1225627.5555555555
         ],
         "title": {
          "text": "deaths"
         },
         "type": "linear"
        }
       }
      },
      "image/png": "[encoded data removed]",
      "text/html": [
       "<div>                            <div id=\"706e516c-55ce-45dc-b1db-c403f0c1d179\" class=\"plotly-graph-div\" style=\"height:525px; width:100%;\"></div>            <script type=\"text/javascript\">                require([\"plotly\"], function(Plotly) {                    window.PLOTLYENV=window.PLOTLYENV || {};                                    if (document.getElementById(\"706e516c-55ce-45dc-b1db-c403f0c1d179\")) {                    Plotly.newPlot(                        \"706e516c-55ce-45dc-b1db-c403f0c1d179\",                        [{\"hovertemplate\":\"Type=General<br>Year=%{x}<br>deaths=%{y}<extra></extra>\",\"legendgroup\":\"General\",\"line\":{\"color\":\"#636efa\",\"dash\":\"solid\"},\"marker\":{\"symbol\":\"circle\"},\"mode\":\"lines\",\"name\":\"General\",\"orientation\":\"v\",\"showlegend\":true,\"x\":[2014,2015,2016,2017,2018,2019,2020],\"xaxis\":\"x\",\"y\":[465604,546388,708848,819805,817896,870342,1173032],\"yaxis\":\"y\",\"type\":\"scatter\"},{\"hovertemplate\":\"Type=Opioid<br>Year=%{x}<br>deaths=%{y}<extra></extra>\",\"legendgroup\":\"Opioid\",\"line\":{\"color\":\"#EF553B\",\"dash\":\"solid\"},\"marker\":{\"symbol\":\"circle\"},\"mode\":\"lines\",\"name\":\"Opioid\",\"orientation\":\"v\",\"showlegend\":true,\"x\":[2014,2015,2016,2017,2018,2019,2020],\"xaxis\":\"x\",\"y\":[226312,271078,360408,416664,415872,440228,601886],\"yaxis\":\"y\",\"type\":\"scatter\"}],                        {\"template\":{\"data\":{\"histogram2dcontour\":[{\"type\":\"histogram2dcontour\",\"colorbar\":{\"outlinewidth\":0,\"ticks\":\"\"},\"colorscale\":[[0.0,\"#0d0887\"],[0.1111111111111111,\"#46039f\"],[0.2222222222222222,\"#7201a8\"],[0.3333333333333333,\"#9c179e\"],[0.4444444444444444,\"#bd3786\"],[0.5555555555555556,\"#d8576b\"],[0.6666666666666666,\"#ed7953\"],[0.7777777777777778,\"#fb9f3a\"],[0.8888888888888888,\"#fdca26\"],[1.0,\"#f0f921\"]]}],\"choropleth\":[{\"type\":\"choropleth\",\"colorbar\":{\"outlinewidth\":0,\"ticks\":\"\"}}],\"histogram2d\":[{\"type\":\"histogram2d\",\"colorbar\":{\"outlinewidth\":0,\"ticks\":\"\"},\"colorscale\":[[0.0,\"#0d0887\"],[0.1111111111111111,\"#46039f\"],[0.2222222222222222,\"#7201a8\"],[0.3333333333333333,\"#9c179e\"],[0.4444444444444444,\"#bd3786\"],[0.5555555555555556,\"#d8576b\"],[0.6666666666666666,\"#ed7953\"],[0.7777777777777778,\"#fb9f3a\"],[0.8888888888888888,\"#fdca26\"],[1.0,\"#f0f921\"]]}],\"heatmap\":[{\"type\":\"heatmap\",\"colorbar\":{\"outlinewidth\":0,\"ticks\":\"\"},\"colorscale\":[[0.0,\"#0d0887\"],[0.1111111111111111,\"#46039f\"],[0.2222222222222222,\"#7201a8\"],[0.3333333333333333,\"#9c179e\"],[0.4444444444444444,\"#bd3786\"],[0.5555555555555556,\"#d8576b\"],[0.6666666666666666,\"#ed7953\"],[0.7777777777777778,\"#fb9f3a\"],[0.8888888888888888,\"#fdca26\"],[1.0,\"#f0f921\"]]}],\"heatmapgl\":[{\"type\":\"heatmapgl\",\"colorbar\":{\"outlinewidth\":0,\"ticks\":\"\"},\"colorscale\":[[0.0,\"#0d0887\"],[0.1111111111111111,\"#46039f\"],[0.2222222222222222,\"#7201a8\"],[0.3333333333333333,\"#9c179e\"],[0.4444444444444444,\"#bd3786\"],[0.5555555555555556,\"#d8576b\"],[0.6666666666666666,\"#ed7953\"],[0.7777777777777778,\"#fb9f3a\"],[0.8888888888888888,\"#fdca26\"],[1.0,\"#f0f921\"]]}],\"contourcarpet\":[{\"type\":\"contourcarpet\",\"colorbar\":{\"outlinewidth\":0,\"ticks\":\"\"}}],\"contour\":[{\"type\":\"contour\",\"colorbar\":{\"outlinewidth\":0,\"ticks\":\"\"},\"colorscale\":[[0.0,\"#0d0887\"],[0.1111111111111111,\"#46039f\"],[0.2222222222222222,\"#7201a8\"],[0.3333333333333333,\"#9c179e\"],[0.4444444444444444,\"#bd3786\"],[0.5555555555555556,\"#d8576b\"],[0.6666666666666666,\"#ed7953\"],[0.7777777777777778,\"#fb9f3a\"],[0.8888888888888888,\"#fdca26\"],[1.0,\"#f0f921\"]]}],\"surface\":[{\"type\":\"surface\",\"colorbar\":{\"outlinewidth\":0,\"ticks\":\"\"},\"colorscale\":[[0.0,\"#0d0887\"],[0.1111111111111111,\"#46039f\"],[0.2222222222222222,\"#7201a8\"],[0.3333333333333333,\"#9c179e\"],[0.4444444444444444,\"#bd3786\"],[0.5555555555555556,\"#d8576b\"],[0.6666666666666666,\"#ed7953\"],[0.7777777777777778,\"#fb9f3a\"],[0.8888888888888888,\"#fdca26\"],[1.0,\"#f0f921\"]]}],\"mesh3d\":[{\"type\":\"mesh3d\",\"colorbar\":{\"outlinewidth\":0,\"ticks\":\"\"}}],\"scatter\":[{\"fillpattern\":{\"fillmode\":\"overlay\",\"size\":10,\"solidity\":0.2},\"type\":\"scatter\"}],\"parcoords\":[{\"type\":\"parcoords\",\"line\":{\"colorbar\":{\"outlinewidth\":0,\"ticks\":\"\"}}}],\"scatterpolargl\":[{\"type\":\"scatterpolargl\",\"marker\":{\"colorbar\":{\"outlinewidth\":0,\"ticks\":\"\"}}}],\"bar\":[{\"error_x\":{\"color\":\"#2a3f5f\"},\"error_y\":{\"color\":\"#2a3f5f\"},\"marker\":{\"line\":{\"color\":\"#E5ECF6\",\"width\":0.5},\"pattern\":{\"fillmode\":\"overlay\",\"size\":10,\"solidity\":0.2}},\"type\":\"bar\"}],\"scattergeo\":[{\"type\":\"scattergeo\",\"marker\":{\"colorbar\":{\"outlinewidth\":0,\"ticks\":\"\"}}}],\"scatterpolar\":[{\"type\":\"scatterpolar\",\"marker\":{\"colorbar\":{\"outlinewidth\":0,\"ticks\":\"\"}}}],\"histogram\":[{\"marker\":{\"pattern\":{\"fillmode\":\"overlay\",\"size\":10,\"solidity\":0.2}},\"type\":\"histogram\"}],\"scattergl\":[{\"type\":\"scattergl\",\"marker\":{\"colorbar\":{\"outlinewidth\":0,\"ticks\":\"\"}}}],\"scatter3d\":[{\"type\":\"scatter3d\",\"line\":{\"colorbar\":{\"outlinewidth\":0,\"ticks\":\"\"}},\"marker\":{\"colorbar\":{\"outlinewidth\":0,\"ticks\":\"\"}}}],\"scattermapbox\":[{\"type\":\"scattermapbox\",\"marker\":{\"colorbar\":{\"outlinewidth\":0,\"ticks\":\"\"}}}],\"scatterternary\":[{\"type\":\"scatterternary\",\"marker\":{\"colorbar\":{\"outlinewidth\":0,\"ticks\":\"\"}}}],\"scattercarpet\":[{\"type\":\"scattercarpet\",\"marker\":{\"colorbar\":{\"outlinewidth\":0,\"ticks\":\"\"}}}],\"carpet\":[{\"aaxis\":{\"endlinecolor\":\"#2a3f5f\",\"gridcolor\":\"white\",\"linecolor\":\"white\",\"minorgridcolor\":\"white\",\"startlinecolor\":\"#2a3f5f\"},\"baxis\":{\"endlinecolor\":\"#2a3f5f\",\"gridcolor\":\"white\",\"linecolor\":\"white\",\"minorgridcolor\":\"white\",\"startlinecolor\":\"#2a3f5f\"},\"type\":\"carpet\"}],\"table\":[{\"cells\":{\"fill\":{\"color\":\"#EBF0F8\"},\"line\":{\"color\":\"white\"}},\"header\":{\"fill\":{\"color\":\"#C8D4E3\"},\"line\":{\"color\":\"white\"}},\"type\":\"table\"}],\"barpolar\":[{\"marker\":{\"line\":{\"color\":\"#E5ECF6\",\"width\":0.5},\"pattern\":{\"fillmode\":\"overlay\",\"size\":10,\"solidity\":0.2}},\"type\":\"barpolar\"}],\"pie\":[{\"automargin\":true,\"type\":\"pie\"}]},\"layout\":{\"autotypenumbers\":\"strict\",\"colorway\":[\"#636efa\",\"#EF553B\",\"#00cc96\",\"#ab63fa\",\"#FFA15A\",\"#19d3f3\",\"#FF6692\",\"#B6E880\",\"#FF97FF\",\"#FECB52\"],\"font\":{\"color\":\"#2a3f5f\"},\"hovermode\":\"closest\",\"hoverlabel\":{\"align\":\"left\"},\"paper_bgcolor\":\"white\",\"plot_bgcolor\":\"#E5ECF6\",\"polar\":{\"bgcolor\":\"#E5ECF6\",\"angularaxis\":{\"gridcolor\":\"white\",\"linecolor\":\"white\",\"ticks\":\"\"},\"radialaxis\":{\"gridcolor\":\"white\",\"linecolor\":\"white\",\"ticks\":\"\"}},\"ternary\":{\"bgcolor\":\"#E5ECF6\",\"aaxis\":{\"gridcolor\":\"white\",\"linecolor\":\"white\",\"ticks\":\"\"},\"baxis\":{\"gridcolor\":\"white\",\"linecolor\":\"white\",\"ticks\":\"\"},\"caxis\":{\"gridcolor\":\"white\",\"linecolor\":\"white\",\"ticks\":\"\"}},\"coloraxis\":{\"colorbar\":{\"outlinewidth\":0,\"ticks\":\"\"}},\"colorscale\":{\"sequential\":[[0.0,\"#0d0887\"],[0.1111111111111111,\"#46039f\"],[0.2222222222222222,\"#7201a8\"],[0.3333333333333333,\"#9c179e\"],[0.4444444444444444,\"#bd3786\"],[0.5555555555555556,\"#d8576b\"],[0.6666666666666666,\"#ed7953\"],[0.7777777777777778,\"#fb9f3a\"],[0.8888888888888888,\"#fdca26\"],[1.0,\"#f0f921\"]],\"sequentialminus\":[[0.0,\"#0d0887\"],[0.1111111111111111,\"#46039f\"],[0.2222222222222222,\"#7201a8\"],[0.3333333333333333,\"#9c179e\"],[0.4444444444444444,\"#bd3786\"],[0.5555555555555556,\"#d8576b\"],[0.6666666666666666,\"#ed7953\"],[0.7777777777777778,\"#fb9f3a\"],[0.8888888888888888,\"#fdca26\"],[1.0,\"#f0f921\"]],\"diverging\":[[0,\"#8e0152\"],[0.1,\"#c51b7d\"],[0.2,\"#de77ae\"],[0.3,\"#f1b6da\"],[0.4,\"#fde0ef\"],[0.5,\"#f7f7f7\"],[0.6,\"#e6f5d0\"],[0.7,\"#b8e186\"],[0.8,\"#7fbc41\"],[0.9,\"#4d9221\"],[1,\"#276419\"]]},\"xaxis\":{\"gridcolor\":\"white\",\"linecolor\":\"white\",\"ticks\":\"\",\"title\":{\"standoff\":15},\"zerolinecolor\":\"white\",\"automargin\":true,\"zerolinewidth\":2},\"yaxis\":{\"gridcolor\":\"white\",\"linecolor\":\"white\",\"ticks\":\"\",\"title\":{\"standoff\":15},\"zerolinecolor\":\"white\",\"automargin\":true,\"zerolinewidth\":2},\"scene\":{\"xaxis\":{\"backgroundcolor\":\"#E5ECF6\",\"gridcolor\":\"white\",\"linecolor\":\"white\",\"showbackground\":true,\"ticks\":\"\",\"zerolinecolor\":\"white\",\"gridwidth\":2},\"yaxis\":{\"backgroundcolor\":\"#E5ECF6\",\"gridcolor\":\"white\",\"linecolor\":\"white\",\"showbackground\":true,\"ticks\":\"\",\"zerolinecolor\":\"white\",\"gridwidth\":2},\"zaxis\":{\"backgroundcolor\":\"#E5ECF6\",\"gridcolor\":\"white\",\"linecolor\":\"white\",\"showbackground\":true,\"ticks\":\"\",\"zerolinecolor\":\"white\",\"gridwidth\":2}},\"shapedefaults\":{\"line\":{\"color\":\"#2a3f5f\"}},\"annotationdefaults\":{\"arrowcolor\":\"#2a3f5f\",\"arrowhead\":0,\"arrowwidth\":1},\"geo\":{\"bgcolor\":\"white\",\"landcolor\":\"#E5ECF6\",\"subunitcolor\":\"white\",\"showland\":true,\"showlakes\":true,\"lakecolor\":\"white\"},\"title\":{\"x\":0.05},\"mapbox\":{\"style\":\"light\"}}},\"xaxis\":{\"anchor\":\"y\",\"domain\":[0.0,1.0],\"title\":{\"text\":\"Year\"}},\"yaxis\":{\"anchor\":\"x\",\"domain\":[0.0,1.0],\"title\":{\"text\":\"deaths\"}},\"legend\":{\"title\":{\"text\":\"Type\"},\"tracegroupgap\":0},\"margin\":{\"t\":60}},                        {\"responsive\": true}                    ).then(function(){\n",
       "                            \n",
       "var gd = document.getElementById('706e516c-55ce-45dc-b1db-c403f0c1d179');\n",
       "var x = new MutationObserver(function (mutations, observer) {{\n",
       "        var display = window.getComputedStyle(gd).display;\n",
       "        if (!display || display === 'none') {{\n",
       "            console.log([gd, 'removed!']);\n",
       "            Plotly.purge(gd);\n",
       "            observer.disconnect();\n",
       "        }}\n",
       "}});\n",
       "\n",
       "// Listen for the removal of the full notebook cells\n",
       "var notebookContainer = gd.closest('#notebook-container');\n",
       "if (notebookContainer) {{\n",
       "    x.observe(notebookContainer, {childList: true});\n",
       "}}\n",
       "\n",
       "// Listen for the clearing of the current output cell\n",
       "var outputEl = gd.closest('.output');\n",
       "if (outputEl) {{\n",
       "    x.observe(outputEl, {childList: true});\n",
       "}}\n",
       "\n",
       "                        })                };                });            </script>        </div>"
      ]
     },
     "metadata": {},
     "output_type": "display_data"
    }
   ],
   "source": [
    "#add opioid rate line to plot below \n",
    "#reformat Y axis to not be scientific notation \n",
    "#add markers for each year \n",
    "#add x and y axis labels\n",
    "# test = opioidDf.groupby(['Drug type']).sum()\n",
    "px.line(mergeDf, x=\"Year\", y=\"deaths\", color=\"Type\")\n",
    "# fig = px.line(opioidGroupby)\n",
    "# fig = px.line(stackedDrugs)\n",
    "# fig.show()\n",
    "# test"
   ]
  },
  {
   "cell_type": "code",
   "execution_count": 9,
   "id": "51571b3c-3d1b-403c-af40-784d2294f11d",
   "metadata": {},
   "outputs": [
    {
     "data": {
      "text/plain": [
       "<AxesSubplot:xlabel='Year'>"
      ]
     },
     "execution_count": 9,
     "metadata": {},
     "output_type": "execute_result"
    },
    {
     "data": {
      "image/png": "[encoded data removed]",
      "text/plain": [
       "<Figure size 600x400 with 1 Axes>"
      ]
     },
     "metadata": {},
     "output_type": "display_data"
    }
   ],
   "source": [
    "drugDf.groupby(['Year'])['All ages'].sum().plot(legend=True, figsize = [6, 4])\n",
    "#add opioid rate line to plot below \n",
    "#reformat Y axis to not be scientific notation \n",
    "#add markers for each year \n",
    "#add x and y axis labels"
   ]
  },
  {
   "cell_type": "code",
   "execution_count": 10,
   "id": "910f976c-7449-49ff-b90b-b3bbe54e18a6",
   "metadata": {},
   "outputs": [],
   "source": [
    "#plot individual lines with custom colors, styles, and widths\n",
    "# yearsDf.groupby(['Year'])['All ages'].sum().plot(legend=True, figsize = [6, 4], color = 'red')\n",
    "# yearsDf.groupby(['Year'])['15-24 years'].sum().plot(legend=True, figsize = [6, 4], color = 'blue')\n",
    "# yearsDf.groupby(['Year'])['25-34 years'].sum().plot(legend=True, figsize = [6, 4], color = 'maroon')\n",
    "# yearsDf.groupby(['Year'])['25-34 years'].sum().plot(legend=True, figsize = [6, 4], color = 'maroon')\n",
    "#Do this for all the years\n",
    "#list of columns of interest\n",
    "#subset / filter out \n",
    "\n",
    "rejectedDrugs = ['All drugs', 'Benzodiazepines', 'Cannabis', 'Cocaine', 'Psychostimulants – incl. methamphetamine']\n",
    "rejectedDrugs_s = yearsDf['Drug type'].isin(rejectedDrugs)\n",
    "rejectedDrugs_s\n",
    "\n",
    "opioidDf = yearsDf[~rejectedDrugs_s] #with or without loc same output"
   ]
  },
  {
   "cell_type": "code",
   "execution_count": 11,
   "id": "a5a40a26-4308-4e31-9231-ec94d8ae19d1",
   "metadata": {},
   "outputs": [],
   "source": [
    "#plt.title(\"\")\n",
    "#x label\n",
    "#y label "
   ]
  },
  {
   "cell_type": "code",
   "execution_count": 90,
   "id": "02540b19-db19-44f1-81b7-dc4560051156",
   "metadata": {},
   "outputs": [
    {
     "data": {
      "image/png": "[encoded data removed]",
      "text/plain": [
       "<Figure size 700x500 with 1 Axes>"
      ]
     },
     "metadata": {},
     "output_type": "display_data"
    }
   ],
   "source": [
    "yearCols = yearsDf.columns[8:13]\n",
    "opioidDf.groupby(['Year'])[yearCols].sum().plot(legend=True, figsize = [7,5], title=\"Opioid mortality rate based across age groups\", xlabel=\"Years\", ylabel=\"Number of deaths\", linewidth=\"3\");\n",
    "#find rate of change for each age group over this time frame \n",
    "#add title \n",
    "#might be a bar plot \n",
    "#more distiniguised color / marker scheme \n",
    "#could take out columns that are very low mortality rate \n",
    "\n",
    "\n",
    "#groupby for col in columns\n",
    "# plt.plot(yearsDf['15-24 years'], color='green')\n",
    "# plt.plot(yearsDf['25-34 years'], color='steelblue', linewidth=4)\n",
    "# plt.plot(yearsDf['sales'], color='purple', linestyle='dashed')\n",
    "\n",
    "#display plot\n",
    "# plt.show()\n",
    "#title - Opioid mortality rate based across age groups"
   ]
  },
  {
   "cell_type": "code",
   "execution_count": 13,
   "id": "500c778a-e469-4d1f-8153-5824bcf17719",
   "metadata": {},
   "outputs": [
    {
     "data": {
      "text/html": [
       "<div>\n",
       "<style scoped>\n",
       "    .dataframe tbody tr th:only-of-type {\n",
       "        vertical-align: middle;\n",
       "    }\n",
       "\n",
       "    .dataframe tbody tr th {\n",
       "        vertical-align: top;\n",
       "    }\n",
       "\n",
       "    .dataframe thead th {\n",
       "        text-align: right;\n",
       "    }\n",
       "</style>\n",
       "<table border=\"1\" class=\"dataframe\">\n",
       "  <thead>\n",
       "    <tr style=\"text-align: right;\">\n",
       "      <th></th>\n",
       "      <th>Year</th>\n",
       "      <th>Gender</th>\n",
       "      <th>Intent</th>\n",
       "      <th>Intent.1</th>\n",
       "      <th>Drug type</th>\n",
       "      <th>&lt; 1 year</th>\n",
       "      <th>1-4 years</th>\n",
       "      <th>5-14 years</th>\n",
       "      <th>15-24 years</th>\n",
       "      <th>25-34 years</th>\n",
       "      <th>35-44 years</th>\n",
       "      <th>45-54 years</th>\n",
       "      <th>55-64 years</th>\n",
       "      <th>65-74 years</th>\n",
       "      <th>75-84 years</th>\n",
       "      <th>85+ years</th>\n",
       "      <th>Not stated</th>\n",
       "      <th>All ages</th>\n",
       "    </tr>\n",
       "  </thead>\n",
       "  <tbody>\n",
       "    <tr>\n",
       "      <th>61</th>\n",
       "      <td>2020</td>\n",
       "      <td>Both sexes</td>\n",
       "      <td>All (preventable, intentional, undetermined)</td>\n",
       "      <td>All (preventable, intentional, undetermined)</td>\n",
       "      <td>Any Opioid</td>\n",
       "      <td>24</td>\n",
       "      <td>58</td>\n",
       "      <td>61</td>\n",
       "      <td>5986</td>\n",
       "      <td>18239</td>\n",
       "      <td>17666</td>\n",
       "      <td>13,258</td>\n",
       "      <td>10445</td>\n",
       "      <td>2554</td>\n",
       "      <td>254</td>\n",
       "      <td>76</td>\n",
       "      <td>9.0</td>\n",
       "      <td>68630</td>\n",
       "    </tr>\n",
       "    <tr>\n",
       "      <th>65</th>\n",
       "      <td>2020</td>\n",
       "      <td>Both sexes</td>\n",
       "      <td>All (preventable, intentional, undetermined)</td>\n",
       "      <td>All (preventable, intentional, undetermined)</td>\n",
       "      <td>Opioid subgroup - heroin</td>\n",
       "      <td>2</td>\n",
       "      <td>2</td>\n",
       "      <td>2</td>\n",
       "      <td>711</td>\n",
       "      <td>3586</td>\n",
       "      <td>3477</td>\n",
       "      <td>2,639</td>\n",
       "      <td>2160</td>\n",
       "      <td>555</td>\n",
       "      <td>29</td>\n",
       "      <td>1</td>\n",
       "      <td>1.0</td>\n",
       "      <td>13165</td>\n",
       "    </tr>\n",
       "    <tr>\n",
       "      <th>66</th>\n",
       "      <td>2020</td>\n",
       "      <td>Both sexes</td>\n",
       "      <td>All (preventable, intentional, undetermined)</td>\n",
       "      <td>All (preventable, intentional, undetermined)</td>\n",
       "      <td>Opioid subgroup - methadone</td>\n",
       "      <td>2</td>\n",
       "      <td>12</td>\n",
       "      <td>5</td>\n",
       "      <td>130</td>\n",
       "      <td>604</td>\n",
       "      <td>903</td>\n",
       "      <td>805</td>\n",
       "      <td>809</td>\n",
       "      <td>262</td>\n",
       "      <td>9</td>\n",
       "      <td>0</td>\n",
       "      <td>2.0</td>\n",
       "      <td>3543</td>\n",
       "    </tr>\n",
       "    <tr>\n",
       "      <th>67</th>\n",
       "      <td>2020</td>\n",
       "      <td>Both sexes</td>\n",
       "      <td>All (preventable, intentional, undetermined)</td>\n",
       "      <td>All (preventable, intentional, undetermined)</td>\n",
       "      <td>Opioid subgroup – including fentanyl</td>\n",
       "      <td>19</td>\n",
       "      <td>41</td>\n",
       "      <td>43</td>\n",
       "      <td>5393</td>\n",
       "      <td>15854</td>\n",
       "      <td>14906</td>\n",
       "      <td>10,734</td>\n",
       "      <td>7777</td>\n",
       "      <td>1623</td>\n",
       "      <td>103</td>\n",
       "      <td>16</td>\n",
       "      <td>7.0</td>\n",
       "      <td>56516</td>\n",
       "    </tr>\n",
       "    <tr>\n",
       "      <th>68</th>\n",
       "      <td>2020</td>\n",
       "      <td>Both sexes</td>\n",
       "      <td>All (preventable, intentional, undetermined)</td>\n",
       "      <td>All (preventable, intentional, undetermined)</td>\n",
       "      <td>Opioid subgroup – including oxycodone and hydr...</td>\n",
       "      <td>4</td>\n",
       "      <td>5</td>\n",
       "      <td>13</td>\n",
       "      <td>693</td>\n",
       "      <td>2784</td>\n",
       "      <td>3243</td>\n",
       "      <td>2,831</td>\n",
       "      <td>2815</td>\n",
       "      <td>867</td>\n",
       "      <td>153</td>\n",
       "      <td>60</td>\n",
       "      <td>3.0</td>\n",
       "      <td>13471</td>\n",
       "    </tr>\n",
       "    <tr>\n",
       "      <th>...</th>\n",
       "      <td>...</td>\n",
       "      <td>...</td>\n",
       "      <td>...</td>\n",
       "      <td>...</td>\n",
       "      <td>...</td>\n",
       "      <td>...</td>\n",
       "      <td>...</td>\n",
       "      <td>...</td>\n",
       "      <td>...</td>\n",
       "      <td>...</td>\n",
       "      <td>...</td>\n",
       "      <td>...</td>\n",
       "      <td>...</td>\n",
       "      <td>...</td>\n",
       "      <td>...</td>\n",
       "      <td>...</td>\n",
       "      <td>...</td>\n",
       "      <td>...</td>\n",
       "    </tr>\n",
       "    <tr>\n",
       "      <th>471</th>\n",
       "      <td>2014</td>\n",
       "      <td>Male</td>\n",
       "      <td>Preventable/accidental</td>\n",
       "      <td>Preventable/accidental</td>\n",
       "      <td>Any Opioid</td>\n",
       "      <td>2</td>\n",
       "      <td>4</td>\n",
       "      <td>6</td>\n",
       "      <td>1850</td>\n",
       "      <td>4760</td>\n",
       "      <td>3704</td>\n",
       "      <td>3,631</td>\n",
       "      <td>2219</td>\n",
       "      <td>317</td>\n",
       "      <td>27</td>\n",
       "      <td>6</td>\n",
       "      <td>1.0</td>\n",
       "      <td>16527</td>\n",
       "    </tr>\n",
       "    <tr>\n",
       "      <th>475</th>\n",
       "      <td>2014</td>\n",
       "      <td>Male</td>\n",
       "      <td>Preventable/accidental</td>\n",
       "      <td>Preventable/accidental</td>\n",
       "      <td>Opioid subgroup - heroin</td>\n",
       "      <td>0</td>\n",
       "      <td>0</td>\n",
       "      <td>0</td>\n",
       "      <td>1026</td>\n",
       "      <td>2563</td>\n",
       "      <td>1775</td>\n",
       "      <td>1,442</td>\n",
       "      <td>805</td>\n",
       "      <td>106</td>\n",
       "      <td>4</td>\n",
       "      <td>1</td>\n",
       "      <td>0.0</td>\n",
       "      <td>7722</td>\n",
       "    </tr>\n",
       "    <tr>\n",
       "      <th>476</th>\n",
       "      <td>2014</td>\n",
       "      <td>Male</td>\n",
       "      <td>Preventable/accidental</td>\n",
       "      <td>Preventable/accidental</td>\n",
       "      <td>Opioid subgroup - methadone</td>\n",
       "      <td>0</td>\n",
       "      <td>1</td>\n",
       "      <td>1</td>\n",
       "      <td>162</td>\n",
       "      <td>484</td>\n",
       "      <td>408</td>\n",
       "      <td>403</td>\n",
       "      <td>317</td>\n",
       "      <td>40</td>\n",
       "      <td>2</td>\n",
       "      <td>0</td>\n",
       "      <td>0.0</td>\n",
       "      <td>1818</td>\n",
       "    </tr>\n",
       "    <tr>\n",
       "      <th>477</th>\n",
       "      <td>2014</td>\n",
       "      <td>Male</td>\n",
       "      <td>Preventable/accidental</td>\n",
       "      <td>Preventable/accidental</td>\n",
       "      <td>Opioid subgroup – including fentanyl</td>\n",
       "      <td>1</td>\n",
       "      <td>1</td>\n",
       "      <td>1</td>\n",
       "      <td>335</td>\n",
       "      <td>970</td>\n",
       "      <td>708</td>\n",
       "      <td>665</td>\n",
       "      <td>329</td>\n",
       "      <td>37</td>\n",
       "      <td>4</td>\n",
       "      <td>1</td>\n",
       "      <td>0.0</td>\n",
       "      <td>3052</td>\n",
       "    </tr>\n",
       "    <tr>\n",
       "      <th>478</th>\n",
       "      <td>2014</td>\n",
       "      <td>Male</td>\n",
       "      <td>Preventable/accidental</td>\n",
       "      <td>Preventable/accidental</td>\n",
       "      <td>Opioid subgroup – including oxycodone and hydr...</td>\n",
       "      <td>1</td>\n",
       "      <td>2</td>\n",
       "      <td>6</td>\n",
       "      <td>477</td>\n",
       "      <td>1289</td>\n",
       "      <td>1269</td>\n",
       "      <td>1,531</td>\n",
       "      <td>990</td>\n",
       "      <td>150</td>\n",
       "      <td>17</td>\n",
       "      <td>3</td>\n",
       "      <td>1.0</td>\n",
       "      <td>5736</td>\n",
       "    </tr>\n",
       "  </tbody>\n",
       "</table>\n",
       "<p>210 rows × 18 columns</p>\n",
       "</div>"
      ],
      "text/plain": [
       "     Year      Gender                                        Intent  \\\n",
       "61   2020  Both sexes  All (preventable, intentional, undetermined)   \n",
       "65   2020  Both sexes  All (preventable, intentional, undetermined)   \n",
       "66   2020  Both sexes  All (preventable, intentional, undetermined)   \n",
       "67   2020  Both sexes  All (preventable, intentional, undetermined)   \n",
       "68   2020  Both sexes  All (preventable, intentional, undetermined)   \n",
       "..    ...         ...                                           ...   \n",
       "471  2014        Male                        Preventable/accidental   \n",
       "475  2014        Male                        Preventable/accidental   \n",
       "476  2014        Male                        Preventable/accidental   \n",
       "477  2014        Male                        Preventable/accidental   \n",
       "478  2014        Male                        Preventable/accidental   \n",
       "\n",
       "                                         Intent.1  \\\n",
       "61   All (preventable, intentional, undetermined)   \n",
       "65   All (preventable, intentional, undetermined)   \n",
       "66   All (preventable, intentional, undetermined)   \n",
       "67   All (preventable, intentional, undetermined)   \n",
       "68   All (preventable, intentional, undetermined)   \n",
       "..                                            ...   \n",
       "471                        Preventable/accidental   \n",
       "475                        Preventable/accidental   \n",
       "476                        Preventable/accidental   \n",
       "477                        Preventable/accidental   \n",
       "478                        Preventable/accidental   \n",
       "\n",
       "                                             Drug type  < 1 year  1-4 years  \\\n",
       "61                                          Any Opioid        24         58   \n",
       "65                            Opioid subgroup - heroin         2          2   \n",
       "66                         Opioid subgroup - methadone         2         12   \n",
       "67                Opioid subgroup – including fentanyl        19         41   \n",
       "68   Opioid subgroup – including oxycodone and hydr...         4          5   \n",
       "..                                                 ...       ...        ...   \n",
       "471                                         Any Opioid         2          4   \n",
       "475                           Opioid subgroup - heroin         0          0   \n",
       "476                        Opioid subgroup - methadone         0          1   \n",
       "477               Opioid subgroup – including fentanyl         1          1   \n",
       "478  Opioid subgroup – including oxycodone and hydr...         1          2   \n",
       "\n",
       "     5-14 years  15-24 years  25-34 years  35-44 years 45-54 years  \\\n",
       "61           61         5986        18239        17666      13,258   \n",
       "65            2          711         3586         3477       2,639   \n",
       "66            5          130          604          903         805   \n",
       "67           43         5393        15854        14906      10,734   \n",
       "68           13          693         2784         3243       2,831   \n",
       "..          ...          ...          ...          ...         ...   \n",
       "471           6         1850         4760         3704       3,631   \n",
       "475           0         1026         2563         1775       1,442   \n",
       "476           1          162          484          408         403   \n",
       "477           1          335          970          708         665   \n",
       "478           6          477         1289         1269       1,531   \n",
       "\n",
       "     55-64 years  65-74 years  75-84 years  85+ years  Not stated  All ages  \n",
       "61         10445         2554          254         76         9.0     68630  \n",
       "65          2160          555           29          1         1.0     13165  \n",
       "66           809          262            9          0         2.0      3543  \n",
       "67          7777         1623          103         16         7.0     56516  \n",
       "68          2815          867          153         60         3.0     13471  \n",
       "..           ...          ...          ...        ...         ...       ...  \n",
       "471         2219          317           27          6         1.0     16527  \n",
       "475          805          106            4          1         0.0      7722  \n",
       "476          317           40            2          0         0.0      1818  \n",
       "477          329           37            4          1         0.0      3052  \n",
       "478          990          150           17          3         1.0      5736  \n",
       "\n",
       "[210 rows x 18 columns]"
      ]
     },
     "execution_count": 13,
     "metadata": {},
     "output_type": "execute_result"
    }
   ],
   "source": [
    "opioidDf"
   ]
  },
  {
   "cell_type": "code",
   "execution_count": 14,
   "id": "24b4c60a-9d3e-4de2-98bd-76ca55428417",
   "metadata": {},
   "outputs": [],
   "source": [
    "# df = px.data.tips()\n",
    "genderDf = opioidDf[opioidDf[\"Gender\"] != \"Both sexes\"]\n",
    "# genderDf = genderDf.groupby(['Year', 'Gender'], as_index=False)['25-34 years'].sum()\n",
    "# genderDf"
   ]
  },
  {
   "cell_type": "code",
   "execution_count": 15,
   "id": "f1072254-8b50-45f2-83ff-d7b4182b607f",
   "metadata": {},
   "outputs": [
    {
     "data": {
      "text/plain": [
       "Year  Gender\n",
       "2014  Female     7685\n",
       "      Male      20915\n",
       "2015  Female     9537\n",
       "      Male      26803\n",
       "2016  Female    13481\n",
       "      Male      37201\n",
       "2017  Female    15978\n",
       "      Male      42866\n",
       "2018  Female    16232\n",
       "      Male      42032\n",
       "2019  Female    16978\n",
       "      Male      42827\n",
       "2020  Female    22043\n",
       "      Male      58128\n",
       "Name: 25-34 years, dtype: int64"
      ]
     },
     "execution_count": 15,
     "metadata": {},
     "output_type": "execute_result"
    }
   ],
   "source": [
    "genderGroup = genderDf.groupby(['Year', 'Gender'])['25-34 years'].sum()\n",
    "genderGroup"
   ]
  },
  {
   "cell_type": "code",
   "execution_count": 16,
   "id": "5fd2c7ad-90f0-4cec-b112-f37e2f8d045e",
   "metadata": {},
   "outputs": [
    {
     "data": {
      "text/html": [
       "<div>\n",
       "<style scoped>\n",
       "    .dataframe tbody tr th:only-of-type {\n",
       "        vertical-align: middle;\n",
       "    }\n",
       "\n",
       "    .dataframe tbody tr th {\n",
       "        vertical-align: top;\n",
       "    }\n",
       "\n",
       "    .dataframe thead th {\n",
       "        text-align: right;\n",
       "    }\n",
       "</style>\n",
       "<table border=\"1\" class=\"dataframe\">\n",
       "  <thead>\n",
       "    <tr style=\"text-align: right;\">\n",
       "      <th>Gender</th>\n",
       "      <th>Female</th>\n",
       "      <th>Male</th>\n",
       "    </tr>\n",
       "    <tr>\n",
       "      <th>Year</th>\n",
       "      <th></th>\n",
       "      <th></th>\n",
       "    </tr>\n",
       "  </thead>\n",
       "  <tbody>\n",
       "    <tr>\n",
       "      <th>2014</th>\n",
       "      <td>7685</td>\n",
       "      <td>20915</td>\n",
       "    </tr>\n",
       "    <tr>\n",
       "      <th>2015</th>\n",
       "      <td>9537</td>\n",
       "      <td>26803</td>\n",
       "    </tr>\n",
       "    <tr>\n",
       "      <th>2016</th>\n",
       "      <td>13481</td>\n",
       "      <td>37201</td>\n",
       "    </tr>\n",
       "    <tr>\n",
       "      <th>2017</th>\n",
       "      <td>15978</td>\n",
       "      <td>42866</td>\n",
       "    </tr>\n",
       "    <tr>\n",
       "      <th>2018</th>\n",
       "      <td>16232</td>\n",
       "      <td>42032</td>\n",
       "    </tr>\n",
       "    <tr>\n",
       "      <th>2019</th>\n",
       "      <td>16978</td>\n",
       "      <td>42827</td>\n",
       "    </tr>\n",
       "    <tr>\n",
       "      <th>2020</th>\n",
       "      <td>22043</td>\n",
       "      <td>58128</td>\n",
       "    </tr>\n",
       "  </tbody>\n",
       "</table>\n",
       "</div>"
      ],
      "text/plain": [
       "Gender  Female   Male\n",
       "Year                 \n",
       "2014      7685  20915\n",
       "2015      9537  26803\n",
       "2016     13481  37201\n",
       "2017     15978  42866\n",
       "2018     16232  42032\n",
       "2019     16978  42827\n",
       "2020     22043  58128"
      ]
     },
     "execution_count": 16,
     "metadata": {},
     "output_type": "execute_result"
    }
   ],
   "source": [
    "stackedGender = genderGroup.unstack(level=1)\n",
    "stackedGender"
   ]
  },
  {
   "cell_type": "code",
   "execution_count": 17,
   "id": "e7ae95ec-7e14-4812-8b31-ef53fe17e041",
   "metadata": {},
   "outputs": [],
   "source": [
    "femaleList = list(stackedGender.Female.values)\n",
    "maleList = list(stackedGender.Male.values)\n",
    "yearList = list(stackedGender.Male.index)\n",
    "#put differences (men are x time more affected by death compared to women)"
   ]
  },
  {
   "cell_type": "code",
   "execution_count": 111,
   "id": "4b3550f8-9d00-4995-8a6e-73a0bef2b246",
   "metadata": {},
   "outputs": [
    {
     "data": {
      "image/png": "[encoded data removed]",
      "text/plain": [
       "<Figure size 640x480 with 1 Axes>"
      ]
     },
     "metadata": {},
     "output_type": "display_data"
    }
   ],
   "source": [
    "# create data\n",
    "x_axis = np.arange(len(yearList))\n",
    "x = yearList\n",
    "y1 = femaleList\n",
    "y2 = maleList\n",
    "width = 0.40\n",
    "  \n",
    "# plot data in grouped manner of bar type\n",
    "plt.bar(x_axis-0.2, y1, width, label =\"female\", color=\"pink\")\n",
    "plt.bar(x_axis+0.2, y2, width, label =\"male\", color=\"teal\")\n",
    "plt.xticks(x_axis, x);\n",
    "plt.xlabel(\"Years\");\n",
    "plt.ylabel(\"Deaths\");\n",
    "plt.title(\"Opioid mortality rate for 24-35 year olds broken down by gender from 2014-2020\");\n",
    "#xticks are list of year \n",
    "#plt x label, y label etc. \n",
    "#plt.showlegend()\n",
    "#title - Opioid mortality rate for 24-35 year olds broken down by gender from 2014-2020"
   ]
  },
  {
   "cell_type": "code",
   "execution_count": 112,
   "id": "856569a2-acd2-4401-87b7-a38dbdd9abd8",
   "metadata": {},
   "outputs": [
    {
     "data": {
      "application/vnd.plotly.v1+json": {
       "config": {
        "plotlyServerURL": "https://plot.ly"
       },
       "data": [
        {
         "alignmentgroup": "True",
         "hovertemplate": "Gender=Female<br>Year=%{x}<br>25-34 years=%{y}<extra></extra>",
         "legendgroup": "Female",
         "marker": {
          "color": "#636efa"
         },
         "name": "Female",
         "notched": false,
         "offsetgroup": "Female",
         "orientation": "v",
         "quartilemethod": "exclusive",
         "showlegend": true,
         "type": "box",
         "x": [
          2020,
          2020,
          2020,
          2020,
          2020,
          2020,
          2020,
          2020,
          2020,
          2020,
          2019,
          2019,
          2019,
          2019,
          2019,
          2019,
          2019,
          2019,
          2019,
          2019,
          2018,
          2018,
          2018,
          2018,
          2018,
          2018,
          2018,
          2018,
          2018,
          2018,
          2017,
          2017,
          2017,
          2017,
          2017,
          2017,
          2017,
          2017,
          2017,
          2017,
          2016,
          2016,
          2016,
          2016,
          2016,
          2016,
          2016,
          2016,
          2016,
          2016,
          2015,
          2015,
          2015,
          2015,
          2015,
          2015,
          2015,
          2015,
          2015,
          2015,
          2014,
          2014,
          2014,
          2014,
          2014,
          2014,
          2014,
          2014,
          2014,
          2014
         ],
         "x0": " ",
         "xaxis": "x",
         "y": [
          4987,
          965,
          228,
          4222,
          940,
          4697,
          931,
          205,
          3999,
          869,
          3763,
          1085,
          220,
          2938,
          777,
          3506,
          1044,
          201,
          2751,
          693,
          3604,
          1162,
          230,
          2655,
          758,
          3345,
          1120,
          206,
          2480,
          672,
          3592,
          1218,
          244,
          2308,
          951,
          3310,
          1171,
          212,
          2136,
          836,
          3116,
          1193,
          262,
          1568,
          919,
          2836,
          1117,
          232,
          1445,
          793,
          2284,
          995,
          241,
          720,
          757,
          2073,
          939,
          216,
          659,
          653,
          1892,
          787,
          267,
          418,
          693,
          1690,
          748,
          241,
          357,
          592
         ],
         "y0": " ",
         "yaxis": "y"
        },
        {
         "alignmentgroup": "True",
         "hovertemplate": "Gender=Male<br>Year=%{x}<br>25-34 years=%{y}<extra></extra>",
         "legendgroup": "Male",
         "marker": {
          "color": "#EF553B"
         },
         "name": "Male",
         "notched": false,
         "offsetgroup": "Male",
         "orientation": "v",
         "quartilemethod": "exclusive",
         "showlegend": true,
         "type": "box",
         "x": [
          2020,
          2020,
          2020,
          2020,
          2020,
          2020,
          2020,
          2020,
          2020,
          2020,
          2019,
          2019,
          2019,
          2019,
          2019,
          2019,
          2019,
          2019,
          2019,
          2019,
          2018,
          2018,
          2018,
          2018,
          2018,
          2018,
          2018,
          2018,
          2018,
          2018,
          2017,
          2017,
          2017,
          2017,
          2017,
          2017,
          2017,
          2017,
          2017,
          2017,
          2016,
          2016,
          2016,
          2016,
          2016,
          2016,
          2016,
          2016,
          2016,
          2016,
          2015,
          2015,
          2015,
          2015,
          2015,
          2015,
          2015,
          2015,
          2015,
          2015,
          2014,
          2014,
          2014,
          2014,
          2014,
          2014,
          2014,
          2014,
          2014,
          2014
         ],
         "x0": " ",
         "xaxis": "x",
         "y": [
          13252,
          2621,
          376,
          11632,
          1844,
          12647,
          2562,
          350,
          11117,
          1727,
          9546,
          2941,
          304,
          7612,
          1584,
          9031,
          2856,
          284,
          7195,
          1474,
          9235,
          3480,
          342,
          6913,
          1630,
          8718,
          3369,
          319,
          6498,
          1528,
          9589,
          3672,
          421,
          6517,
          1903,
          9015,
          3515,
          381,
          6109,
          1744,
          8436,
          3858,
          490,
          4526,
          1907,
          7896,
          3658,
          446,
          4239,
          1745,
          6284,
          3297,
          494,
          2176,
          1570,
          5899,
          3132,
          454,
          2058,
          1439,
          5136,
          2706,
          529,
          1056,
          1422,
          4760,
          2563,
          484,
          970,
          1289
         ],
         "y0": " ",
         "yaxis": "y"
        }
       ],
       "layout": {
        "autosize": true,
        "boxmode": "group",
        "legend": {
         "title": {
          "text": "Gender"
         },
         "tracegroupgap": 0
        },
        "margin": {
         "t": 60
        },
        "template": {
         "data": {
          "bar": [
           {
            "error_x": {
             "color": "#2a3f5f"
            },
            "error_y": {
             "color": "#2a3f5f"
            },
            "marker": {
             "line": {
              "color": "#E5ECF6",
              "width": 0.5
             },
             "pattern": {
              "fillmode": "overlay",
              "size": 10,
              "solidity": 0.2
             }
            },
            "type": "bar"
           }
          ],
          "barpolar": [
           {
            "marker": {
             "line": {
              "color": "#E5ECF6",
              "width": 0.5
             },
             "pattern": {
              "fillmode": "overlay",
              "size": 10,
              "solidity": 0.2
             }
            },
            "type": "barpolar"
           }
          ],
          "carpet": [
           {
            "aaxis": {
             "endlinecolor": "#2a3f5f",
             "gridcolor": "white",
             "linecolor": "white",
             "minorgridcolor": "white",
             "startlinecolor": "#2a3f5f"
            },
            "baxis": {
             "endlinecolor": "#2a3f5f",
             "gridcolor": "white",
             "linecolor": "white",
             "minorgridcolor": "white",
             "startlinecolor": "#2a3f5f"
            },
            "type": "carpet"
           }
          ],
          "choropleth": [
           {
            "colorbar": {
             "outlinewidth": 0,
             "ticks": ""
            },
            "type": "choropleth"
           }
          ],
          "contour": [
           {
            "colorbar": {
             "outlinewidth": 0,
             "ticks": ""
            },
            "colorscale": [
             [
              0,
              "#0d0887"
             ],
             [
              0.1111111111111111,
              "#46039f"
             ],
             [
              0.2222222222222222,
              "#7201a8"
             ],
             [
              0.3333333333333333,
              "#9c179e"
             ],
             [
              0.4444444444444444,
              "#bd3786"
             ],
             [
              0.5555555555555556,
              "#d8576b"
             ],
             [
              0.6666666666666666,
              "#ed7953"
             ],
             [
              0.7777777777777778,
              "#fb9f3a"
             ],
             [
              0.8888888888888888,
              "#fdca26"
             ],
             [
              1,
              "#f0f921"
             ]
            ],
            "type": "contour"
           }
          ],
          "contourcarpet": [
           {
            "colorbar": {
             "outlinewidth": 0,
             "ticks": ""
            },
            "type": "contourcarpet"
           }
          ],
          "heatmap": [
           {
            "colorbar": {
             "outlinewidth": 0,
             "ticks": ""
            },
            "colorscale": [
             [
              0,
              "#0d0887"
             ],
             [
              0.1111111111111111,
              "#46039f"
             ],
             [
              0.2222222222222222,
              "#7201a8"
             ],
             [
              0.3333333333333333,
              "#9c179e"
             ],
             [
              0.4444444444444444,
              "#bd3786"
             ],
             [
              0.5555555555555556,
              "#d8576b"
             ],
             [
              0.6666666666666666,
              "#ed7953"
             ],
             [
              0.7777777777777778,
              "#fb9f3a"
             ],
             [
              0.8888888888888888,
              "#fdca26"
             ],
             [
              1,
              "#f0f921"
             ]
            ],
            "type": "heatmap"
           }
          ],
          "heatmapgl": [
           {
            "colorbar": {
             "outlinewidth": 0,
             "ticks": ""
            },
            "colorscale": [
             [
              0,
              "#0d0887"
             ],
             [
              0.1111111111111111,
              "#46039f"
             ],
             [
              0.2222222222222222,
              "#7201a8"
             ],
             [
              0.3333333333333333,
              "#9c179e"
             ],
             [
              0.4444444444444444,
              "#bd3786"
             ],
             [
              0.5555555555555556,
              "#d8576b"
             ],
             [
              0.6666666666666666,
              "#ed7953"
             ],
             [
              0.7777777777777778,
              "#fb9f3a"
             ],
             [
              0.8888888888888888,
              "#fdca26"
             ],
             [
              1,
              "#f0f921"
             ]
            ],
            "type": "heatmapgl"
           }
          ],
          "histogram": [
           {
            "marker": {
             "pattern": {
              "fillmode": "overlay",
              "size": 10,
              "solidity": 0.2
             }
            },
            "type": "histogram"
           }
          ],
          "histogram2d": [
           {
            "colorbar": {
             "outlinewidth": 0,
             "ticks": ""
            },
            "colorscale": [
             [
              0,
              "#0d0887"
             ],
             [
              0.1111111111111111,
              "#46039f"
             ],
             [
              0.2222222222222222,
              "#7201a8"
             ],
             [
              0.3333333333333333,
              "#9c179e"
             ],
             [
              0.4444444444444444,
              "#bd3786"
             ],
             [
              0.5555555555555556,
              "#d8576b"
             ],
             [
              0.6666666666666666,
              "#ed7953"
             ],
             [
              0.7777777777777778,
              "#fb9f3a"
             ],
             [
              0.8888888888888888,
              "#fdca26"
             ],
             [
              1,
              "#f0f921"
             ]
            ],
            "type": "histogram2d"
           }
          ],
          "histogram2dcontour": [
           {
            "colorbar": {
             "outlinewidth": 0,
             "ticks": ""
            },
            "colorscale": [
             [
              0,
              "#0d0887"
             ],
             [
              0.1111111111111111,
              "#46039f"
             ],
             [
              0.2222222222222222,
              "#7201a8"
             ],
             [
              0.3333333333333333,
              "#9c179e"
             ],
             [
              0.4444444444444444,
              "#bd3786"
             ],
             [
              0.5555555555555556,
              "#d8576b"
             ],
             [
              0.6666666666666666,
              "#ed7953"
             ],
             [
              0.7777777777777778,
              "#fb9f3a"
             ],
             [
              0.8888888888888888,
              "#fdca26"
             ],
             [
              1,
              "#f0f921"
             ]
            ],
            "type": "histogram2dcontour"
           }
          ],
          "mesh3d": [
           {
            "colorbar": {
             "outlinewidth": 0,
             "ticks": ""
            },
            "type": "mesh3d"
           }
          ],
          "parcoords": [
           {
            "line": {
             "colorbar": {
              "outlinewidth": 0,
              "ticks": ""
             }
            },
            "type": "parcoords"
           }
          ],
          "pie": [
           {
            "automargin": true,
            "type": "pie"
           }
          ],
          "scatter": [
           {
            "fillpattern": {
             "fillmode": "overlay",
             "size": 10,
             "solidity": 0.2
            },
            "type": "scatter"
           }
          ],
          "scatter3d": [
           {
            "line": {
             "colorbar": {
              "outlinewidth": 0,
              "ticks": ""
             }
            },
            "marker": {
             "colorbar": {
              "outlinewidth": 0,
              "ticks": ""
             }
            },
            "type": "scatter3d"
           }
          ],
          "scattercarpet": [
           {
            "marker": {
             "colorbar": {
              "outlinewidth": 0,
              "ticks": ""
             }
            },
            "type": "scattercarpet"
           }
          ],
          "scattergeo": [
           {
            "marker": {
             "colorbar": {
              "outlinewidth": 0,
              "ticks": ""
             }
            },
            "type": "scattergeo"
           }
          ],
          "scattergl": [
           {
            "marker": {
             "colorbar": {
              "outlinewidth": 0,
              "ticks": ""
             }
            },
            "type": "scattergl"
           }
          ],
          "scattermapbox": [
           {
            "marker": {
             "colorbar": {
              "outlinewidth": 0,
              "ticks": ""
             }
            },
            "type": "scattermapbox"
           }
          ],
          "scatterpolar": [
           {
            "marker": {
             "colorbar": {
              "outlinewidth": 0,
              "ticks": ""
             }
            },
            "type": "scatterpolar"
           }
          ],
          "scatterpolargl": [
           {
            "marker": {
             "colorbar": {
              "outlinewidth": 0,
              "ticks": ""
             }
            },
            "type": "scatterpolargl"
           }
          ],
          "scatterternary": [
           {
            "marker": {
             "colorbar": {
              "outlinewidth": 0,
              "ticks": ""
             }
            },
            "type": "scatterternary"
           }
          ],
          "surface": [
           {
            "colorbar": {
             "outlinewidth": 0,
             "ticks": ""
            },
            "colorscale": [
             [
              0,
              "#0d0887"
             ],
             [
              0.1111111111111111,
              "#46039f"
             ],
             [
              0.2222222222222222,
              "#7201a8"
             ],
             [
              0.3333333333333333,
              "#9c179e"
             ],
             [
              0.4444444444444444,
              "#bd3786"
             ],
             [
              0.5555555555555556,
              "#d8576b"
             ],
             [
              0.6666666666666666,
              "#ed7953"
             ],
             [
              0.7777777777777778,
              "#fb9f3a"
             ],
             [
              0.8888888888888888,
              "#fdca26"
             ],
             [
              1,
              "#f0f921"
             ]
            ],
            "type": "surface"
           }
          ],
          "table": [
           {
            "cells": {
             "fill": {
              "color": "#EBF0F8"
             },
             "line": {
              "color": "white"
             }
            },
            "header": {
             "fill": {
              "color": "#C8D4E3"
             },
             "line": {
              "color": "white"
             }
            },
            "type": "table"
           }
          ]
         },
         "layout": {
          "annotationdefaults": {
           "arrowcolor": "#2a3f5f",
           "arrowhead": 0,
           "arrowwidth": 1
          },
          "autotypenumbers": "strict",
          "coloraxis": {
           "colorbar": {
            "outlinewidth": 0,
            "ticks": ""
           }
          },
          "colorscale": {
           "diverging": [
            [
             0,
             "#8e0152"
            ],
            [
             0.1,
             "#c51b7d"
            ],
            [
             0.2,
             "#de77ae"
            ],
            [
             0.3,
             "#f1b6da"
            ],
            [
             0.4,
             "#fde0ef"
            ],
            [
             0.5,
             "#f7f7f7"
            ],
            [
             0.6,
             "#e6f5d0"
            ],
            [
             0.7,
             "#b8e186"
            ],
            [
             0.8,
             "#7fbc41"
            ],
            [
             0.9,
             "#4d9221"
            ],
            [
             1,
             "#276419"
            ]
           ],
           "sequential": [
            [
             0,
             "#0d0887"
            ],
            [
             0.1111111111111111,
             "#46039f"
            ],
            [
             0.2222222222222222,
             "#7201a8"
            ],
            [
             0.3333333333333333,
             "#9c179e"
            ],
            [
             0.4444444444444444,
             "#bd3786"
            ],
            [
             0.5555555555555556,
             "#d8576b"
            ],
            [
             0.6666666666666666,
             "#ed7953"
            ],
            [
             0.7777777777777778,
             "#fb9f3a"
            ],
            [
             0.8888888888888888,
             "#fdca26"
            ],
            [
             1,
             "#f0f921"
            ]
           ],
           "sequentialminus": [
            [
             0,
             "#0d0887"
            ],
            [
             0.1111111111111111,
             "#46039f"
            ],
            [
             0.2222222222222222,
             "#7201a8"
            ],
            [
             0.3333333333333333,
             "#9c179e"
            ],
            [
             0.4444444444444444,
             "#bd3786"
            ],
            [
             0.5555555555555556,
             "#d8576b"
            ],
            [
             0.6666666666666666,
             "#ed7953"
            ],
            [
             0.7777777777777778,
             "#fb9f3a"
            ],
            [
             0.8888888888888888,
             "#fdca26"
            ],
            [
             1,
             "#f0f921"
            ]
           ]
          },
          "colorway": [
           "#636efa",
           "#EF553B",
           "#00cc96",
           "#ab63fa",
           "#FFA15A",
           "#19d3f3",
           "#FF6692",
           "#B6E880",
           "#FF97FF",
           "#FECB52"
          ],
          "font": {
           "color": "#2a3f5f"
          },
          "geo": {
           "bgcolor": "white",
           "lakecolor": "white",
           "landcolor": "#E5ECF6",
           "showlakes": true,
           "showland": true,
           "subunitcolor": "white"
          },
          "hoverlabel": {
           "align": "left"
          },
          "hovermode": "closest",
          "mapbox": {
           "style": "light"
          },
          "paper_bgcolor": "white",
          "plot_bgcolor": "#E5ECF6",
          "polar": {
           "angularaxis": {
            "gridcolor": "white",
            "linecolor": "white",
            "ticks": ""
           },
           "bgcolor": "#E5ECF6",
           "radialaxis": {
            "gridcolor": "white",
            "linecolor": "white",
            "ticks": ""
           }
          },
          "scene": {
           "xaxis": {
            "backgroundcolor": "#E5ECF6",
            "gridcolor": "white",
            "gridwidth": 2,
            "linecolor": "white",
            "showbackground": true,
            "ticks": "",
            "zerolinecolor": "white"
           },
           "yaxis": {
            "backgroundcolor": "#E5ECF6",
            "gridcolor": "white",
            "gridwidth": 2,
            "linecolor": "white",
            "showbackground": true,
            "ticks": "",
            "zerolinecolor": "white"
           },
           "zaxis": {
            "backgroundcolor": "#E5ECF6",
            "gridcolor": "white",
            "gridwidth": 2,
            "linecolor": "white",
            "showbackground": true,
            "ticks": "",
            "zerolinecolor": "white"
           }
          },
          "shapedefaults": {
           "line": {
            "color": "#2a3f5f"
           }
          },
          "ternary": {
           "aaxis": {
            "gridcolor": "white",
            "linecolor": "white",
            "ticks": ""
           },
           "baxis": {
            "gridcolor": "white",
            "linecolor": "white",
            "ticks": ""
           },
           "bgcolor": "#E5ECF6",
           "caxis": {
            "gridcolor": "white",
            "linecolor": "white",
            "ticks": ""
           }
          },
          "title": {
           "x": 0.05
          },
          "xaxis": {
           "automargin": true,
           "gridcolor": "white",
           "linecolor": "white",
           "ticks": "",
           "title": {
            "standoff": 15
           },
           "zerolinecolor": "white",
           "zerolinewidth": 2
          },
          "yaxis": {
           "automargin": true,
           "gridcolor": "white",
           "linecolor": "white",
           "ticks": "",
           "title": {
            "standoff": 15
           },
           "zerolinecolor": "white",
           "zerolinewidth": 2
          }
         }
        },
        "xaxis": {
         "anchor": "y",
         "autorange": true,
         "domain": [
          0,
          1
         ],
         "range": [
          2013.4682779456193,
          2020.5317220543807
         ],
         "title": {
          "text": "Year"
         },
         "type": "linear"
        },
        "yaxis": {
         "anchor": "x",
         "autorange": true,
         "domain": [
          0,
          1
         ],
         "range": [
          -524.0555555555555,
          13977.055555555555
         ],
         "title": {
          "text": "25-34 years"
         },
         "type": "linear"
        }
       }
      },
      "image/png": "[encoded data removed]",
      "text/html": [
       "<div>                            <div id=\"89e24931-42da-430b-a805-cdd35e93fe76\" class=\"plotly-graph-div\" style=\"height:525px; width:100%;\"></div>            <script type=\"text/javascript\">                require([\"plotly\"], function(Plotly) {                    window.PLOTLYENV=window.PLOTLYENV || {};                                    if (document.getElementById(\"89e24931-42da-430b-a805-cdd35e93fe76\")) {                    Plotly.newPlot(                        \"89e24931-42da-430b-a805-cdd35e93fe76\",                        [{\"alignmentgroup\":\"True\",\"hovertemplate\":\"Gender=Female<br>Year=%{x}<br>25-34 years=%{y}<extra></extra>\",\"legendgroup\":\"Female\",\"marker\":{\"color\":\"#636efa\"},\"name\":\"Female\",\"notched\":false,\"offsetgroup\":\"Female\",\"orientation\":\"v\",\"showlegend\":true,\"x\":[2020,2020,2020,2020,2020,2020,2020,2020,2020,2020,2019,2019,2019,2019,2019,2019,2019,2019,2019,2019,2018,2018,2018,2018,2018,2018,2018,2018,2018,2018,2017,2017,2017,2017,2017,2017,2017,2017,2017,2017,2016,2016,2016,2016,2016,2016,2016,2016,2016,2016,2015,2015,2015,2015,2015,2015,2015,2015,2015,2015,2014,2014,2014,2014,2014,2014,2014,2014,2014,2014],\"x0\":\" \",\"xaxis\":\"x\",\"y\":[4987,965,228,4222,940,4697,931,205,3999,869,3763,1085,220,2938,777,3506,1044,201,2751,693,3604,1162,230,2655,758,3345,1120,206,2480,672,3592,1218,244,2308,951,3310,1171,212,2136,836,3116,1193,262,1568,919,2836,1117,232,1445,793,2284,995,241,720,757,2073,939,216,659,653,1892,787,267,418,693,1690,748,241,357,592],\"y0\":\" \",\"yaxis\":\"y\",\"type\":\"box\",\"quartilemethod\":\"exclusive\"},{\"alignmentgroup\":\"True\",\"hovertemplate\":\"Gender=Male<br>Year=%{x}<br>25-34 years=%{y}<extra></extra>\",\"legendgroup\":\"Male\",\"marker\":{\"color\":\"#EF553B\"},\"name\":\"Male\",\"notched\":false,\"offsetgroup\":\"Male\",\"orientation\":\"v\",\"showlegend\":true,\"x\":[2020,2020,2020,2020,2020,2020,2020,2020,2020,2020,2019,2019,2019,2019,2019,2019,2019,2019,2019,2019,2018,2018,2018,2018,2018,2018,2018,2018,2018,2018,2017,2017,2017,2017,2017,2017,2017,2017,2017,2017,2016,2016,2016,2016,2016,2016,2016,2016,2016,2016,2015,2015,2015,2015,2015,2015,2015,2015,2015,2015,2014,2014,2014,2014,2014,2014,2014,2014,2014,2014],\"x0\":\" \",\"xaxis\":\"x\",\"y\":[13252,2621,376,11632,1844,12647,2562,350,11117,1727,9546,2941,304,7612,1584,9031,2856,284,7195,1474,9235,3480,342,6913,1630,8718,3369,319,6498,1528,9589,3672,421,6517,1903,9015,3515,381,6109,1744,8436,3858,490,4526,1907,7896,3658,446,4239,1745,6284,3297,494,2176,1570,5899,3132,454,2058,1439,5136,2706,529,1056,1422,4760,2563,484,970,1289],\"y0\":\" \",\"yaxis\":\"y\",\"type\":\"box\",\"quartilemethod\":\"exclusive\"}],                        {\"template\":{\"data\":{\"histogram2dcontour\":[{\"type\":\"histogram2dcontour\",\"colorbar\":{\"outlinewidth\":0,\"ticks\":\"\"},\"colorscale\":[[0.0,\"#0d0887\"],[0.1111111111111111,\"#46039f\"],[0.2222222222222222,\"#7201a8\"],[0.3333333333333333,\"#9c179e\"],[0.4444444444444444,\"#bd3786\"],[0.5555555555555556,\"#d8576b\"],[0.6666666666666666,\"#ed7953\"],[0.7777777777777778,\"#fb9f3a\"],[0.8888888888888888,\"#fdca26\"],[1.0,\"#f0f921\"]]}],\"choropleth\":[{\"type\":\"choropleth\",\"colorbar\":{\"outlinewidth\":0,\"ticks\":\"\"}}],\"histogram2d\":[{\"type\":\"histogram2d\",\"colorbar\":{\"outlinewidth\":0,\"ticks\":\"\"},\"colorscale\":[[0.0,\"#0d0887\"],[0.1111111111111111,\"#46039f\"],[0.2222222222222222,\"#7201a8\"],[0.3333333333333333,\"#9c179e\"],[0.4444444444444444,\"#bd3786\"],[0.5555555555555556,\"#d8576b\"],[0.6666666666666666,\"#ed7953\"],[0.7777777777777778,\"#fb9f3a\"],[0.8888888888888888,\"#fdca26\"],[1.0,\"#f0f921\"]]}],\"heatmap\":[{\"type\":\"heatmap\",\"colorbar\":{\"outlinewidth\":0,\"ticks\":\"\"},\"colorscale\":[[0.0,\"#0d0887\"],[0.1111111111111111,\"#46039f\"],[0.2222222222222222,\"#7201a8\"],[0.3333333333333333,\"#9c179e\"],[0.4444444444444444,\"#bd3786\"],[0.5555555555555556,\"#d8576b\"],[0.6666666666666666,\"#ed7953\"],[0.7777777777777778,\"#fb9f3a\"],[0.8888888888888888,\"#fdca26\"],[1.0,\"#f0f921\"]]}],\"heatmapgl\":[{\"type\":\"heatmapgl\",\"colorbar\":{\"outlinewidth\":0,\"ticks\":\"\"},\"colorscale\":[[0.0,\"#0d0887\"],[0.1111111111111111,\"#46039f\"],[0.2222222222222222,\"#7201a8\"],[0.3333333333333333,\"#9c179e\"],[0.4444444444444444,\"#bd3786\"],[0.5555555555555556,\"#d8576b\"],[0.6666666666666666,\"#ed7953\"],[0.7777777777777778,\"#fb9f3a\"],[0.8888888888888888,\"#fdca26\"],[1.0,\"#f0f921\"]]}],\"contourcarpet\":[{\"type\":\"contourcarpet\",\"colorbar\":{\"outlinewidth\":0,\"ticks\":\"\"}}],\"contour\":[{\"type\":\"contour\",\"colorbar\":{\"outlinewidth\":0,\"ticks\":\"\"},\"colorscale\":[[0.0,\"#0d0887\"],[0.1111111111111111,\"#46039f\"],[0.2222222222222222,\"#7201a8\"],[0.3333333333333333,\"#9c179e\"],[0.4444444444444444,\"#bd3786\"],[0.5555555555555556,\"#d8576b\"],[0.6666666666666666,\"#ed7953\"],[0.7777777777777778,\"#fb9f3a\"],[0.8888888888888888,\"#fdca26\"],[1.0,\"#f0f921\"]]}],\"surface\":[{\"type\":\"surface\",\"colorbar\":{\"outlinewidth\":0,\"ticks\":\"\"},\"colorscale\":[[0.0,\"#0d0887\"],[0.1111111111111111,\"#46039f\"],[0.2222222222222222,\"#7201a8\"],[0.3333333333333333,\"#9c179e\"],[0.4444444444444444,\"#bd3786\"],[0.5555555555555556,\"#d8576b\"],[0.6666666666666666,\"#ed7953\"],[0.7777777777777778,\"#fb9f3a\"],[0.8888888888888888,\"#fdca26\"],[1.0,\"#f0f921\"]]}],\"mesh3d\":[{\"type\":\"mesh3d\",\"colorbar\":{\"outlinewidth\":0,\"ticks\":\"\"}}],\"scatter\":[{\"fillpattern\":{\"fillmode\":\"overlay\",\"size\":10,\"solidity\":0.2},\"type\":\"scatter\"}],\"parcoords\":[{\"type\":\"parcoords\",\"line\":{\"colorbar\":{\"outlinewidth\":0,\"ticks\":\"\"}}}],\"scatterpolargl\":[{\"type\":\"scatterpolargl\",\"marker\":{\"colorbar\":{\"outlinewidth\":0,\"ticks\":\"\"}}}],\"bar\":[{\"error_x\":{\"color\":\"#2a3f5f\"},\"error_y\":{\"color\":\"#2a3f5f\"},\"marker\":{\"line\":{\"color\":\"#E5ECF6\",\"width\":0.5},\"pattern\":{\"fillmode\":\"overlay\",\"size\":10,\"solidity\":0.2}},\"type\":\"bar\"}],\"scattergeo\":[{\"type\":\"scattergeo\",\"marker\":{\"colorbar\":{\"outlinewidth\":0,\"ticks\":\"\"}}}],\"scatterpolar\":[{\"type\":\"scatterpolar\",\"marker\":{\"colorbar\":{\"outlinewidth\":0,\"ticks\":\"\"}}}],\"histogram\":[{\"marker\":{\"pattern\":{\"fillmode\":\"overlay\",\"size\":10,\"solidity\":0.2}},\"type\":\"histogram\"}],\"scattergl\":[{\"type\":\"scattergl\",\"marker\":{\"colorbar\":{\"outlinewidth\":0,\"ticks\":\"\"}}}],\"scatter3d\":[{\"type\":\"scatter3d\",\"line\":{\"colorbar\":{\"outlinewidth\":0,\"ticks\":\"\"}},\"marker\":{\"colorbar\":{\"outlinewidth\":0,\"ticks\":\"\"}}}],\"scattermapbox\":[{\"type\":\"scattermapbox\",\"marker\":{\"colorbar\":{\"outlinewidth\":0,\"ticks\":\"\"}}}],\"scatterternary\":[{\"type\":\"scatterternary\",\"marker\":{\"colorbar\":{\"outlinewidth\":0,\"ticks\":\"\"}}}],\"scattercarpet\":[{\"type\":\"scattercarpet\",\"marker\":{\"colorbar\":{\"outlinewidth\":0,\"ticks\":\"\"}}}],\"carpet\":[{\"aaxis\":{\"endlinecolor\":\"#2a3f5f\",\"gridcolor\":\"white\",\"linecolor\":\"white\",\"minorgridcolor\":\"white\",\"startlinecolor\":\"#2a3f5f\"},\"baxis\":{\"endlinecolor\":\"#2a3f5f\",\"gridcolor\":\"white\",\"linecolor\":\"white\",\"minorgridcolor\":\"white\",\"startlinecolor\":\"#2a3f5f\"},\"type\":\"carpet\"}],\"table\":[{\"cells\":{\"fill\":{\"color\":\"#EBF0F8\"},\"line\":{\"color\":\"white\"}},\"header\":{\"fill\":{\"color\":\"#C8D4E3\"},\"line\":{\"color\":\"white\"}},\"type\":\"table\"}],\"barpolar\":[{\"marker\":{\"line\":{\"color\":\"#E5ECF6\",\"width\":0.5},\"pattern\":{\"fillmode\":\"overlay\",\"size\":10,\"solidity\":0.2}},\"type\":\"barpolar\"}],\"pie\":[{\"automargin\":true,\"type\":\"pie\"}]},\"layout\":{\"autotypenumbers\":\"strict\",\"colorway\":[\"#636efa\",\"#EF553B\",\"#00cc96\",\"#ab63fa\",\"#FFA15A\",\"#19d3f3\",\"#FF6692\",\"#B6E880\",\"#FF97FF\",\"#FECB52\"],\"font\":{\"color\":\"#2a3f5f\"},\"hovermode\":\"closest\",\"hoverlabel\":{\"align\":\"left\"},\"paper_bgcolor\":\"white\",\"plot_bgcolor\":\"#E5ECF6\",\"polar\":{\"bgcolor\":\"#E5ECF6\",\"angularaxis\":{\"gridcolor\":\"white\",\"linecolor\":\"white\",\"ticks\":\"\"},\"radialaxis\":{\"gridcolor\":\"white\",\"linecolor\":\"white\",\"ticks\":\"\"}},\"ternary\":{\"bgcolor\":\"#E5ECF6\",\"aaxis\":{\"gridcolor\":\"white\",\"linecolor\":\"white\",\"ticks\":\"\"},\"baxis\":{\"gridcolor\":\"white\",\"linecolor\":\"white\",\"ticks\":\"\"},\"caxis\":{\"gridcolor\":\"white\",\"linecolor\":\"white\",\"ticks\":\"\"}},\"coloraxis\":{\"colorbar\":{\"outlinewidth\":0,\"ticks\":\"\"}},\"colorscale\":{\"sequential\":[[0.0,\"#0d0887\"],[0.1111111111111111,\"#46039f\"],[0.2222222222222222,\"#7201a8\"],[0.3333333333333333,\"#9c179e\"],[0.4444444444444444,\"#bd3786\"],[0.5555555555555556,\"#d8576b\"],[0.6666666666666666,\"#ed7953\"],[0.7777777777777778,\"#fb9f3a\"],[0.8888888888888888,\"#fdca26\"],[1.0,\"#f0f921\"]],\"sequentialminus\":[[0.0,\"#0d0887\"],[0.1111111111111111,\"#46039f\"],[0.2222222222222222,\"#7201a8\"],[0.3333333333333333,\"#9c179e\"],[0.4444444444444444,\"#bd3786\"],[0.5555555555555556,\"#d8576b\"],[0.6666666666666666,\"#ed7953\"],[0.7777777777777778,\"#fb9f3a\"],[0.8888888888888888,\"#fdca26\"],[1.0,\"#f0f921\"]],\"diverging\":[[0,\"#8e0152\"],[0.1,\"#c51b7d\"],[0.2,\"#de77ae\"],[0.3,\"#f1b6da\"],[0.4,\"#fde0ef\"],[0.5,\"#f7f7f7\"],[0.6,\"#e6f5d0\"],[0.7,\"#b8e186\"],[0.8,\"#7fbc41\"],[0.9,\"#4d9221\"],[1,\"#276419\"]]},\"xaxis\":{\"gridcolor\":\"white\",\"linecolor\":\"white\",\"ticks\":\"\",\"title\":{\"standoff\":15},\"zerolinecolor\":\"white\",\"automargin\":true,\"zerolinewidth\":2},\"yaxis\":{\"gridcolor\":\"white\",\"linecolor\":\"white\",\"ticks\":\"\",\"title\":{\"standoff\":15},\"zerolinecolor\":\"white\",\"automargin\":true,\"zerolinewidth\":2},\"scene\":{\"xaxis\":{\"backgroundcolor\":\"#E5ECF6\",\"gridcolor\":\"white\",\"linecolor\":\"white\",\"showbackground\":true,\"ticks\":\"\",\"zerolinecolor\":\"white\",\"gridwidth\":2},\"yaxis\":{\"backgroundcolor\":\"#E5ECF6\",\"gridcolor\":\"white\",\"linecolor\":\"white\",\"showbackground\":true,\"ticks\":\"\",\"zerolinecolor\":\"white\",\"gridwidth\":2},\"zaxis\":{\"backgroundcolor\":\"#E5ECF6\",\"gridcolor\":\"white\",\"linecolor\":\"white\",\"showbackground\":true,\"ticks\":\"\",\"zerolinecolor\":\"white\",\"gridwidth\":2}},\"shapedefaults\":{\"line\":{\"color\":\"#2a3f5f\"}},\"annotationdefaults\":{\"arrowcolor\":\"#2a3f5f\",\"arrowhead\":0,\"arrowwidth\":1},\"geo\":{\"bgcolor\":\"white\",\"landcolor\":\"#E5ECF6\",\"subunitcolor\":\"white\",\"showland\":true,\"showlakes\":true,\"lakecolor\":\"white\"},\"title\":{\"x\":0.05},\"mapbox\":{\"style\":\"light\"}}},\"xaxis\":{\"anchor\":\"y\",\"domain\":[0.0,1.0],\"title\":{\"text\":\"Year\"}},\"yaxis\":{\"anchor\":\"x\",\"domain\":[0.0,1.0],\"title\":{\"text\":\"25-34 years\"}},\"legend\":{\"title\":{\"text\":\"Gender\"},\"tracegroupgap\":0},\"margin\":{\"t\":60},\"boxmode\":\"group\"},                        {\"responsive\": true}                    ).then(function(){\n",
       "                            \n",
       "var gd = document.getElementById('89e24931-42da-430b-a805-cdd35e93fe76');\n",
       "var x = new MutationObserver(function (mutations, observer) {{\n",
       "        var display = window.getComputedStyle(gd).display;\n",
       "        if (!display || display === 'none') {{\n",
       "            console.log([gd, 'removed!']);\n",
       "            Plotly.purge(gd);\n",
       "            observer.disconnect();\n",
       "        }}\n",
       "}});\n",
       "\n",
       "// Listen for the removal of the full notebook cells\n",
       "var notebookContainer = gd.closest('#notebook-container');\n",
       "if (notebookContainer) {{\n",
       "    x.observe(notebookContainer, {childList: true});\n",
       "}}\n",
       "\n",
       "// Listen for the clearing of the current output cell\n",
       "var outputEl = gd.closest('.output');\n",
       "if (outputEl) {{\n",
       "    x.observe(outputEl, {childList: true});\n",
       "}}\n",
       "\n",
       "                        })                };                });            </script>        </div>"
      ]
     },
     "metadata": {},
     "output_type": "display_data"
    }
   ],
   "source": [
    "fig = px.box(genderDf, x=\"Year\", y=\"25-34 years\", color=\"Gender\")\n",
    "fig.update_traces(quartilemethod=\"exclusive\") # or \"inclusive\", or \"linear\" by default\n",
    "fig.show()\n",
    "\n",
    "#facet for 3 worst age groups \n",
    "#do it for entire average - box plot for aggregate by year \n",
    "#groupby year and gender "
   ]
  },
  {
   "cell_type": "code",
   "execution_count": 113,
   "id": "71b0f5d6-2be4-403b-b3f5-83ef45a02c4b",
   "metadata": {},
   "outputs": [
    {
     "data": {
      "text/plain": [
       "<AxesSubplot:xlabel='Year', ylabel='All ages'>"
      ]
     },
     "execution_count": 113,
     "metadata": {},
     "output_type": "execute_result"
    },
    {
     "data": {
      "image/png": "[encoded data removed]",
      "text/plain": [
       "<Figure size 640x480 with 1 Axes>"
      ]
     },
     "metadata": {},
     "output_type": "display_data"
    },
    {
     "data": {
      "image/png": "[encoded data removed]",
      "text/plain": [
       "<Figure size 640x480 with 1 Axes>"
      ]
     },
     "metadata": {},
     "output_type": "display_data"
    }
   ],
   "source": [
    "drugDf['All ages'].plot.bar()\n",
    "drugDf.plot.scatter( x = 'Year', y = 'All ages')\n",
    "\n",
    "#scratch work to test and inform how we do other tables with this data set \n",
    "#discreet integers on x axis don't work well with scatter plot"
   ]
  },
  {
   "cell_type": "code",
   "execution_count": 33,
   "id": "b602983a-dfc1-44e2-bfe6-98161a291dcd",
   "metadata": {},
   "outputs": [
    {
     "data": {
      "text/plain": [
       "[('All drugs', 1733420),\n",
       " ('Any Opioid', 1208676),\n",
       " ('Benzodiazepines', 266344),\n",
       " ('Cannabis', 17340),\n",
       " ('Cocaine', 337526),\n",
       " ('Opioid subgroup - heroin', 378462),\n",
       " ('Opioid subgroup - methadone', 85550),\n",
       " ('Opioid subgroup – including fentanyl', 721194),\n",
       " ('Opioid subgroup – including oxycodone and hydrocodone', 338566),\n",
       " ('Psychostimulants – incl. methamphetamine', 314837)]"
      ]
     },
     "execution_count": 33,
     "metadata": {},
     "output_type": "execute_result"
    }
   ],
   "source": [
    "# x.unique()\n",
    "\n",
    "#if string inside series contains then it gets what we want\n",
    "\n",
    "drugList = ['Any', 'Benzodiazepines', \n",
    "            'Cannabis','Cocaine', 'heroin','methadone',\n",
    "            'fentanyl','oxycodone and hydrocodone',\n",
    "            'Psychostimulants']\n",
    "\n",
    "\n",
    "drugType = drugDf['Drug type']\n",
    "allAges = drugDf['All ages']\n",
    "\n",
    "outputList = []\n",
    "\n",
    "\n",
    "for i in drugList: \n",
    "    for drug in drugType:\n",
    "        if i in drug:\n",
    "            outputList.append(i)\n",
    "            \n",
    "# for drug in drugType:\n",
    "#     for i in drugList: \n",
    "#         if i in drug:\n",
    "#             outputList.append(i)\n",
    "# outputList = np.array(outputList)\n",
    "# outputList().np.repeat i, \n",
    "\n",
    "drugGroup = drugDf.groupby(['Drug type'])['All ages'].sum()\n",
    "drugGroup\n",
    "\n",
    "drugArray = [(k, v) for k, v in drugGroup.items()]\n",
    "drugArray"
   ]
  },
  {
   "cell_type": "code",
   "execution_count": null,
   "id": "0a0acb53-5969-454a-be50-8a63ce6892aa",
   "metadata": {},
   "outputs": [],
   "source": [
    "px?"
   ]
  },
  {
   "cell_type": "code",
   "execution_count": 116,
   "id": "a5b1c233-761b-47e5-8a00-b18c7cd75c85",
   "metadata": {},
   "outputs": [
    {
     "data": {
      "text/html": [
       "<div>\n",
       "<style scoped>\n",
       "    .dataframe tbody tr th:only-of-type {\n",
       "        vertical-align: middle;\n",
       "    }\n",
       "\n",
       "    .dataframe tbody tr th {\n",
       "        vertical-align: top;\n",
       "    }\n",
       "\n",
       "    .dataframe thead th {\n",
       "        text-align: right;\n",
       "    }\n",
       "</style>\n",
       "<table border=\"1\" class=\"dataframe\">\n",
       "  <thead>\n",
       "    <tr style=\"text-align: right;\">\n",
       "      <th></th>\n",
       "      <th>Year</th>\n",
       "      <th>Gender</th>\n",
       "      <th>Intent</th>\n",
       "      <th>Intent.1</th>\n",
       "      <th>Drug type</th>\n",
       "      <th>&lt; 1 year</th>\n",
       "      <th>1-4 years</th>\n",
       "      <th>5-14 years</th>\n",
       "      <th>15-24 years</th>\n",
       "      <th>25-34 years</th>\n",
       "      <th>35-44 years</th>\n",
       "      <th>45-54 years</th>\n",
       "      <th>55-64 years</th>\n",
       "      <th>65-74 years</th>\n",
       "      <th>75-84 years</th>\n",
       "      <th>85+ years</th>\n",
       "      <th>Not stated</th>\n",
       "      <th>All ages</th>\n",
       "    </tr>\n",
       "  </thead>\n",
       "  <tbody>\n",
       "    <tr>\n",
       "      <th>101</th>\n",
       "      <td>2020</td>\n",
       "      <td>Male</td>\n",
       "      <td>All (preventable, intentional, undetermined)</td>\n",
       "      <td>All (preventable, intentional, undetermined)</td>\n",
       "      <td>Any Opioid</td>\n",
       "      <td>13</td>\n",
       "      <td>32</td>\n",
       "      <td>33</td>\n",
       "      <td>4402</td>\n",
       "      <td>13252</td>\n",
       "      <td>12638</td>\n",
       "      <td>9,184</td>\n",
       "      <td>7138</td>\n",
       "      <td>1790</td>\n",
       "      <td>137</td>\n",
       "      <td>32</td>\n",
       "      <td>9.0</td>\n",
       "      <td>48660</td>\n",
       "    </tr>\n",
       "    <tr>\n",
       "      <th>105</th>\n",
       "      <td>2020</td>\n",
       "      <td>Male</td>\n",
       "      <td>All (preventable, intentional, undetermined)</td>\n",
       "      <td>All (preventable, intentional, undetermined)</td>\n",
       "      <td>Opioid subgroup - heroin</td>\n",
       "      <td>2</td>\n",
       "      <td>2</td>\n",
       "      <td>1</td>\n",
       "      <td>481</td>\n",
       "      <td>2621</td>\n",
       "      <td>2611</td>\n",
       "      <td>2,000</td>\n",
       "      <td>1672</td>\n",
       "      <td>465</td>\n",
       "      <td>24</td>\n",
       "      <td>1</td>\n",
       "      <td>1.0</td>\n",
       "      <td>9881</td>\n",
       "    </tr>\n",
       "    <tr>\n",
       "      <th>106</th>\n",
       "      <td>2020</td>\n",
       "      <td>Male</td>\n",
       "      <td>All (preventable, intentional, undetermined)</td>\n",
       "      <td>All (preventable, intentional, undetermined)</td>\n",
       "      <td>Opioid subgroup - methadone</td>\n",
       "      <td>1</td>\n",
       "      <td>7</td>\n",
       "      <td>2</td>\n",
       "      <td>101</td>\n",
       "      <td>376</td>\n",
       "      <td>519</td>\n",
       "      <td>456</td>\n",
       "      <td>475</td>\n",
       "      <td>186</td>\n",
       "      <td>7</td>\n",
       "      <td>0</td>\n",
       "      <td>2.0</td>\n",
       "      <td>2132</td>\n",
       "    </tr>\n",
       "    <tr>\n",
       "      <th>107</th>\n",
       "      <td>2020</td>\n",
       "      <td>Male</td>\n",
       "      <td>All (preventable, intentional, undetermined)</td>\n",
       "      <td>All (preventable, intentional, undetermined)</td>\n",
       "      <td>Opioid subgroup – including fentanyl</td>\n",
       "      <td>11</td>\n",
       "      <td>23</td>\n",
       "      <td>25</td>\n",
       "      <td>3965</td>\n",
       "      <td>11632</td>\n",
       "      <td>10907</td>\n",
       "      <td>7,749</td>\n",
       "      <td>5632</td>\n",
       "      <td>1252</td>\n",
       "      <td>56</td>\n",
       "      <td>7</td>\n",
       "      <td>7.0</td>\n",
       "      <td>41266</td>\n",
       "    </tr>\n",
       "    <tr>\n",
       "      <th>108</th>\n",
       "      <td>2020</td>\n",
       "      <td>Male</td>\n",
       "      <td>All (preventable, intentional, undetermined)</td>\n",
       "      <td>All (preventable, intentional, undetermined)</td>\n",
       "      <td>Opioid subgroup – including oxycodone and hydr...</td>\n",
       "      <td>1</td>\n",
       "      <td>2</td>\n",
       "      <td>6</td>\n",
       "      <td>497</td>\n",
       "      <td>1844</td>\n",
       "      <td>2063</td>\n",
       "      <td>1,603</td>\n",
       "      <td>1584</td>\n",
       "      <td>484</td>\n",
       "      <td>74</td>\n",
       "      <td>24</td>\n",
       "      <td>3.0</td>\n",
       "      <td>8185</td>\n",
       "    </tr>\n",
       "    <tr>\n",
       "      <th>...</th>\n",
       "      <td>...</td>\n",
       "      <td>...</td>\n",
       "      <td>...</td>\n",
       "      <td>...</td>\n",
       "      <td>...</td>\n",
       "      <td>...</td>\n",
       "      <td>...</td>\n",
       "      <td>...</td>\n",
       "      <td>...</td>\n",
       "      <td>...</td>\n",
       "      <td>...</td>\n",
       "      <td>...</td>\n",
       "      <td>...</td>\n",
       "      <td>...</td>\n",
       "      <td>...</td>\n",
       "      <td>...</td>\n",
       "      <td>...</td>\n",
       "      <td>...</td>\n",
       "    </tr>\n",
       "    <tr>\n",
       "      <th>471</th>\n",
       "      <td>2014</td>\n",
       "      <td>Male</td>\n",
       "      <td>Preventable/accidental</td>\n",
       "      <td>Preventable/accidental</td>\n",
       "      <td>Any Opioid</td>\n",
       "      <td>2</td>\n",
       "      <td>4</td>\n",
       "      <td>6</td>\n",
       "      <td>1850</td>\n",
       "      <td>4760</td>\n",
       "      <td>3704</td>\n",
       "      <td>3,631</td>\n",
       "      <td>2219</td>\n",
       "      <td>317</td>\n",
       "      <td>27</td>\n",
       "      <td>6</td>\n",
       "      <td>1.0</td>\n",
       "      <td>16527</td>\n",
       "    </tr>\n",
       "    <tr>\n",
       "      <th>475</th>\n",
       "      <td>2014</td>\n",
       "      <td>Male</td>\n",
       "      <td>Preventable/accidental</td>\n",
       "      <td>Preventable/accidental</td>\n",
       "      <td>Opioid subgroup - heroin</td>\n",
       "      <td>0</td>\n",
       "      <td>0</td>\n",
       "      <td>0</td>\n",
       "      <td>1026</td>\n",
       "      <td>2563</td>\n",
       "      <td>1775</td>\n",
       "      <td>1,442</td>\n",
       "      <td>805</td>\n",
       "      <td>106</td>\n",
       "      <td>4</td>\n",
       "      <td>1</td>\n",
       "      <td>0.0</td>\n",
       "      <td>7722</td>\n",
       "    </tr>\n",
       "    <tr>\n",
       "      <th>476</th>\n",
       "      <td>2014</td>\n",
       "      <td>Male</td>\n",
       "      <td>Preventable/accidental</td>\n",
       "      <td>Preventable/accidental</td>\n",
       "      <td>Opioid subgroup - methadone</td>\n",
       "      <td>0</td>\n",
       "      <td>1</td>\n",
       "      <td>1</td>\n",
       "      <td>162</td>\n",
       "      <td>484</td>\n",
       "      <td>408</td>\n",
       "      <td>403</td>\n",
       "      <td>317</td>\n",
       "      <td>40</td>\n",
       "      <td>2</td>\n",
       "      <td>0</td>\n",
       "      <td>0.0</td>\n",
       "      <td>1818</td>\n",
       "    </tr>\n",
       "    <tr>\n",
       "      <th>477</th>\n",
       "      <td>2014</td>\n",
       "      <td>Male</td>\n",
       "      <td>Preventable/accidental</td>\n",
       "      <td>Preventable/accidental</td>\n",
       "      <td>Opioid subgroup – including fentanyl</td>\n",
       "      <td>1</td>\n",
       "      <td>1</td>\n",
       "      <td>1</td>\n",
       "      <td>335</td>\n",
       "      <td>970</td>\n",
       "      <td>708</td>\n",
       "      <td>665</td>\n",
       "      <td>329</td>\n",
       "      <td>37</td>\n",
       "      <td>4</td>\n",
       "      <td>1</td>\n",
       "      <td>0.0</td>\n",
       "      <td>3052</td>\n",
       "    </tr>\n",
       "    <tr>\n",
       "      <th>478</th>\n",
       "      <td>2014</td>\n",
       "      <td>Male</td>\n",
       "      <td>Preventable/accidental</td>\n",
       "      <td>Preventable/accidental</td>\n",
       "      <td>Opioid subgroup – including oxycodone and hydr...</td>\n",
       "      <td>1</td>\n",
       "      <td>2</td>\n",
       "      <td>6</td>\n",
       "      <td>477</td>\n",
       "      <td>1289</td>\n",
       "      <td>1269</td>\n",
       "      <td>1,531</td>\n",
       "      <td>990</td>\n",
       "      <td>150</td>\n",
       "      <td>17</td>\n",
       "      <td>3</td>\n",
       "      <td>1.0</td>\n",
       "      <td>5736</td>\n",
       "    </tr>\n",
       "  </tbody>\n",
       "</table>\n",
       "<p>70 rows × 18 columns</p>\n",
       "</div>"
      ],
      "text/plain": [
       "     Year Gender                                        Intent  \\\n",
       "101  2020   Male  All (preventable, intentional, undetermined)   \n",
       "105  2020   Male  All (preventable, intentional, undetermined)   \n",
       "106  2020   Male  All (preventable, intentional, undetermined)   \n",
       "107  2020   Male  All (preventable, intentional, undetermined)   \n",
       "108  2020   Male  All (preventable, intentional, undetermined)   \n",
       "..    ...    ...                                           ...   \n",
       "471  2014   Male                        Preventable/accidental   \n",
       "475  2014   Male                        Preventable/accidental   \n",
       "476  2014   Male                        Preventable/accidental   \n",
       "477  2014   Male                        Preventable/accidental   \n",
       "478  2014   Male                        Preventable/accidental   \n",
       "\n",
       "                                         Intent.1  \\\n",
       "101  All (preventable, intentional, undetermined)   \n",
       "105  All (preventable, intentional, undetermined)   \n",
       "106  All (preventable, intentional, undetermined)   \n",
       "107  All (preventable, intentional, undetermined)   \n",
       "108  All (preventable, intentional, undetermined)   \n",
       "..                                            ...   \n",
       "471                        Preventable/accidental   \n",
       "475                        Preventable/accidental   \n",
       "476                        Preventable/accidental   \n",
       "477                        Preventable/accidental   \n",
       "478                        Preventable/accidental   \n",
       "\n",
       "                                             Drug type  < 1 year  1-4 years  \\\n",
       "101                                         Any Opioid        13         32   \n",
       "105                           Opioid subgroup - heroin         2          2   \n",
       "106                        Opioid subgroup - methadone         1          7   \n",
       "107               Opioid subgroup – including fentanyl        11         23   \n",
       "108  Opioid subgroup – including oxycodone and hydr...         1          2   \n",
       "..                                                 ...       ...        ...   \n",
       "471                                         Any Opioid         2          4   \n",
       "475                           Opioid subgroup - heroin         0          0   \n",
       "476                        Opioid subgroup - methadone         0          1   \n",
       "477               Opioid subgroup – including fentanyl         1          1   \n",
       "478  Opioid subgroup – including oxycodone and hydr...         1          2   \n",
       "\n",
       "     5-14 years  15-24 years  25-34 years  35-44 years 45-54 years  \\\n",
       "101          33         4402        13252        12638       9,184   \n",
       "105           1          481         2621         2611       2,000   \n",
       "106           2          101          376          519         456   \n",
       "107          25         3965        11632        10907       7,749   \n",
       "108           6          497         1844         2063       1,603   \n",
       "..          ...          ...          ...          ...         ...   \n",
       "471           6         1850         4760         3704       3,631   \n",
       "475           0         1026         2563         1775       1,442   \n",
       "476           1          162          484          408         403   \n",
       "477           1          335          970          708         665   \n",
       "478           6          477         1289         1269       1,531   \n",
       "\n",
       "     55-64 years  65-74 years  75-84 years  85+ years  Not stated  All ages  \n",
       "101         7138         1790          137         32         9.0     48660  \n",
       "105         1672          465           24          1         1.0      9881  \n",
       "106          475          186            7          0         2.0      2132  \n",
       "107         5632         1252           56          7         7.0     41266  \n",
       "108         1584          484           74         24         3.0      8185  \n",
       "..           ...          ...          ...        ...         ...       ...  \n",
       "471         2219          317           27          6         1.0     16527  \n",
       "475          805          106            4          1         0.0      7722  \n",
       "476          317           40            2          0         0.0      1818  \n",
       "477          329           37            4          1         0.0      3052  \n",
       "478          990          150           17          3         1.0      5736  \n",
       "\n",
       "[70 rows x 18 columns]"
      ]
     },
     "execution_count": 116,
     "metadata": {},
     "output_type": "execute_result"
    }
   ],
   "source": [
    "# genderDf\n",
    "maleDf = genderDf[genderDf['Gender'] == 'Male']\n",
    "maleDf"
   ]
  },
  {
   "cell_type": "code",
   "execution_count": 127,
   "id": "ffaa960c-9860-43f4-8fca-e6fd93da812c",
   "metadata": {
    "tags": []
   },
   "outputs": [],
   "source": [
    "maleGroup = maleDf.groupby(['Year', 'Drug type'], as_index=False)['All ages'].sum()"
   ]
  },
  {
   "cell_type": "code",
   "execution_count": 129,
   "id": "023bd6c5-956e-4fb8-b35e-6f5e56a89465",
   "metadata": {},
   "outputs": [
    {
     "data": {
      "text/html": [
       "<div>\n",
       "<style scoped>\n",
       "    .dataframe tbody tr th:only-of-type {\n",
       "        vertical-align: middle;\n",
       "    }\n",
       "\n",
       "    .dataframe tbody tr th {\n",
       "        vertical-align: top;\n",
       "    }\n",
       "\n",
       "    .dataframe thead th {\n",
       "        text-align: right;\n",
       "    }\n",
       "</style>\n",
       "<table border=\"1\" class=\"dataframe\">\n",
       "  <thead>\n",
       "    <tr style=\"text-align: right;\">\n",
       "      <th></th>\n",
       "      <th>Year</th>\n",
       "      <th>Drug type</th>\n",
       "      <th>All ages</th>\n",
       "    </tr>\n",
       "  </thead>\n",
       "  <tbody>\n",
       "    <tr>\n",
       "      <th>0</th>\n",
       "      <td>2014</td>\n",
       "      <td>Any Opioid</td>\n",
       "      <td>34947</td>\n",
       "    </tr>\n",
       "    <tr>\n",
       "      <th>1</th>\n",
       "      <td>2014</td>\n",
       "      <td>Opioid subgroup - heroin</td>\n",
       "      <td>15882</td>\n",
       "    </tr>\n",
       "    <tr>\n",
       "      <th>2</th>\n",
       "      <td>2014</td>\n",
       "      <td>Opioid subgroup - methadone</td>\n",
       "      <td>3827</td>\n",
       "    </tr>\n",
       "    <tr>\n",
       "      <th>3</th>\n",
       "      <td>2014</td>\n",
       "      <td>Opioid subgroup – including fentanyl</td>\n",
       "      <td>6517</td>\n",
       "    </tr>\n",
       "    <tr>\n",
       "      <th>4</th>\n",
       "      <td>2014</td>\n",
       "      <td>Opioid subgroup – including oxycodone and hydr...</td>\n",
       "      <td>12468</td>\n",
       "    </tr>\n",
       "    <tr>\n",
       "      <th>5</th>\n",
       "      <td>2015</td>\n",
       "      <td>Any Opioid</td>\n",
       "      <td>41371</td>\n",
       "    </tr>\n",
       "    <tr>\n",
       "      <th>6</th>\n",
       "      <td>2015</td>\n",
       "      <td>Opioid subgroup - heroin</td>\n",
       "      <td>19232</td>\n",
       "    </tr>\n",
       "    <tr>\n",
       "      <th>7</th>\n",
       "      <td>2015</td>\n",
       "      <td>Opioid subgroup - methadone</td>\n",
       "      <td>3688</td>\n",
       "    </tr>\n",
       "    <tr>\n",
       "      <th>8</th>\n",
       "      <td>2015</td>\n",
       "      <td>Opioid subgroup – including fentanyl</td>\n",
       "      <td>12588</td>\n",
       "    </tr>\n",
       "    <tr>\n",
       "      <th>9</th>\n",
       "      <td>2015</td>\n",
       "      <td>Opioid subgroup – including oxycodone and hydr...</td>\n",
       "      <td>13251</td>\n",
       "    </tr>\n",
       "    <tr>\n",
       "      <th>10</th>\n",
       "      <td>2016</td>\n",
       "      <td>Any Opioid</td>\n",
       "      <td>54567</td>\n",
       "    </tr>\n",
       "    <tr>\n",
       "      <th>11</th>\n",
       "      <td>2016</td>\n",
       "      <td>Opioid subgroup - heroin</td>\n",
       "      <td>22878</td>\n",
       "    </tr>\n",
       "    <tr>\n",
       "      <th>12</th>\n",
       "      <td>2016</td>\n",
       "      <td>Opioid subgroup - methadone</td>\n",
       "      <td>3817</td>\n",
       "    </tr>\n",
       "    <tr>\n",
       "      <th>13</th>\n",
       "      <td>2016</td>\n",
       "      <td>Opioid subgroup – including fentanyl</td>\n",
       "      <td>26604</td>\n",
       "    </tr>\n",
       "    <tr>\n",
       "      <th>14</th>\n",
       "      <td>2016</td>\n",
       "      <td>Opioid subgroup – including oxycodone and hydr...</td>\n",
       "      <td>15722</td>\n",
       "    </tr>\n",
       "    <tr>\n",
       "      <th>15</th>\n",
       "      <td>2017</td>\n",
       "      <td>Any Opioid</td>\n",
       "      <td>62109</td>\n",
       "    </tr>\n",
       "    <tr>\n",
       "      <th>16</th>\n",
       "      <td>2017</td>\n",
       "      <td>Opioid subgroup - heroin</td>\n",
       "      <td>22674</td>\n",
       "    </tr>\n",
       "    <tr>\n",
       "      <th>17</th>\n",
       "      <td>2017</td>\n",
       "      <td>Opioid subgroup - methadone</td>\n",
       "      <td>3550</td>\n",
       "    </tr>\n",
       "    <tr>\n",
       "      <th>18</th>\n",
       "      <td>2017</td>\n",
       "      <td>Opioid subgroup – including fentanyl</td>\n",
       "      <td>39569</td>\n",
       "    </tr>\n",
       "    <tr>\n",
       "      <th>19</th>\n",
       "      <td>2017</td>\n",
       "      <td>Opioid subgroup – including oxycodone and hydr...</td>\n",
       "      <td>15725</td>\n",
       "    </tr>\n",
       "    <tr>\n",
       "      <th>20</th>\n",
       "      <td>2018</td>\n",
       "      <td>Any Opioid</td>\n",
       "      <td>61696</td>\n",
       "    </tr>\n",
       "    <tr>\n",
       "      <th>21</th>\n",
       "      <td>2018</td>\n",
       "      <td>Opioid subgroup - heroin</td>\n",
       "      <td>22183</td>\n",
       "    </tr>\n",
       "    <tr>\n",
       "      <th>22</th>\n",
       "      <td>2018</td>\n",
       "      <td>Opioid subgroup - methadone</td>\n",
       "      <td>3341</td>\n",
       "    </tr>\n",
       "    <tr>\n",
       "      <th>23</th>\n",
       "      <td>2018</td>\n",
       "      <td>Opioid subgroup – including fentanyl</td>\n",
       "      <td>43440</td>\n",
       "    </tr>\n",
       "    <tr>\n",
       "      <th>24</th>\n",
       "      <td>2018</td>\n",
       "      <td>Opioid subgroup – including oxycodone and hydr...</td>\n",
       "      <td>13781</td>\n",
       "    </tr>\n",
       "    <tr>\n",
       "      <th>25</th>\n",
       "      <td>2019</td>\n",
       "      <td>Any Opioid</td>\n",
       "      <td>66766</td>\n",
       "    </tr>\n",
       "    <tr>\n",
       "      <th>26</th>\n",
       "      <td>2019</td>\n",
       "      <td>Opioid subgroup - heroin</td>\n",
       "      <td>20712</td>\n",
       "    </tr>\n",
       "    <tr>\n",
       "      <th>27</th>\n",
       "      <td>2019</td>\n",
       "      <td>Opioid subgroup - methadone</td>\n",
       "      <td>3052</td>\n",
       "    </tr>\n",
       "    <tr>\n",
       "      <th>28</th>\n",
       "      <td>2019</td>\n",
       "      <td>Opioid subgroup – including fentanyl</td>\n",
       "      <td>50853</td>\n",
       "    </tr>\n",
       "    <tr>\n",
       "      <th>29</th>\n",
       "      <td>2019</td>\n",
       "      <td>Opioid subgroup – including oxycodone and hydr...</td>\n",
       "      <td>13181</td>\n",
       "    </tr>\n",
       "    <tr>\n",
       "      <th>30</th>\n",
       "      <td>2020</td>\n",
       "      <td>Any Opioid</td>\n",
       "      <td>94651</td>\n",
       "    </tr>\n",
       "    <tr>\n",
       "      <th>31</th>\n",
       "      <td>2020</td>\n",
       "      <td>Opioid subgroup - heroin</td>\n",
       "      <td>19548</td>\n",
       "    </tr>\n",
       "    <tr>\n",
       "      <th>32</th>\n",
       "      <td>2020</td>\n",
       "      <td>Opioid subgroup - methadone</td>\n",
       "      <td>4081</td>\n",
       "    </tr>\n",
       "    <tr>\n",
       "      <th>33</th>\n",
       "      <td>2020</td>\n",
       "      <td>Opioid subgroup – including fentanyl</td>\n",
       "      <td>80486</td>\n",
       "    </tr>\n",
       "    <tr>\n",
       "      <th>34</th>\n",
       "      <td>2020</td>\n",
       "      <td>Opioid subgroup – including oxycodone and hydr...</td>\n",
       "      <td>15634</td>\n",
       "    </tr>\n",
       "  </tbody>\n",
       "</table>\n",
       "</div>"
      ],
      "text/plain": [
       "    Year                                          Drug type  All ages\n",
       "0   2014                                         Any Opioid     34947\n",
       "1   2014                           Opioid subgroup - heroin     15882\n",
       "2   2014                        Opioid subgroup - methadone      3827\n",
       "3   2014               Opioid subgroup – including fentanyl      6517\n",
       "4   2014  Opioid subgroup – including oxycodone and hydr...     12468\n",
       "5   2015                                         Any Opioid     41371\n",
       "6   2015                           Opioid subgroup - heroin     19232\n",
       "7   2015                        Opioid subgroup - methadone      3688\n",
       "8   2015               Opioid subgroup – including fentanyl     12588\n",
       "9   2015  Opioid subgroup – including oxycodone and hydr...     13251\n",
       "10  2016                                         Any Opioid     54567\n",
       "11  2016                           Opioid subgroup - heroin     22878\n",
       "12  2016                        Opioid subgroup - methadone      3817\n",
       "13  2016               Opioid subgroup – including fentanyl     26604\n",
       "14  2016  Opioid subgroup – including oxycodone and hydr...     15722\n",
       "15  2017                                         Any Opioid     62109\n",
       "16  2017                           Opioid subgroup - heroin     22674\n",
       "17  2017                        Opioid subgroup - methadone      3550\n",
       "18  2017               Opioid subgroup – including fentanyl     39569\n",
       "19  2017  Opioid subgroup – including oxycodone and hydr...     15725\n",
       "20  2018                                         Any Opioid     61696\n",
       "21  2018                           Opioid subgroup - heroin     22183\n",
       "22  2018                        Opioid subgroup - methadone      3341\n",
       "23  2018               Opioid subgroup – including fentanyl     43440\n",
       "24  2018  Opioid subgroup – including oxycodone and hydr...     13781\n",
       "25  2019                                         Any Opioid     66766\n",
       "26  2019                           Opioid subgroup - heroin     20712\n",
       "27  2019                        Opioid subgroup - methadone      3052\n",
       "28  2019               Opioid subgroup – including fentanyl     50853\n",
       "29  2019  Opioid subgroup – including oxycodone and hydr...     13181\n",
       "30  2020                                         Any Opioid     94651\n",
       "31  2020                           Opioid subgroup - heroin     19548\n",
       "32  2020                        Opioid subgroup - methadone      4081\n",
       "33  2020               Opioid subgroup – including fentanyl     80486\n",
       "34  2020  Opioid subgroup – including oxycodone and hydr...     15634"
      ]
     },
     "execution_count": 129,
     "metadata": {},
     "output_type": "execute_result"
    }
   ],
   "source": [
    "maleGroup"
   ]
  },
  {
   "cell_type": "code",
   "execution_count": 132,
   "id": "ac83d29c-1f19-47ba-90b1-29c9076722a0",
   "metadata": {},
   "outputs": [
    {
     "data": {
      "application/vnd.plotly.v1+json": {
       "config": {
        "plotlyServerURL": "https://plot.ly"
       },
       "data": [
        {
         "hovertemplate": "Drug type=Any Opioid<br>Year=%{x}<br>All ages=%{y}<extra></extra>",
         "legendgroup": "Any Opioid",
         "line": {
          "color": "#636efa",
          "dash": "solid"
         },
         "marker": {
          "symbol": "circle"
         },
         "mode": "lines+markers",
         "name": "Any Opioid",
         "orientation": "v",
         "showlegend": true,
         "type": "scatter",
         "x": [
          2014,
          2015,
          2016,
          2017,
          2018,
          2019,
          2020
         ],
         "xaxis": "x",
         "y": [
          34947,
          41371,
          54567,
          62109,
          61696,
          66766,
          94651
         ],
         "yaxis": "y"
        },
        {
         "hovertemplate": "Drug type=Opioid subgroup - heroin<br>Year=%{x}<br>All ages=%{y}<extra></extra>",
         "legendgroup": "Opioid subgroup - heroin",
         "line": {
          "color": "#EF553B",
          "dash": "solid"
         },
         "marker": {
          "symbol": "circle"
         },
         "mode": "lines+markers",
         "name": "Opioid subgroup - heroin",
         "orientation": "v",
         "showlegend": true,
         "type": "scatter",
         "x": [
          2014,
          2015,
          2016,
          2017,
          2018,
          2019,
          2020
         ],
         "xaxis": "x",
         "y": [
          15882,
          19232,
          22878,
          22674,
          22183,
          20712,
          19548
         ],
         "yaxis": "y"
        },
        {
         "hovertemplate": "Drug type=Opioid subgroup - methadone<br>Year=%{x}<br>All ages=%{y}<extra></extra>",
         "legendgroup": "Opioid subgroup - methadone",
         "line": {
          "color": "#00cc96",
          "dash": "solid"
         },
         "marker": {
          "symbol": "circle"
         },
         "mode": "lines+markers",
         "name": "Opioid subgroup - methadone",
         "orientation": "v",
         "showlegend": true,
         "type": "scatter",
         "x": [
          2014,
          2015,
          2016,
          2017,
          2018,
          2019,
          2020
         ],
         "xaxis": "x",
         "y": [
          3827,
          3688,
          3817,
          3550,
          3341,
          3052,
          4081
         ],
         "yaxis": "y"
        },
        {
         "hovertemplate": "Drug type=Opioid subgroup – including fentanyl<br>Year=%{x}<br>All ages=%{y}<extra></extra>",
         "legendgroup": "Opioid subgroup – including fentanyl",
         "line": {
          "color": "#ab63fa",
          "dash": "solid"
         },
         "marker": {
          "symbol": "circle"
         },
         "mode": "lines+markers",
         "name": "Opioid subgroup – including fentanyl",
         "orientation": "v",
         "showlegend": true,
         "type": "scatter",
         "x": [
          2014,
          2015,
          2016,
          2017,
          2018,
          2019,
          2020
         ],
         "xaxis": "x",
         "y": [
          6517,
          12588,
          26604,
          39569,
          43440,
          50853,
          80486
         ],
         "yaxis": "y"
        },
        {
         "hovertemplate": "Drug type=Opioid subgroup – including oxycodone and hydrocodone<br>Year=%{x}<br>All ages=%{y}<extra></extra>",
         "legendgroup": "Opioid subgroup – including oxycodone and hydrocodone",
         "line": {
          "color": "#FFA15A",
          "dash": "solid"
         },
         "marker": {
          "symbol": "circle"
         },
         "mode": "lines+markers",
         "name": "Opioid subgroup – including oxycodone and hydrocodone",
         "orientation": "v",
         "showlegend": true,
         "type": "scatter",
         "x": [
          2014,
          2015,
          2016,
          2017,
          2018,
          2019,
          2020
         ],
         "xaxis": "x",
         "y": [
          12468,
          13251,
          15722,
          15725,
          13781,
          13181,
          15634
         ],
         "yaxis": "y"
        }
       ],
       "layout": {
        "height": 400,
        "legend": {
         "title": {
          "text": "Drug type"
         },
         "tracegroupgap": 0
        },
        "margin": {
         "t": 60
        },
        "template": {
         "data": {
          "bar": [
           {
            "error_x": {
             "color": "#2a3f5f"
            },
            "error_y": {
             "color": "#2a3f5f"
            },
            "marker": {
             "line": {
              "color": "#E5ECF6",
              "width": 0.5
             },
             "pattern": {
              "fillmode": "overlay",
              "size": 10,
              "solidity": 0.2
             }
            },
            "type": "bar"
           }
          ],
          "barpolar": [
           {
            "marker": {
             "line": {
              "color": "#E5ECF6",
              "width": 0.5
             },
             "pattern": {
              "fillmode": "overlay",
              "size": 10,
              "solidity": 0.2
             }
            },
            "type": "barpolar"
           }
          ],
          "carpet": [
           {
            "aaxis": {
             "endlinecolor": "#2a3f5f",
             "gridcolor": "white",
             "linecolor": "white",
             "minorgridcolor": "white",
             "startlinecolor": "#2a3f5f"
            },
            "baxis": {
             "endlinecolor": "#2a3f5f",
             "gridcolor": "white",
             "linecolor": "white",
             "minorgridcolor": "white",
             "startlinecolor": "#2a3f5f"
            },
            "type": "carpet"
           }
          ],
          "choropleth": [
           {
            "colorbar": {
             "outlinewidth": 0,
             "ticks": ""
            },
            "type": "choropleth"
           }
          ],
          "contour": [
           {
            "colorbar": {
             "outlinewidth": 0,
             "ticks": ""
            },
            "colorscale": [
             [
              0,
              "#0d0887"
             ],
             [
              0.1111111111111111,
              "#46039f"
             ],
             [
              0.2222222222222222,
              "#7201a8"
             ],
             [
              0.3333333333333333,
              "#9c179e"
             ],
             [
              0.4444444444444444,
              "#bd3786"
             ],
             [
              0.5555555555555556,
              "#d8576b"
             ],
             [
              0.6666666666666666,
              "#ed7953"
             ],
             [
              0.7777777777777778,
              "#fb9f3a"
             ],
             [
              0.8888888888888888,
              "#fdca26"
             ],
             [
              1,
              "#f0f921"
             ]
            ],
            "type": "contour"
           }
          ],
          "contourcarpet": [
           {
            "colorbar": {
             "outlinewidth": 0,
             "ticks": ""
            },
            "type": "contourcarpet"
           }
          ],
          "heatmap": [
           {
            "colorbar": {
             "outlinewidth": 0,
             "ticks": ""
            },
            "colorscale": [
             [
              0,
              "#0d0887"
             ],
             [
              0.1111111111111111,
              "#46039f"
             ],
             [
              0.2222222222222222,
              "#7201a8"
             ],
             [
              0.3333333333333333,
              "#9c179e"
             ],
             [
              0.4444444444444444,
              "#bd3786"
             ],
             [
              0.5555555555555556,
              "#d8576b"
             ],
             [
              0.6666666666666666,
              "#ed7953"
             ],
             [
              0.7777777777777778,
              "#fb9f3a"
             ],
             [
              0.8888888888888888,
              "#fdca26"
             ],
             [
              1,
              "#f0f921"
             ]
            ],
            "type": "heatmap"
           }
          ],
          "heatmapgl": [
           {
            "colorbar": {
             "outlinewidth": 0,
             "ticks": ""
            },
            "colorscale": [
             [
              0,
              "#0d0887"
             ],
             [
              0.1111111111111111,
              "#46039f"
             ],
             [
              0.2222222222222222,
              "#7201a8"
             ],
             [
              0.3333333333333333,
              "#9c179e"
             ],
             [
              0.4444444444444444,
              "#bd3786"
             ],
             [
              0.5555555555555556,
              "#d8576b"
             ],
             [
              0.6666666666666666,
              "#ed7953"
             ],
             [
              0.7777777777777778,
              "#fb9f3a"
             ],
             [
              0.8888888888888888,
              "#fdca26"
             ],
             [
              1,
              "#f0f921"
             ]
            ],
            "type": "heatmapgl"
           }
          ],
          "histogram": [
           {
            "marker": {
             "pattern": {
              "fillmode": "overlay",
              "size": 10,
              "solidity": 0.2
             }
            },
            "type": "histogram"
           }
          ],
          "histogram2d": [
           {
            "colorbar": {
             "outlinewidth": 0,
             "ticks": ""
            },
            "colorscale": [
             [
              0,
              "#0d0887"
             ],
             [
              0.1111111111111111,
              "#46039f"
             ],
             [
              0.2222222222222222,
              "#7201a8"
             ],
             [
              0.3333333333333333,
              "#9c179e"
             ],
             [
              0.4444444444444444,
              "#bd3786"
             ],
             [
              0.5555555555555556,
              "#d8576b"
             ],
             [
              0.6666666666666666,
              "#ed7953"
             ],
             [
              0.7777777777777778,
              "#fb9f3a"
             ],
             [
              0.8888888888888888,
              "#fdca26"
             ],
             [
              1,
              "#f0f921"
             ]
            ],
            "type": "histogram2d"
           }
          ],
          "histogram2dcontour": [
           {
            "colorbar": {
             "outlinewidth": 0,
             "ticks": ""
            },
            "colorscale": [
             [
              0,
              "#0d0887"
             ],
             [
              0.1111111111111111,
              "#46039f"
             ],
             [
              0.2222222222222222,
              "#7201a8"
             ],
             [
              0.3333333333333333,
              "#9c179e"
             ],
             [
              0.4444444444444444,
              "#bd3786"
             ],
             [
              0.5555555555555556,
              "#d8576b"
             ],
             [
              0.6666666666666666,
              "#ed7953"
             ],
             [
              0.7777777777777778,
              "#fb9f3a"
             ],
             [
              0.8888888888888888,
              "#fdca26"
             ],
             [
              1,
              "#f0f921"
             ]
            ],
            "type": "histogram2dcontour"
           }
          ],
          "mesh3d": [
           {
            "colorbar": {
             "outlinewidth": 0,
             "ticks": ""
            },
            "type": "mesh3d"
           }
          ],
          "parcoords": [
           {
            "line": {
             "colorbar": {
              "outlinewidth": 0,
              "ticks": ""
             }
            },
            "type": "parcoords"
           }
          ],
          "pie": [
           {
            "automargin": true,
            "type": "pie"
           }
          ],
          "scatter": [
           {
            "fillpattern": {
             "fillmode": "overlay",
             "size": 10,
             "solidity": 0.2
            },
            "type": "scatter"
           }
          ],
          "scatter3d": [
           {
            "line": {
             "colorbar": {
              "outlinewidth": 0,
              "ticks": ""
             }
            },
            "marker": {
             "colorbar": {
              "outlinewidth": 0,
              "ticks": ""
             }
            },
            "type": "scatter3d"
           }
          ],
          "scattercarpet": [
           {
            "marker": {
             "colorbar": {
              "outlinewidth": 0,
              "ticks": ""
             }
            },
            "type": "scattercarpet"
           }
          ],
          "scattergeo": [
           {
            "marker": {
             "colorbar": {
              "outlinewidth": 0,
              "ticks": ""
             }
            },
            "type": "scattergeo"
           }
          ],
          "scattergl": [
           {
            "marker": {
             "colorbar": {
              "outlinewidth": 0,
              "ticks": ""
             }
            },
            "type": "scattergl"
           }
          ],
          "scattermapbox": [
           {
            "marker": {
             "colorbar": {
              "outlinewidth": 0,
              "ticks": ""
             }
            },
            "type": "scattermapbox"
           }
          ],
          "scatterpolar": [
           {
            "marker": {
             "colorbar": {
              "outlinewidth": 0,
              "ticks": ""
             }
            },
            "type": "scatterpolar"
           }
          ],
          "scatterpolargl": [
           {
            "marker": {
             "colorbar": {
              "outlinewidth": 0,
              "ticks": ""
             }
            },
            "type": "scatterpolargl"
           }
          ],
          "scatterternary": [
           {
            "marker": {
             "colorbar": {
              "outlinewidth": 0,
              "ticks": ""
             }
            },
            "type": "scatterternary"
           }
          ],
          "surface": [
           {
            "colorbar": {
             "outlinewidth": 0,
             "ticks": ""
            },
            "colorscale": [
             [
              0,
              "#0d0887"
             ],
             [
              0.1111111111111111,
              "#46039f"
             ],
             [
              0.2222222222222222,
              "#7201a8"
             ],
             [
              0.3333333333333333,
              "#9c179e"
             ],
             [
              0.4444444444444444,
              "#bd3786"
             ],
             [
              0.5555555555555556,
              "#d8576b"
             ],
             [
              0.6666666666666666,
              "#ed7953"
             ],
             [
              0.7777777777777778,
              "#fb9f3a"
             ],
             [
              0.8888888888888888,
              "#fdca26"
             ],
             [
              1,
              "#f0f921"
             ]
            ],
            "type": "surface"
           }
          ],
          "table": [
           {
            "cells": {
             "fill": {
              "color": "#EBF0F8"
             },
             "line": {
              "color": "white"
             }
            },
            "header": {
             "fill": {
              "color": "#C8D4E3"
             },
             "line": {
              "color": "white"
             }
            },
            "type": "table"
           }
          ]
         },
         "layout": {
          "annotationdefaults": {
           "arrowcolor": "#2a3f5f",
           "arrowhead": 0,
           "arrowwidth": 1
          },
          "autotypenumbers": "strict",
          "coloraxis": {
           "colorbar": {
            "outlinewidth": 0,
            "ticks": ""
           }
          },
          "colorscale": {
           "diverging": [
            [
             0,
             "#8e0152"
            ],
            [
             0.1,
             "#c51b7d"
            ],
            [
             0.2,
             "#de77ae"
            ],
            [
             0.3,
             "#f1b6da"
            ],
            [
             0.4,
             "#fde0ef"
            ],
            [
             0.5,
             "#f7f7f7"
            ],
            [
             0.6,
             "#e6f5d0"
            ],
            [
             0.7,
             "#b8e186"
            ],
            [
             0.8,
             "#7fbc41"
            ],
            [
             0.9,
             "#4d9221"
            ],
            [
             1,
             "#276419"
            ]
           ],
           "sequential": [
            [
             0,
             "#0d0887"
            ],
            [
             0.1111111111111111,
             "#46039f"
            ],
            [
             0.2222222222222222,
             "#7201a8"
            ],
            [
             0.3333333333333333,
             "#9c179e"
            ],
            [
             0.4444444444444444,
             "#bd3786"
            ],
            [
             0.5555555555555556,
             "#d8576b"
            ],
            [
             0.6666666666666666,
             "#ed7953"
            ],
            [
             0.7777777777777778,
             "#fb9f3a"
            ],
            [
             0.8888888888888888,
             "#fdca26"
            ],
            [
             1,
             "#f0f921"
            ]
           ],
           "sequentialminus": [
            [
             0,
             "#0d0887"
            ],
            [
             0.1111111111111111,
             "#46039f"
            ],
            [
             0.2222222222222222,
             "#7201a8"
            ],
            [
             0.3333333333333333,
             "#9c179e"
            ],
            [
             0.4444444444444444,
             "#bd3786"
            ],
            [
             0.5555555555555556,
             "#d8576b"
            ],
            [
             0.6666666666666666,
             "#ed7953"
            ],
            [
             0.7777777777777778,
             "#fb9f3a"
            ],
            [
             0.8888888888888888,
             "#fdca26"
            ],
            [
             1,
             "#f0f921"
            ]
           ]
          },
          "colorway": [
           "#636efa",
           "#EF553B",
           "#00cc96",
           "#ab63fa",
           "#FFA15A",
           "#19d3f3",
           "#FF6692",
           "#B6E880",
           "#FF97FF",
           "#FECB52"
          ],
          "font": {
           "color": "#2a3f5f"
          },
          "geo": {
           "bgcolor": "white",
           "lakecolor": "white",
           "landcolor": "#E5ECF6",
           "showlakes": true,
           "showland": true,
           "subunitcolor": "white"
          },
          "hoverlabel": {
           "align": "left"
          },
          "hovermode": "closest",
          "mapbox": {
           "style": "light"
          },
          "paper_bgcolor": "white",
          "plot_bgcolor": "#E5ECF6",
          "polar": {
           "angularaxis": {
            "gridcolor": "white",
            "linecolor": "white",
            "ticks": ""
           },
           "bgcolor": "#E5ECF6",
           "radialaxis": {
            "gridcolor": "white",
            "linecolor": "white",
            "ticks": ""
           }
          },
          "scene": {
           "xaxis": {
            "backgroundcolor": "#E5ECF6",
            "gridcolor": "white",
            "gridwidth": 2,
            "linecolor": "white",
            "showbackground": true,
            "ticks": "",
            "zerolinecolor": "white"
           },
           "yaxis": {
            "backgroundcolor": "#E5ECF6",
            "gridcolor": "white",
            "gridwidth": 2,
            "linecolor": "white",
            "showbackground": true,
            "ticks": "",
            "zerolinecolor": "white"
           },
           "zaxis": {
            "backgroundcolor": "#E5ECF6",
            "gridcolor": "white",
            "gridwidth": 2,
            "linecolor": "white",
            "showbackground": true,
            "ticks": "",
            "zerolinecolor": "white"
           }
          },
          "shapedefaults": {
           "line": {
            "color": "#2a3f5f"
           }
          },
          "ternary": {
           "aaxis": {
            "gridcolor": "white",
            "linecolor": "white",
            "ticks": ""
           },
           "baxis": {
            "gridcolor": "white",
            "linecolor": "white",
            "ticks": ""
           },
           "bgcolor": "#E5ECF6",
           "caxis": {
            "gridcolor": "white",
            "linecolor": "white",
            "ticks": ""
           }
          },
          "title": {
           "x": 0.05
          },
          "xaxis": {
           "automargin": true,
           "gridcolor": "white",
           "linecolor": "white",
           "ticks": "",
           "title": {
            "standoff": 15
           },
           "zerolinecolor": "white",
           "zerolinewidth": 2
          },
          "yaxis": {
           "automargin": true,
           "gridcolor": "white",
           "linecolor": "white",
           "ticks": "",
           "title": {
            "standoff": 15
           },
           "zerolinecolor": "white",
           "zerolinewidth": 2
          }
         }
        },
        "width": 900,
        "xaxis": {
         "anchor": "y",
         "autorange": true,
         "domain": [
          0,
          1
         ],
         "range": [
          2013.5973377703826,
          2020.4026622296174
         ],
         "title": {
          "text": "Year"
         },
         "type": "linear"
        },
        "yaxis": {
         "anchor": "x",
         "autorange": true,
         "domain": [
          0,
          1
         ],
         "range": [
          -3721.877483443708,
          101424.8774834437
         ],
         "title": {
          "text": "All ages"
         },
         "type": "linear"
        }
       }
      },
      "image/png": "[encoded data removed]",
      "text/html": [
       "<div>                            <div id=\"cbbcb301-fef7-44a5-a16b-b483b6ed5c2f\" class=\"plotly-graph-div\" style=\"height:400px; width:900px;\"></div>            <script type=\"text/javascript\">                require([\"plotly\"], function(Plotly) {                    window.PLOTLYENV=window.PLOTLYENV || {};                                    if (document.getElementById(\"cbbcb301-fef7-44a5-a16b-b483b6ed5c2f\")) {                    Plotly.newPlot(                        \"cbbcb301-fef7-44a5-a16b-b483b6ed5c2f\",                        [{\"hovertemplate\":\"Drug type=Any Opioid<br>Year=%{x}<br>All ages=%{y}<extra></extra>\",\"legendgroup\":\"Any Opioid\",\"line\":{\"color\":\"#636efa\",\"dash\":\"solid\"},\"marker\":{\"symbol\":\"circle\"},\"mode\":\"lines+markers\",\"name\":\"Any Opioid\",\"orientation\":\"v\",\"showlegend\":true,\"x\":[2014,2015,2016,2017,2018,2019,2020],\"xaxis\":\"x\",\"y\":[34947,41371,54567,62109,61696,66766,94651],\"yaxis\":\"y\",\"type\":\"scatter\"},{\"hovertemplate\":\"Drug type=Opioid subgroup - heroin<br>Year=%{x}<br>All ages=%{y}<extra></extra>\",\"legendgroup\":\"Opioid subgroup - heroin\",\"line\":{\"color\":\"#EF553B\",\"dash\":\"solid\"},\"marker\":{\"symbol\":\"circle\"},\"mode\":\"lines+markers\",\"name\":\"Opioid subgroup - heroin\",\"orientation\":\"v\",\"showlegend\":true,\"x\":[2014,2015,2016,2017,2018,2019,2020],\"xaxis\":\"x\",\"y\":[15882,19232,22878,22674,22183,20712,19548],\"yaxis\":\"y\",\"type\":\"scatter\"},{\"hovertemplate\":\"Drug type=Opioid subgroup - methadone<br>Year=%{x}<br>All ages=%{y}<extra></extra>\",\"legendgroup\":\"Opioid subgroup - methadone\",\"line\":{\"color\":\"#00cc96\",\"dash\":\"solid\"},\"marker\":{\"symbol\":\"circle\"},\"mode\":\"lines+markers\",\"name\":\"Opioid subgroup - methadone\",\"orientation\":\"v\",\"showlegend\":true,\"x\":[2014,2015,2016,2017,2018,2019,2020],\"xaxis\":\"x\",\"y\":[3827,3688,3817,3550,3341,3052,4081],\"yaxis\":\"y\",\"type\":\"scatter\"},{\"hovertemplate\":\"Drug type=Opioid subgroup \\u2013 including fentanyl<br>Year=%{x}<br>All ages=%{y}<extra></extra>\",\"legendgroup\":\"Opioid subgroup \\u2013 including fentanyl\",\"line\":{\"color\":\"#ab63fa\",\"dash\":\"solid\"},\"marker\":{\"symbol\":\"circle\"},\"mode\":\"lines+markers\",\"name\":\"Opioid subgroup \\u2013 including fentanyl\",\"orientation\":\"v\",\"showlegend\":true,\"x\":[2014,2015,2016,2017,2018,2019,2020],\"xaxis\":\"x\",\"y\":[6517,12588,26604,39569,43440,50853,80486],\"yaxis\":\"y\",\"type\":\"scatter\"},{\"hovertemplate\":\"Drug type=Opioid subgroup \\u2013 including oxycodone and hydrocodone<br>Year=%{x}<br>All ages=%{y}<extra></extra>\",\"legendgroup\":\"Opioid subgroup \\u2013 including oxycodone and hydrocodone\",\"line\":{\"color\":\"#FFA15A\",\"dash\":\"solid\"},\"marker\":{\"symbol\":\"circle\"},\"mode\":\"lines+markers\",\"name\":\"Opioid subgroup \\u2013 including oxycodone and hydrocodone\",\"orientation\":\"v\",\"showlegend\":true,\"x\":[2014,2015,2016,2017,2018,2019,2020],\"xaxis\":\"x\",\"y\":[12468,13251,15722,15725,13781,13181,15634],\"yaxis\":\"y\",\"type\":\"scatter\"}],                        {\"template\":{\"data\":{\"histogram2dcontour\":[{\"type\":\"histogram2dcontour\",\"colorbar\":{\"outlinewidth\":0,\"ticks\":\"\"},\"colorscale\":[[0.0,\"#0d0887\"],[0.1111111111111111,\"#46039f\"],[0.2222222222222222,\"#7201a8\"],[0.3333333333333333,\"#9c179e\"],[0.4444444444444444,\"#bd3786\"],[0.5555555555555556,\"#d8576b\"],[0.6666666666666666,\"#ed7953\"],[0.7777777777777778,\"#fb9f3a\"],[0.8888888888888888,\"#fdca26\"],[1.0,\"#f0f921\"]]}],\"choropleth\":[{\"type\":\"choropleth\",\"colorbar\":{\"outlinewidth\":0,\"ticks\":\"\"}}],\"histogram2d\":[{\"type\":\"histogram2d\",\"colorbar\":{\"outlinewidth\":0,\"ticks\":\"\"},\"colorscale\":[[0.0,\"#0d0887\"],[0.1111111111111111,\"#46039f\"],[0.2222222222222222,\"#7201a8\"],[0.3333333333333333,\"#9c179e\"],[0.4444444444444444,\"#bd3786\"],[0.5555555555555556,\"#d8576b\"],[0.6666666666666666,\"#ed7953\"],[0.7777777777777778,\"#fb9f3a\"],[0.8888888888888888,\"#fdca26\"],[1.0,\"#f0f921\"]]}],\"heatmap\":[{\"type\":\"heatmap\",\"colorbar\":{\"outlinewidth\":0,\"ticks\":\"\"},\"colorscale\":[[0.0,\"#0d0887\"],[0.1111111111111111,\"#46039f\"],[0.2222222222222222,\"#7201a8\"],[0.3333333333333333,\"#9c179e\"],[0.4444444444444444,\"#bd3786\"],[0.5555555555555556,\"#d8576b\"],[0.6666666666666666,\"#ed7953\"],[0.7777777777777778,\"#fb9f3a\"],[0.8888888888888888,\"#fdca26\"],[1.0,\"#f0f921\"]]}],\"heatmapgl\":[{\"type\":\"heatmapgl\",\"colorbar\":{\"outlinewidth\":0,\"ticks\":\"\"},\"colorscale\":[[0.0,\"#0d0887\"],[0.1111111111111111,\"#46039f\"],[0.2222222222222222,\"#7201a8\"],[0.3333333333333333,\"#9c179e\"],[0.4444444444444444,\"#bd3786\"],[0.5555555555555556,\"#d8576b\"],[0.6666666666666666,\"#ed7953\"],[0.7777777777777778,\"#fb9f3a\"],[0.8888888888888888,\"#fdca26\"],[1.0,\"#f0f921\"]]}],\"contourcarpet\":[{\"type\":\"contourcarpet\",\"colorbar\":{\"outlinewidth\":0,\"ticks\":\"\"}}],\"contour\":[{\"type\":\"contour\",\"colorbar\":{\"outlinewidth\":0,\"ticks\":\"\"},\"colorscale\":[[0.0,\"#0d0887\"],[0.1111111111111111,\"#46039f\"],[0.2222222222222222,\"#7201a8\"],[0.3333333333333333,\"#9c179e\"],[0.4444444444444444,\"#bd3786\"],[0.5555555555555556,\"#d8576b\"],[0.6666666666666666,\"#ed7953\"],[0.7777777777777778,\"#fb9f3a\"],[0.8888888888888888,\"#fdca26\"],[1.0,\"#f0f921\"]]}],\"surface\":[{\"type\":\"surface\",\"colorbar\":{\"outlinewidth\":0,\"ticks\":\"\"},\"colorscale\":[[0.0,\"#0d0887\"],[0.1111111111111111,\"#46039f\"],[0.2222222222222222,\"#7201a8\"],[0.3333333333333333,\"#9c179e\"],[0.4444444444444444,\"#bd3786\"],[0.5555555555555556,\"#d8576b\"],[0.6666666666666666,\"#ed7953\"],[0.7777777777777778,\"#fb9f3a\"],[0.8888888888888888,\"#fdca26\"],[1.0,\"#f0f921\"]]}],\"mesh3d\":[{\"type\":\"mesh3d\",\"colorbar\":{\"outlinewidth\":0,\"ticks\":\"\"}}],\"scatter\":[{\"fillpattern\":{\"fillmode\":\"overlay\",\"size\":10,\"solidity\":0.2},\"type\":\"scatter\"}],\"parcoords\":[{\"type\":\"parcoords\",\"line\":{\"colorbar\":{\"outlinewidth\":0,\"ticks\":\"\"}}}],\"scatterpolargl\":[{\"type\":\"scatterpolargl\",\"marker\":{\"colorbar\":{\"outlinewidth\":0,\"ticks\":\"\"}}}],\"bar\":[{\"error_x\":{\"color\":\"#2a3f5f\"},\"error_y\":{\"color\":\"#2a3f5f\"},\"marker\":{\"line\":{\"color\":\"#E5ECF6\",\"width\":0.5},\"pattern\":{\"fillmode\":\"overlay\",\"size\":10,\"solidity\":0.2}},\"type\":\"bar\"}],\"scattergeo\":[{\"type\":\"scattergeo\",\"marker\":{\"colorbar\":{\"outlinewidth\":0,\"ticks\":\"\"}}}],\"scatterpolar\":[{\"type\":\"scatterpolar\",\"marker\":{\"colorbar\":{\"outlinewidth\":0,\"ticks\":\"\"}}}],\"histogram\":[{\"marker\":{\"pattern\":{\"fillmode\":\"overlay\",\"size\":10,\"solidity\":0.2}},\"type\":\"histogram\"}],\"scattergl\":[{\"type\":\"scattergl\",\"marker\":{\"colorbar\":{\"outlinewidth\":0,\"ticks\":\"\"}}}],\"scatter3d\":[{\"type\":\"scatter3d\",\"line\":{\"colorbar\":{\"outlinewidth\":0,\"ticks\":\"\"}},\"marker\":{\"colorbar\":{\"outlinewidth\":0,\"ticks\":\"\"}}}],\"scattermapbox\":[{\"type\":\"scattermapbox\",\"marker\":{\"colorbar\":{\"outlinewidth\":0,\"ticks\":\"\"}}}],\"scatterternary\":[{\"type\":\"scatterternary\",\"marker\":{\"colorbar\":{\"outlinewidth\":0,\"ticks\":\"\"}}}],\"scattercarpet\":[{\"type\":\"scattercarpet\",\"marker\":{\"colorbar\":{\"outlinewidth\":0,\"ticks\":\"\"}}}],\"carpet\":[{\"aaxis\":{\"endlinecolor\":\"#2a3f5f\",\"gridcolor\":\"white\",\"linecolor\":\"white\",\"minorgridcolor\":\"white\",\"startlinecolor\":\"#2a3f5f\"},\"baxis\":{\"endlinecolor\":\"#2a3f5f\",\"gridcolor\":\"white\",\"linecolor\":\"white\",\"minorgridcolor\":\"white\",\"startlinecolor\":\"#2a3f5f\"},\"type\":\"carpet\"}],\"table\":[{\"cells\":{\"fill\":{\"color\":\"#EBF0F8\"},\"line\":{\"color\":\"white\"}},\"header\":{\"fill\":{\"color\":\"#C8D4E3\"},\"line\":{\"color\":\"white\"}},\"type\":\"table\"}],\"barpolar\":[{\"marker\":{\"line\":{\"color\":\"#E5ECF6\",\"width\":0.5},\"pattern\":{\"fillmode\":\"overlay\",\"size\":10,\"solidity\":0.2}},\"type\":\"barpolar\"}],\"pie\":[{\"automargin\":true,\"type\":\"pie\"}]},\"layout\":{\"autotypenumbers\":\"strict\",\"colorway\":[\"#636efa\",\"#EF553B\",\"#00cc96\",\"#ab63fa\",\"#FFA15A\",\"#19d3f3\",\"#FF6692\",\"#B6E880\",\"#FF97FF\",\"#FECB52\"],\"font\":{\"color\":\"#2a3f5f\"},\"hovermode\":\"closest\",\"hoverlabel\":{\"align\":\"left\"},\"paper_bgcolor\":\"white\",\"plot_bgcolor\":\"#E5ECF6\",\"polar\":{\"bgcolor\":\"#E5ECF6\",\"angularaxis\":{\"gridcolor\":\"white\",\"linecolor\":\"white\",\"ticks\":\"\"},\"radialaxis\":{\"gridcolor\":\"white\",\"linecolor\":\"white\",\"ticks\":\"\"}},\"ternary\":{\"bgcolor\":\"#E5ECF6\",\"aaxis\":{\"gridcolor\":\"white\",\"linecolor\":\"white\",\"ticks\":\"\"},\"baxis\":{\"gridcolor\":\"white\",\"linecolor\":\"white\",\"ticks\":\"\"},\"caxis\":{\"gridcolor\":\"white\",\"linecolor\":\"white\",\"ticks\":\"\"}},\"coloraxis\":{\"colorbar\":{\"outlinewidth\":0,\"ticks\":\"\"}},\"colorscale\":{\"sequential\":[[0.0,\"#0d0887\"],[0.1111111111111111,\"#46039f\"],[0.2222222222222222,\"#7201a8\"],[0.3333333333333333,\"#9c179e\"],[0.4444444444444444,\"#bd3786\"],[0.5555555555555556,\"#d8576b\"],[0.6666666666666666,\"#ed7953\"],[0.7777777777777778,\"#fb9f3a\"],[0.8888888888888888,\"#fdca26\"],[1.0,\"#f0f921\"]],\"sequentialminus\":[[0.0,\"#0d0887\"],[0.1111111111111111,\"#46039f\"],[0.2222222222222222,\"#7201a8\"],[0.3333333333333333,\"#9c179e\"],[0.4444444444444444,\"#bd3786\"],[0.5555555555555556,\"#d8576b\"],[0.6666666666666666,\"#ed7953\"],[0.7777777777777778,\"#fb9f3a\"],[0.8888888888888888,\"#fdca26\"],[1.0,\"#f0f921\"]],\"diverging\":[[0,\"#8e0152\"],[0.1,\"#c51b7d\"],[0.2,\"#de77ae\"],[0.3,\"#f1b6da\"],[0.4,\"#fde0ef\"],[0.5,\"#f7f7f7\"],[0.6,\"#e6f5d0\"],[0.7,\"#b8e186\"],[0.8,\"#7fbc41\"],[0.9,\"#4d9221\"],[1,\"#276419\"]]},\"xaxis\":{\"gridcolor\":\"white\",\"linecolor\":\"white\",\"ticks\":\"\",\"title\":{\"standoff\":15},\"zerolinecolor\":\"white\",\"automargin\":true,\"zerolinewidth\":2},\"yaxis\":{\"gridcolor\":\"white\",\"linecolor\":\"white\",\"ticks\":\"\",\"title\":{\"standoff\":15},\"zerolinecolor\":\"white\",\"automargin\":true,\"zerolinewidth\":2},\"scene\":{\"xaxis\":{\"backgroundcolor\":\"#E5ECF6\",\"gridcolor\":\"white\",\"linecolor\":\"white\",\"showbackground\":true,\"ticks\":\"\",\"zerolinecolor\":\"white\",\"gridwidth\":2},\"yaxis\":{\"backgroundcolor\":\"#E5ECF6\",\"gridcolor\":\"white\",\"linecolor\":\"white\",\"showbackground\":true,\"ticks\":\"\",\"zerolinecolor\":\"white\",\"gridwidth\":2},\"zaxis\":{\"backgroundcolor\":\"#E5ECF6\",\"gridcolor\":\"white\",\"linecolor\":\"white\",\"showbackground\":true,\"ticks\":\"\",\"zerolinecolor\":\"white\",\"gridwidth\":2}},\"shapedefaults\":{\"line\":{\"color\":\"#2a3f5f\"}},\"annotationdefaults\":{\"arrowcolor\":\"#2a3f5f\",\"arrowhead\":0,\"arrowwidth\":1},\"geo\":{\"bgcolor\":\"white\",\"landcolor\":\"#E5ECF6\",\"subunitcolor\":\"white\",\"showland\":true,\"showlakes\":true,\"lakecolor\":\"white\"},\"title\":{\"x\":0.05},\"mapbox\":{\"style\":\"light\"}}},\"xaxis\":{\"anchor\":\"y\",\"domain\":[0.0,1.0],\"title\":{\"text\":\"Year\"}},\"yaxis\":{\"anchor\":\"x\",\"domain\":[0.0,1.0],\"title\":{\"text\":\"All ages\"}},\"legend\":{\"title\":{\"text\":\"Drug type\"},\"tracegroupgap\":0},\"margin\":{\"t\":60},\"height\":400,\"width\":900},                        {\"responsive\": true}                    ).then(function(){\n",
       "                            \n",
       "var gd = document.getElementById('cbbcb301-fef7-44a5-a16b-b483b6ed5c2f');\n",
       "var x = new MutationObserver(function (mutations, observer) {{\n",
       "        var display = window.getComputedStyle(gd).display;\n",
       "        if (!display || display === 'none') {{\n",
       "            console.log([gd, 'removed!']);\n",
       "            Plotly.purge(gd);\n",
       "            observer.disconnect();\n",
       "        }}\n",
       "}});\n",
       "\n",
       "// Listen for the removal of the full notebook cells\n",
       "var notebookContainer = gd.closest('#notebook-container');\n",
       "if (notebookContainer) {{\n",
       "    x.observe(notebookContainer, {childList: true});\n",
       "}}\n",
       "\n",
       "// Listen for the clearing of the current output cell\n",
       "var outputEl = gd.closest('.output');\n",
       "if (outputEl) {{\n",
       "    x.observe(outputEl, {childList: true});\n",
       "}}\n",
       "\n",
       "                        })                };                });            </script>        </div>"
      ]
     },
     "metadata": {},
     "output_type": "display_data"
    }
   ],
   "source": [
    "# df = px.data.tips()\n",
    "fig = px.line(maleGroup, x=\"Year\", y=\"All ages\", color=\"Drug type\", markers=True, width=900, height=400)\n",
    "\n",
    "fig.show()"
   ]
  },
  {
   "cell_type": "code",
   "execution_count": null,
   "id": "43568f7f-1c72-4931-9400-425f961dde42",
   "metadata": {},
   "outputs": [],
   "source": [
    "comment_words = ''\n",
    "stopwords = set(STOPWORDS)\n",
    "\n",
    "# text = ' '.join(text)\n",
    " \n",
    "# iterate through the csv file\n",
    "for val in drugArray:\n",
    "     \n",
    "    # typecaste each val to string\n",
    "    val = str(val)\n",
    " \n",
    "    # split the value\n",
    "    tokens = val.split()\n",
    "     \n",
    "    # Converts each token into lowercase\n",
    "    for i in range(len(tokens)):\n",
    "        tokens[i] = tokens[i].lower()\n",
    "     \n",
    "    comment_words += ' '.join(tokens)+' '\n",
    " \n",
    "wordcloud = WordCloud(width = 800, height = 800,\n",
    "                background_color ='white',\n",
    "                stopwords = stopwords,\n",
    "                min_font_size = 10).generate(comment_words)\n",
    " \n",
    "# plot the WordCloud image                      \n",
    "plt.figure(figsize = (8, 8), facecolor = None)\n",
    "plt.imshow(wordcloud)\n",
    "plt.axis(\"off\")\n",
    "plt.tight_layout(pad = 0)\n",
    " \n",
    "plt.show()"
   ]
  },
  {
   "cell_type": "code",
   "execution_count": null,
   "id": "fc225cdf-7163-4a68-856b-5bca9d05f137",
   "metadata": {},
   "outputs": [],
   "source": [
    "drugType.unique()"
   ]
  },
  {
   "cell_type": "code",
   "execution_count": null,
   "id": "c3cb5565-263f-4121-80ae-6b66e9fff193",
   "metadata": {},
   "outputs": [],
   "source": [
    "# Create and generate a word cloud image:\n",
    "\n",
    "wordcloud = WordCloud().generate(str(drugArray))\n",
    "\n",
    "# wordcloud.generate_from_frequencies(str(drugArray))\n",
    "\n",
    "# wordcloud = WordCloud().generate(str(drugArray))\n",
    "\n",
    "# Display the generated image:\n",
    "plt.imshow(wordcloud, interpolation='bilinear')\n",
    "plt.axis(\"off\")\n",
    "plt.show()\n"
   ]
  },
  {
   "cell_type": "code",
   "execution_count": null,
   "id": "62638cc4-e0db-4acd-84ca-6e8ac4c96e5a",
   "metadata": {},
   "outputs": [],
   "source": []
  },
  {
   "cell_type": "code",
   "execution_count": null,
   "id": "a64a5117-c968-4674-9501-021dfb94a046",
   "metadata": {},
   "outputs": [],
   "source": [
    "#word cloud with drug type \n",
    "\n",
    "text = ' '.join(i for i in outputList)\n",
    "\n",
    "# text = drugDf['Drug type'].str.cat(sep=' ')\n",
    "\n",
    "wordcloud = WordCloud(background_color = 'lightblue', width = 1200, height = 800).generate(str(text))\n",
    "\n",
    "plt.rcParams['figure.figsize'] = (15, 15)\n",
    "plt.title('Word Cloud - Drug Types', fontsize = 25)\n",
    "print(wordcloud)\n",
    "plt.axis('off')\n",
    "plt.imshow(wordcloud)\n",
    "plt.show()\n",
    "\n"
   ]
  },
  {
   "cell_type": "code",
   "execution_count": null,
   "id": "8790c344-17ab-4c21-98ee-3b301f75819b",
   "metadata": {},
   "outputs": [],
   "source": []
  }
 ],
 "metadata": {
  "kernelspec": {
   "display_name": "Python 3 (ipykernel)",
   "language": "python",
   "name": "python3"
  },
  "language_info": {
   "codemirror_mode": {
    "name": "ipython",
    "version": 3
   },
   "file_extension": ".py",
   "mimetype": "text/x-python",
   "name": "python",
   "nbconvert_exporter": "python",
   "pygments_lexer": "ipython3",
   "version": "3.9.13"
  }
 },
 "nbformat": 4,
 "nbformat_minor": 5
}
